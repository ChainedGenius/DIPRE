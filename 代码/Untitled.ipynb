{
 "cells": [
  {
   "cell_type": "code",
   "execution_count": 1,
   "metadata": {},
   "outputs": [
    {
     "name": "stdout",
     "output_type": "stream",
     "text": [
      "100081\n"
     ]
    }
   ],
   "source": [
    "import re\n",
    "match = re.search(r'[1-9]\\d{5}','BIT 100081')\n",
    "if match:\n",
    "    print(match.group(0))"
   ]
  },
  {
   "cell_type": "code",
   "execution_count": 11,
   "metadata": {},
   "outputs": [
    {
     "name": "stdout",
     "output_type": "stream",
     "text": [
      "<re.Match object; span=(0, 6), match='100408'>\n"
     ]
    }
   ],
   "source": [
    "import re\n",
    "match = re.match(r'[1-9]\\d{5}','1004081')\n",
    "if match:\n",
    "    print(match.group(0))  #NULL\n"
   ]
  },
  {
   "cell_type": "code",
   "execution_count": 6,
   "metadata": {},
   "outputs": [
    {
     "name": "stdout",
     "output_type": "stream",
     "text": [
      "['100081', '100084']\n"
     ]
    }
   ],
   "source": [
    "import re\n",
    "ls = re.findall(r'[1-9]\\d{5}', 'BIT100081 TSU100084')\n",
    "print(ls)"
   ]
  },
  {
   "cell_type": "code",
   "execution_count": 13,
   "metadata": {},
   "outputs": [
    {
     "name": "stdout",
     "output_type": "stream",
     "text": [
      "<re.Match object; span=(3, 9), match='100081'>\n",
      "<re.Match object; span=(13, 19), match='100089'>\n",
      "<re.Match object; span=(22, 28), match='135245'>\n"
     ]
    }
   ],
   "source": [
    "import re\n",
    "for m in re.finditer(r'[1-9]\\d{5}', 'BIT100081 TSU100089 AA135245'):\n",
    "    if m:\n",
    "        print(m) #100081 100084"
   ]
  },
  {
   "cell_type": "code",
   "execution_count": null,
   "metadata": {},
   "outputs": [],
   "source": []
  }
 ],
 "metadata": {
  "kernelspec": {
   "display_name": "Python 3",
   "language": "python",
   "name": "python3"
  },
  "language_info": {
   "codemirror_mode": {
    "name": "ipython",
    "version": 3
   },
   "file_extension": ".py",
   "mimetype": "text/x-python",
   "name": "python",
   "nbconvert_exporter": "python",
   "pygments_lexer": "ipython3",
   "version": "3.7.0"
  }
 },
 "nbformat": 4,
 "nbformat_minor": 2
}
