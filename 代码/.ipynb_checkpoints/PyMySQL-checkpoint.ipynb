{
 "cells": [
  {
   "cell_type": "code",
   "execution_count": 90,
   "metadata": {},
   "outputs": [
    {
     "name": "stdout",
     "output_type": "stream",
     "text": [
      "Database version : 10.1.9-MariaDB \n"
     ]
    }
   ],
   "source": [
    "import pymysql\n",
    " \n",
    "# 打开数据库连接\n",
    "db = pymysql.connect(\"localhost\",\"root\",\"\",\"DIPRE\" )\n",
    " \n",
    "# 使用 cursor() 方法创建一个游标对象 cursor\n",
    "cursor = db.cursor()\n",
    " \n",
    "# 使用 execute()  方法执行 SQL 查询 \n",
    "cursor.execute(\"SELECT VERSION()\")\n",
    " \n",
    "# 使用 fetchone() 方法获取单条数据.\n",
    "data = cursor.fetchone()\n",
    "\n",
    "cursor.close()\n",
    " \n",
    "print (\"Database version : %s \" % data)"
   ]
  },
  {
   "cell_type": "code",
   "execution_count": 97,
   "metadata": {},
   "outputs": [
    {
     "name": "stdout",
     "output_type": "stream",
     "text": [
      "添加成功\n"
     ]
    }
   ],
   "source": [
    "def Inserte(url , text):\n",
    "    cursor = db.cursor()\n",
    "#     sql = \"INSERT INTO webpage(url,text) VALUES ('google.com', 's1231 asdfasdf dsa')\"\n",
    "#     print(sql)\n",
    "#     sql = \"INSERT INTO webpage(url,text) VALUES ('\"+url+\"','\"+text+\"')\"\n",
    "#     print(sql)\n",
    "    sql = \"INSERT INTO webpage(url,text) VALUES ('%s','%s')\" % (url , text)\n",
    "#     print(sql)\n",
    "    try:\n",
    "        cursor.execute(sql)\n",
    "        db.commit()\n",
    "        print(\"添加成功\")\n",
    "    except:\n",
    "        db.rollback()\n",
    "        print(\"添加失败\")\n",
    "    cursor.close()\n",
    "Inserte(\"mysql.com\",\"1561sdfsferf asdfasdf a\")"
   ]
  },
  {
   "cell_type": "code",
   "execution_count": 71,
   "metadata": {},
   "outputs": [
    {
     "name": "stdout",
     "output_type": "stream",
     "text": [
      "My name is Zara and weight is 21 kg!\n"
     ]
    }
   ],
   "source": [
    "print(\"My name is %s and weight is %d kg!\" % ('Zara', 21))"
   ]
  },
  {
   "cell_type": "code",
   "execution_count": 92,
   "metadata": {},
   "outputs": [
    {
     "name": "stdout",
     "output_type": "stream",
     "text": [
      "删除成功\n"
     ]
    }
   ],
   "source": [
    "def Delete(id):\n",
    "    cursor = db.cursor()\n",
    "    sql = \"delete from webpage where id = %d\" % (id)\n",
    "#     print(sql)\n",
    "    try:\n",
    "        cursor.execute(sql)\n",
    "        db.commit()\n",
    "        print(\"删除成功\")\n",
    "    except:\n",
    "        db.rollback()\n",
    "        print(\"删除失败\")\n",
    "    cursor.close()\n",
    "Delete(5)"
   ]
  },
  {
   "cell_type": "code",
   "execution_count": 93,
   "metadata": {},
   "outputs": [
    {
     "name": "stdout",
     "output_type": "stream",
     "text": [
      "update webpage set url = 'mysql.com', text = '666777aaaaaaa' where id = 6\n",
      "修改成功\n"
     ]
    }
   ],
   "source": [
    "def Update(id,url,text):\n",
    "    cursor = db.cursor()\n",
    "    sql = \"update webpage set url = '%s', text = '%s' where id = %d\" % (url , text , id)\n",
    "    print(sql)\n",
    "    try:\n",
    "        cursor.execute(sql)\n",
    "        db.commit()\n",
    "        print(\"修改成功\")\n",
    "    except:\n",
    "        db.rollback()\n",
    "        print(\"修改失败\")\n",
    "    cursor.close()\n",
    "Update(6,\"mysql.com\",\"666777aaaaaaa\")"
   ]
  },
  {
   "cell_type": "code",
   "execution_count": 95,
   "metadata": {},
   "outputs": [
    {
     "name": "stdout",
     "output_type": "stream",
     "text": [
      "((6, 'mysql.com', '666777aaaaaaa'), (7, 'mysql.com', '1561sdfsferf asdfasdf a'))\n"
     ]
    }
   ],
   "source": [
    "def QueryAll():\n",
    "    cursor = db.cursor()\n",
    "    sql = \"select * from webpage\"\n",
    "    try:\n",
    "        cursor.execute(sql)\n",
    "        results = cursor.fetchall()\n",
    "        for row in results:\n",
    "            wid = row[0]\n",
    "            url = row[1]\n",
    "            text = row[2]\n",
    "    except:\n",
    "        db.rollback()\n",
    "    cursor.close()\n",
    "    print(results)\n",
    "QueryAll()"
   ]
  },
  {
   "cell_type": "code",
   "execution_count": null,
   "metadata": {},
   "outputs": [],
   "source": []
  }
 ],
 "metadata": {
  "kernelspec": {
   "display_name": "Python 3",
   "language": "python",
   "name": "python3"
  },
  "language_info": {
   "codemirror_mode": {
    "name": "ipython",
    "version": 3
   },
   "file_extension": ".py",
   "mimetype": "text/x-python",
   "name": "python",
   "nbconvert_exporter": "python",
   "pygments_lexer": "ipython3",
   "version": "3.7.0"
  }
 },
 "nbformat": 4,
 "nbformat_minor": 2
}
