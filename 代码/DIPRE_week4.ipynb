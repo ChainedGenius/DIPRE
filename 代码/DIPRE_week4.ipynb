{
 "cells": [
  {
   "cell_type": "code",
   "execution_count": 115,
   "metadata": {},
   "outputs": [],
   "source": [
    "import re\n",
    "import pymysql\n",
    "from operator import itemgetter\n",
    "from itertools import groupby\n",
    "CONST_M = 20 # 定义常量m，在记录事件时使用\n",
    "\n",
    "db = pymysql.connect(\"localhost\",\"root\",\"\",\"DIPRE\" ) # 连接数据库\n",
    "cursor = db.cursor()\n",
    "cursor.close()"
   ]
  },
  {
   "cell_type": "code",
   "execution_count": 134,
   "metadata": {},
   "outputs": [
    {
     "data": {
      "text/plain": [
       "[{'id': 6,\n",
       "  'url': 'www.books.com/TopRated',\n",
       "  'text': 'The famous writer Charles Dickens wrote Great Expectations book'},\n",
       " {'id': 7,\n",
       "  'url': 'www.books.com/BestSeller',\n",
       "  'text': \"The famous writer Ernest Miller Hemingway wrote The Old Man and the Sea book The great writer Jonathan Swift wrote GULLIVER’S TRAVELS book The amazing writer Charles Dickens wrote Pickwick Papers bookThe great writer Nicholas Sparks wrote The Last Song book The amazing writer W. William Shakespeare wrote A Midsummer Night's Dream book\"},\n",
       " {'id': 8,\n",
       "  'url': 'www.rainydaypaperback.com/',\n",
       "  'text': 'Love in the Mortar Joints: The Story of Habitat for Humanity By: \"Fuller, Millard, Scott, Diane\" Price:\\xa0$36.00 \"Assassin\\'s Quest (The Farseer Trilogy, Book 3)\" By: \"Hobb, Robin\" Price:\\xa0$34.50 Eclipse (Twilight) By: \"Meyer, Stephenie\" Price:\\xa0$28.50 \"Eldest (Inheritance, Book 2)\" By: \"Paolini, Christopher\" Price:\\xa0$27.50 New Moon (Twilight) By: \"Meyer, Stephenie\" Price:\\xa0$27.00 Deviant Moon Tarot By: Patrick Valenza Price:\\xa0$25.95 The Sheikh\\'s Secret Son (The Fortunes of Texas) By: \"Michaels, Kasey\" Price:\\xa0$25.50 City of Heavenly Fire (The Mortal Instruments) By: \"Clare, Cassandra\" Price:\\xa0$25.00'},\n",
       " {'id': 9,\n",
       "  'url': 'www.rainydaypaperback.com/products/category/3107/~/~/adventure',\n",
       "  'text': '\\'Rock Climbing (Adventure Sports)\\' By:\\xa0\"Barry, John, Shepherd, Nigel\" Price:\\xa0$7.95 \"The Action Hero\\'s Handbook: How to Catch a Great White Shark, Perform the Vulcan Nerve Pinch, Track a Fugitive, and Dozens of Other TV and Movie Skills\" By:\\xa0\"Borgenicht, David, Borgenicht, Joe\" Price:\\xa0$7.45 \"Anne Bonny, Pirate Queen: The True Saga of a Fabulous Female Buccaneer)\" By:\\xa0\"Brown, Douglas\" Price:\\xa0$7.95 \"Pellucidar (Pellucidar, No 2)\" By:\\xa0\"Burroughs, Edgar Rice\" Price:\\xa0$1.95 One Thousand Metres Down: True Adventures Under the Earth By:\\xa0\"Cadoux, Jean\" Price:\\xa0$13.95 \"Finding New England\\'s Shipwrecks and Treasures (Collectible Classics, No. 6)\" By:\\xa0\"Cahill, Robert E.\" Price:\\xa0$3.00 Indiana Jones and the Sky Pirates By:\\xa0\"Caidin, Martin\" Price:\\xa0$2.50'},\n",
       " {'id': 10,\n",
       "  'url': 'www.rainydaypaperback.com/products/category/3597/~/~/alternate-thinking',\n",
       "  'text': '\"Beginning with the End: God, Science, and Wolfhart Pannenberg\" By:\\xa0\"Albright, Carol\" Price:\\xa0$9.00 Publisher: Open Court: Seller ID: 9780812693263 ISBN: 0812693264 Condition: very good The Spirit of the Chinese Character: Gifts from the Heart By:\\xa0\"Aria, Barbara\" Price:\\xa0$7.45 Publisher: Chronicle Books: Seller ID: 9780811801423 ISBN: 081180142X Condition: GOOD What the Bleep Do We Know!?â„¢: Discovering the Endless Possibilities for Altering Your Everyday Reality By:\\xa0\"Arntz, William, Chasse, Betsy, Vicente, Mark\" Price:\\xa0$13.45 Publisher: HCI: Seller ID: 9780757303340 ISBN: 075730334X Condition: GOOD'},\n",
       " {'id': 11,\n",
       "  'url': 'e.dangdang.com/list-WY1-dd_sale-0-1.html',\n",
       "  'text': '<div class=\"book book_list clearfix\" id=\"book_list\"> <a dd_name=\"（法）加缪,金祎（译）\" href=\"http://e.dangdang.com/products/1901114047.html\" target=\"_blank\" title=\"局外人\"> <span class=\"bookcover\"> <img alt=\"局外人\" src=\"http://img60.ddimg.cn/digital/product/40/47/1901114047_ii_cover.jpg?version=86d7497b-4c3f-400d-a223-f8ecb2155f97\"/> </span> <div class=\"bookinfo\"> <div class=\"title\">局外人</div> <div class=\"author\">（法）加缪,金祎（译）</div> <div class=\"startie\"></div> <div class=\"price\"> <span class=\"now\">￥5.99</span> </div> <div class=\"des\">\\u3000\\u3000公司小职员默尔索因杀人而被法庭指控，却因为“在母亲下葬时没有哭泣”，被判处了死刑。 \\u3000\\u3000在我们的社会里，任何不在他母亲葬礼上哭泣的人，都有可能被处以死刑。——加缪</div> </div> </a> <a dd_name=\"村上春树\" href=\"http://e.dangdang.com/products/1901116147.html\" target=\"_blank\" title=\"海边的卡夫卡\"> <span class=\"bookcover\"> <img alt=\"此书参加电子书49元5本\" class=\"promotion_label\" src=\"http://img63.ddimg.cn/web/pcbookstore/nyc2x.png\"/> <img alt=\"海边的卡夫卡\" src=\"http://img61.ddimg.cn/digital/product/61/47/1901116147_ii_cover.jpg?version=ebb99a3e-cb1f-4d7d-ba6d-59c3a9026f7d\"/> </span> <div class=\"bookinfo\"> <div class=\"title\">海边的卡夫卡</div> <div class=\"author\">村上春树</div> <div class=\"startie\"></div> <div class=\"price\"> <span class=\"now\">￥14.99</span> </div> <div class=\"des\">本书是村上春树仅次于《挪威的森林》的重要长篇小说，以其独特风格的两条平行线展。一条平行线是少年“田村卡夫卡”，为了挣脱“你要亲手杀死父亲，与母亲乱伦”的诅咒，离家乡投成人世界。此后父亲在家被杀，他却疑心自己是在睡梦中杀父。他在一座旧图书馆遇到一位50岁的优雅女性，梦中却与这位女性的少女形象交合，而这位女性又可能是他的生母。一条平行线是一名失忆老人中田，因为一桩离奇的杀人事件走上逃亡之路，在汽车司机星野的帮助下恢复了遥远的战争记忆。书中对日本军国主义的复活表达了忧虑，对日本的文化传统作出了反思。本书平装本2003年由我社初版，此后于2007年更换了封面，并作了修订。2014年，我社又出版了本书的精装本，再次作了修订。因上一个平装本封面已经10年未变，故第三次更换本书封面设计，使这部名作焕发新的活力。</div> </div> </a> <a dd_name=\"李尚龙\" href=\"http://e.dangdang.com/products/1901115247.html\" target=\"_blank\" title=\"人设\"> <span class=\"bookcover\"> <img alt=\"此书参加电子书49元5本\" class=\"promotion_label\" src=\"http://img63.ddimg.cn/web/pcbookstore/nyc2x.png\"/> <img alt=\"人设\" src=\"http://img62.ddimg.cn/digital/product/52/47/1901115247_ii_cover.jpg?version=e70386e9-db77-47a8-8e5a-944f6f0ceda1\"/> </span> <div class=\"bookinfo\"> <div class=\"title\">人设</div> <div class=\"author\">李尚龙</div> <div class=\"startie\"></div> <div class=\"price\"> <span class=\"now\">￥10.99</span> </div> <div class=\"des\">这是一个人人都拥有人设的时代，也是人设集体崩塌的时代。 我们每天都扮演着别人，却忘记了自己是谁。 李尚龙全新揭穿人生假面的长篇小说《人设》，是对社会上“人设”这个话题更深的一次思考。 在这个假面横行的时代，人设崩塌意味着什么，生活的本质是什么，什么又是真正的自己？愿你在这本书的故事中找到答案。</div> </div> </a> <a dd_name=\"(日)东野圭吾\" href=\"http://e.dangdang.com/products/1900471202.html\" target=\"_blank\" title=\"白夜行(易烊千玺、邓伦推荐，东野圭吾无冕之王我一直走在白夜里，从来就没有太阳，所以不怕失去)\"> <span class=\"bookcover\"> <img alt=\"白夜行(易烊千玺、邓伦推荐，东野圭吾无冕之王我一直走在白夜里，从来就没有太阳，所以不怕失去)\" src=\"http://img62.ddimg.cn/digital/product/12/2/1900471202_ii_cover.jpg?version=3e8ffeb0-5440-4bb8-b499-aa7b3758bb4355\"/> </span> <div class=\"bookinfo\"> <div class=\"title\">白夜行(易烊千玺、邓伦推荐，东野圭吾无冕之王我一直走在白夜里，从来就没有太阳，所以不怕失去)</div> <div class=\"author\">(日)东野圭吾</div> <div class=\"startie\"></div> <div class=\"price\"> <span class=\"now\">￥19.99</span> </div> <div class=\"des\">公园出现在右边，大小足以容纳两场三垒棒球开打，丛林越野游戏、秋千、滑梯等公园常见的游乐设施一应俱全。这座公园是附近*的一座，正式名称叫真澄公园。</div> </div> </a> <a dd_name=\"加西亚·马尔克斯\" href=\"http://e.dangdang.com/products/1901076610.html\" target=\"_blank\" title=\"百年孤独 马尔克斯代表作\"> <span class=\"bookcover\"> <img alt=\"百年孤独 马尔克斯代表作\" src=\"http://img62.ddimg.cn/digital/product/66/10/1901076610_ii_cover.jpg?version=e29af1af-639f-4c1b-bf21-ad2134c873f8\"/> </span> <div class=\"bookinfo\"> <div class=\"title\">百年孤独 马尔克斯代表作</div> <div class=\"author\">加西亚·马尔克斯</div> <div class=\"startie\"></div> <div class=\"price\"> <span class=\"now\">￥35.99</span> </div> <div class=\"des\">《百年孤独》是魔幻现实主义文学的代表作，描写了布恩迪亚家族七代人的传奇故事，以及加勒比海沿岸小镇马孔多的百年兴衰，反映了拉丁美洲一个世纪以来风云变幻的历史。作品融神话传说、民间故事、宗教典故等因素，巧妙地糅合了现实与虚幻，展现出一个瑰丽的想象世界，成为20世纪重要的经典文学巨著。1982年加西亚·马尔克斯获得诺贝尔文学奖，奠定*文学大师的地位，很大程度上便是凭借《百年孤独》的巨大影响。</div> </div> </a> <a dd_name=\"末那大叔\" href=\"http://e.dangdang.com/products/1901113857.html\" target=\"_blank\" title=\"我喜欢你，像风走了八千里\"> <span class=\"bookcover\"> <img alt=\"我喜欢你，像风走了八千里\" src=\"http://img60.ddimg.cn/digital/product/38/57/1901113857_ii_cover.jpg?version=cffba8bb-16e8-4264-8917-c1919a477334\"/> </span> <div class=\"bookinfo\"> <div class=\"title\">我喜欢你，像风走了八千里</div> <div class=\"author\">末那大叔</div> <div class=\"startie\"></div> <div class=\"price\"> <span class=\"now\">￥6.99</span> </div> <div class=\"des\">每个人心里都这样爱过一个人，不知疲惫，不问归期。《我喜欢你，像风走了八千里》是知名情感励志公众号“末那大叔”首本图书作品集，全书分为情话、前任、治愈、情商、解忧、厨房与爱，六个章节，写出每一个人在生活里不可或缺的主题。面对相聚和离散，爱的时候好好相爱，散的时候不计前嫌。面对前任互不扰，对待爱人不离不弃。人生就像是一场消耗之旅，愿你能把好的时光，耗在自己喜欢的人和事上。</div> </div> </a> <a dd_name=\"常书欣\" href=\"http://e.dangdang.com/products/1900652073.html\" target=\"_blank\" title=\"余罪：我的刑侦笔记(1-8册)\"> <span class=\"bookcover\"> <img alt=\"余罪：我的刑侦笔记(1-8册)\" src=\"http://img61.ddimg.cn/digital/product/20/73/1900652073_ii_cover.jpg?version=f2d2afa3-ed6b-4799-991a-dddce4a7eea1\"/> </span> <div class=\"bookinfo\"> <div class=\"title\">余罪：我的刑侦笔记(1-8册)</div> <div class=\"author\">常书欣</div> <div class=\"startie\"></div> <div class=\"price\"> <span class=\"now\">￥19.99</span> </div> <div class=\"des\">本书为您揭开的是一张令人触目惊心的当下社会犯罪网络。从混迹人群中的扒手，到躲在深山老林里的悍匪，从横行街头的流氓，到逡巡在海岸线边缘的毒枭；他们似乎离我们很远，似乎又很近，看似悄无声息，却又如影随形；作者所描写的，正是这个光怪陆离而又真实存在的地下世界。 警校学员余罪，在通过一次意外的选拔之后，被丢进了一间住满凶神恶煞的罪犯的牢房，他迅速发现，要在这个凶险万状的环境中活下来，自己必须比毒贩更奸诈，比窃贼更狡猾，比匪徒更残忍。他不仅要用罪犯的思维去理解犯罪，还要用罪犯的手段去对抗犯罪，更要和罪犯一样突破种种底线。在日复一日命悬一线的斗争中，余罪一步步走到了法律的边缘，他也开始怀疑：自己到底是在制止犯罪，还是也在犯罪…… 小说格局开阔，文笔生动，不仅向你打开了一个前所未闻的地下世界，其中近百个性格鲜明的警察和罪犯形象，更是栩栩如生，犹在眼前。 翻开本书，进入我们这个时代的灰色地带。</div> </div> </a> <a dd_name=\"威廉·萨默赛特·毛姆\" href=\"http://e.dangdang.com/products/1900631943.html\" target=\"_blank\" title=\"毛姆作品集（套装共12册）\"> <span class=\"bookcover\"> <img alt=\"毛姆作品集（套装共12册）\" src=\"http://img61.ddimg.cn/digital/product/19/43/1900631943_ii_cover.jpg?version=a688c0be-e91c-4623-aa44-fa95f44289c3\"/> </span> <div class=\"bookinfo\"> <div class=\"title\">毛姆作品集（套装共12册）</div> <div class=\"author\">威廉·萨默赛特·毛姆</div> <div class=\"startie\"></div> <div class=\"price\"> <span class=\"now\">￥153.00</span> </div> <div class=\"des\">《毛姆作品》是英国作家威廉·萨默塞特·毛姆的作品集，共收入十二部作品，包括长篇小说《圣诞假日》《旋转木马》《偏僻的角落》《魔法师》《彼时此时》《克拉多克夫人》《卡塔丽娜》《兰贝斯的丽莎》，短篇小说集《第一人称单数》《马来故事集》《爱德华·巴纳德的堕落》，以及读书随笔《书与你》。这些作品体现的毛姆的创作成就和写作风格，其中大部分作品是在国内新翻译出版。</div> </div> </a> <a dd_name=\"（日）东野圭吾\" href=\"http://e.dangdang.com/products/1901109262.html\" target=\"_blank\" title=\"黎明之街(我的世界在16岁崩塌了，我再无法相信任何人东野圭吾突破之作，比肩《白夜行》《秘密》)\"> <span class=\"bookcover\"> <img alt=\"此书参加电子书49元5本\" class=\"promotion_label\" src=\"http://img63.ddimg.cn/web/pcbookstore/nyc2x.png\"/> <img alt=\"黎明之街(我的世界在16岁崩塌了，我再无法相信任何人东野圭吾突破之作，比肩《白夜行》《秘密》)\" src=\"http://img61.ddimg.cn/digital/product/92/62/1901109262_ii_cover.jpg?version=81048f34-ce62-4afa-90fc-f8b686bdce13\"/> </span> <div class=\"bookinfo\"> <div class=\"title\">黎明之街(我的世界在16岁崩塌了，我再无法相信任何人东野圭吾突破之作，比肩《白夜行》《秘密》)</div> <div class=\"author\">（日）东野圭吾</div> <div class=\"startie\"></div> <div class=\"price\"> <span class=\"now\">￥11.99</span> </div> <div class=\"des\">《黎明之街》是东野圭吾极具突破性的经典长篇小说，在文学价值和可读性上惊人地同时达到了极高的高度，位列东野圭吾十大杰作。《黎明之街》不是推理小说，悬念却持续到了全书结尾，日本销量超200万册，比肩《白夜行》《秘密》《嫌疑人X的献身》等名著。东野圭吾对《黎明之街》非常满意，认为完成度超出了自己的预期，他说：“《黎明之街》是我首部以爱恋为主题的小说，没想到完成得这么好。希望读者会有这样的感受——东野圭吾写了和以往不太一样的东西，不过也很不错呢。” 《黎明之街》内容简介：我快四十岁了，家有妻女，工作小有所成，已过了可以执着于恋爱的年龄，但我无法自拔地爱上了新同事秋叶。 一个警察突然找到我，说秋叶是十五年前一桩命案的嫌疑人，案子的诉讼时效就要到了。我想相信秋叶是无辜的，但万一不是呢？我不敢再想下去。我突然意识到自己其实对深爱的这个女人一无所知。 座钟的指针过了零，秋叶紧闭的眼中溢出了泪水。她慢慢睁眼睛，长叹一声，嘴角浮现出笑容，说：“时效到期，一切都结束了。这么长时间真是辛苦你们了。”</div> </div> </a> <a dd_name=\"吕思勉\" href=\"http://e.dangdang.com/products/1900717393.html\" target=\"_blank\" title=\"吕思勉文集(套装共10册)\"> <span class=\"bookcover\"> <img alt=\"吕思勉文集(套装共10册)\" src=\"http://img60.ddimg.cn/digital/product/73/93/1900717393_ii_cover.jpg?version=bf4c5d2e-2c0c-4950-8f2e-7116f5009f4a555\"/> </span> <div class=\"bookinfo\"> <div class=\"title\">吕思勉文集(套装共10册)</div> <div class=\"author\">吕思勉</div> <div class=\"startie\"></div> <div class=\"price\"> <span class=\"now\">￥175.00</span> </div> <div class=\"des\">吕思勉文集(套装共10册)，套装分别包含：吕思勉文集：三国史话(国民阅读经典)；吕思勉文集：先秦学术概论；吕思勉文集：读史札记；吕思勉文集：史学与史籍七种；吕思勉文集：先秦史；吕思勉文集：中国近代史；吕思勉文集：秦汉史；吕思勉文集：理学纲要；吕思勉文集:文学与文选四种。</div> </div> </a> <a dd_name=\"阿尔贝·加缪\" href=\"http://e.dangdang.com/products/1900024988.html\" target=\"_blank\" title=\"局外人\"> <span class=\"bookcover\"> <img alt=\"局外人\" src=\"http://img60.ddimg.cn/digital/product/49/88/1900024988_ii_cover.jpg?version=a9ef7d2a-30aa-48ea-98ad-a4a33689b048555\"/> </span> <div class=\"bookinfo\"> <div class=\"title\">局外人</div> <div class=\"author\">阿尔贝·加缪</div> <div class=\"startie\"></div> <div class=\"price\"> <span class=\"now\">￥0.99</span> </div> <div class=\"des\">母亲在养老院去世了。除了请假去参加葬礼，默尔索的生活似乎并没有因此而发生变化，他甚至没有表现出应有的悲痛。葬礼后第二天，他便同以前的女同事约会，似乎一切又都归于正常。由于种种原因，默尔索与邻居雷蒙相熟，并应邀去海边过周末。在那里，发生了一件彻底改变默尔索平静生活的事件——他枪杀了一个同雷蒙有过节的阿拉伯人。于是，默尔索因杀人被拘捕。他并非蓄意谋杀那个阿拉伯人，但是他也无法解释开枪的动机。他不认为自己有罪，没有主动请律师为其辩护，也拒绝向神甫忏悔以祈求宽恕；他只是以一个局外人的形式存在着，感受时间的流逝，观察形形色色的人因为他的案子忙作一团。由于他在母亲葬礼上的冷漠表现，默尔索被定性为残忍的杀人犯而被判处死刑。死亡临近，他感到恐惧，但更多的则是前所未有的真实的存在感——“我体验到这个世界如此像我，如此有爱融洽，觉得自己过去曾经是幸福的，现在仍然是幸福的。”</div> </div> </a> <a dd_name=\"林奕含\" href=\"http://e.dangdang.com/products/1900778799.html\" target=\"_blank\" title=\"房思琪的初恋乐园\"> <span class=\"bookcover\"> <img alt=\"此书参加电子书49元5本\" class=\"promotion_label\" src=\"http://img63.ddimg.cn/web/pcbookstore/nyc2x.png\"/> <img alt=\"房思琪的初恋乐园\" src=\"http://img61.ddimg.cn/digital/product/87/99/1900778799_ii_cover.jpg?version=a29dea98-4130-4640-9b7b-82bae194d862\"/> </span> <div class=\"bookinfo\"> <div class=\"title\">房思琪的初恋乐园</div> <div class=\"author\">林奕含</div> <div class=\"startie\"></div> <div class=\"price\"> <span class=\"now\">￥10.99</span> </div> <div class=\"des\">令人心碎却无能为力的真实故事。 痛苦的际遇是如此难以分享，好险这个世界还有文学。 我下楼拿作文给李老师改。他掏出来，我被逼到涂在墙上。老师说了九个字：“不行的话，嘴巴可以吧。”我说了五个字：“不行，我不会。”他就塞来。那感觉像溺水。可以说话之后，我对老师说：“对不起。”有一种功课做不好的感觉。 小小的房思琪住在金碧辉煌的人生里，她的脸和她可以想象的将来一样漂亮。补习班语文名师李国华是同一栋高级住宅的邻居。崇拜文学的小房思琪同样崇拜饱读诗书的李老师。 有一天李老师说，你的程度这么好，不如每个礼拜交一篇作文给我吧，不收你周费。思琪听话地下楼了。老师在家里等她，桌上没有纸笔。 思琪的初恋是李老师。因为李老师把她翻面，把他的东西塞去。那年的教师节思琪才十三岁，这个世界和她原本认识的不一样。 如果这是爱情，为什么觉得暴力？为什么觉得被折断？为什么老师要一个女学生换过一个女学生？如果这不是爱情，那满口学问的李老师怎么能了以后，还这么自信、无疑、无愧于心？ 故事必须重新讲过，与房思琪情同双胞的刘怡婷，到警局通知，去带回神志不清，被判定疯了的房思琪。透过思琪的日记，怡婷得知思琪五年中的所见所思……嫁钱家的许伊纹，是两位少女的忘年交，二十余岁的她，是两位少女的文学启蒙者同时也是丈夫家暴的沉默受害者……升大学后的郭晓奇仍旧爱着高中时的补习教师李国华，而这位文质彬彬的补习教师并不只有平时人们眼中受人尊敬的老师形象的一面…… 这是一部惊人而特别的小说，小说作者既具有高度敏锐的感受力、又是一个近距离目者，使这整件事像一个“幸存的标本”那样地被保留下来。整本书反覆地、用极度贴近被侵害者的视角，直直逼视那种“别人夺去你某个珍贵之物”的痛苦──且掠夺之人是以此为乐。</div> </div> </a> <a dd_name=\"詹姆斯•乔伊斯,萧乾,文洁若（译）\" href=\"http://e.dangdang.com/products/1901100119.html\" target=\"_blank\" title=\"尤利西斯\"> <span class=\"bookcover\"> <img alt=\"此书参加电子书49元5本\" class=\"promotion_label\" src=\"http://img63.ddimg.cn/web/pcbookstore/nyc2x.png\"/> <img alt=\"尤利西斯\" src=\"http://img60.ddimg.cn/digital/product/1/19/1901100119_ii_cover.jpg?version=697bdb94-2e09-4a63-8e1e-1c297f0ce255\"/> </span> <div class=\"bookinfo\"> <div class=\"title\">尤利西斯</div> <div class=\"author\">詹姆斯•乔伊斯,萧乾,文洁若（译）</div> <div class=\"startie\"></div> <div class=\"price\"> <span class=\"now\">￥19.99</span> </div> <div class=\"des\">\\u3000\\u3000《尤利西斯》全书一共18个章节，讲述了1904年6月16日早上8至次日凌晨2发生的故事。每个章节讲述一天中一个小时之内发生的故事，每个章节都具有独特叙事风格，且每一章都和《奥德修纪》的一个章节相对应。 \\u3000\\u3000作者乔伊斯本人如此评论《尤利西斯》： \\u3000\\u3000《尤利西斯》是一部关于两个民族的史诗，是一次周游人体器官的旅行，是一个发生在一天（一生）之间的小故事……也是一种百科全书。</div> </div> </a> <a dd_name=\"宁航一\" href=\"http://e.dangdang.com/products/1901115109.html\" target=\"_blank\" title=\"怪奇物语·噩梦\"> <span class=\"bookcover\"> <img alt=\"此书参加电子书49元5本\" class=\"promotion_label\" src=\"http://img63.ddimg.cn/web/pcbookstore/nyc2x.png\"/> <img alt=\"怪奇物语·噩梦\" src=\"http://img61.ddimg.cn/digital/product/51/9/1901115109_ii_cover.jpg?version=6f9eedb2-42ec-42e9-95f2-bdbb07c33565\"/> </span> <div class=\"bookinfo\"> <div class=\"title\">怪奇物语·噩梦</div> <div class=\"author\">宁航一</div> <div class=\"startie\"></div> <div class=\"price\"> <span class=\"now\">￥10.99</span> </div> <div class=\"des\">   噩梦，仅仅是头脑中的虚无幻想，还是世界zui恐怖的真相？5个令人头皮发麻的离奇故事，不断反转的思维游戏，让你深夜惊醒的噩梦，可能正是这世界的全部真相。《鼠男》：陈硕惧怕老鼠，却被一只大老鼠气浮上来头。在绞尽脑汁抓住老鼠后，陈硕始连做噩梦，在梦里他变成了下水道里的老鼠，在整座城市的地下游走。动物研究专家告诉他，某些动物是具有超能力的，而陈硕的命运已经和那只老鼠连在一起。为了早日触“诅咒”，陈硕始千方百计地保护那只老鼠，却误误撞地帮助警察破获了一起失踪案，此时，他才发现这一切都在那只老鼠的计划之中……</div> </div> </a> <a dd_name=\"余华\" href=\"http://e.dangdang.com/products/1900574033.html\" target=\"_blank\" title=\"活着（余华经典著作）\"> <span class=\"bookcover\"> <img alt=\"此书参加电子书49元5本\" class=\"promotion_label\" src=\"http://img63.ddimg.cn/web/pcbookstore/nyc2x.png\"/> <img alt=\"活着（余华经典著作）\" src=\"http://img61.ddimg.cn/digital/product/40/33/1900574033_ii_cover.jpg?version=077b54d0-5f7f-42d6-a780-3dda5f70adbf555\"/> </span> <div class=\"bookinfo\"> <div class=\"title\">活着（余华经典著作）</div> <div class=\"author\">余华</div> <div class=\"startie\"></div> <div class=\"price\"> <span class=\"now\">￥9.99</span> </div> <div class=\"des\">《活着》是一部充满血泪的小说。余华通过一位中国农民的苦难生活讲述了人如何去承受巨大的苦难；讲述了眼泪的丰富和宽广；讲述了绝望的不存在：讲述了人是为了活着本身而活着…… 《活着》这部小说荣获意大利格林扎纳·卡佛文学奖最高奖项(1998年 )，台湾《中国时报》10本好书奖(1994年)，香港“博益”15本好书奖 (1990年)；并入选香港《亚洲周刊》评选的“20世纪中文小说百年百强” ；入选中国百位批评家和文学编辑评选的“九十年代最有影响的10部作品 ”。</div> </div> </a> <a dd_name=\"刘慈欣\" href=\"http://e.dangdang.com/products/1901104637.html\" target=\"_blank\" title=\"三体全集(全3册)\"> <span class=\"bookcover\"> <img alt=\"三体全集(全3册)\" src=\"http://img60.ddimg.cn/digital/product/46/37/1901104637_ii_cover.jpg?version=199d0d94-8d46-45d1-9fb9-9030491091e9\"/> </span> <div class=\"bookinfo\"> <div class=\"title\">三体全集(全3册)</div> <div class=\"author\">刘慈欣</div> <div class=\"startie\"></div> <div class=\"price\"> <span class=\"now\">￥29.99</span> </div> <div class=\"des\">编辑推荐： ◆就是它！征服世界的中国科幻神作！ ◆包揽九项世界顶级科幻大奖！ 《三体》获得第73届“雨果奖”最佳长篇奖！ 《三体》获得2014年度美国科幻奇幻协会“星云奖”最佳长篇小说提名！ 《三体3·死神永生》获得世界科幻“轨迹奖”最佳长篇科幻小说奖！ 《三体》获得2015年度“普罗米修斯奖”最佳长篇小说提名！ 《三体》获得“约翰·W·坎贝尔奖”最佳科幻小说提名！ 《三体》获得“西班牙伊格诺特斯奖”最佳国外长篇小说奖！ 《三体》获得2017年“德国库尔德·拉西茨奖”最佳翻译小说奖！ 《三体》获得法国科幻文学大奖外国小说类提名！ 《三体》获得2018意大利“科幻大奖”最佳国际科幻小说奖！ 刘慈欣获得2018年度克拉克想象力贡献社会奖！ ◆出版16个语种，横扫30国读者！ ◆奥巴马、雷军、马化腾、周鸿袆、潘石屹、扎克伯格……强推！ 奥巴马：“三体太有想象力了，背景十分宏大。拥有狂野的想象力，非常有趣。” 莫言：“刘慈欣利用深厚的科学知识作为想象力的基础，把人间的生活、想象的生活融合在一起，产生了独特的趣味。” 韩松：“刘慈欣近乎完美地把中国5000年历史与宇宙150亿年现实融合在了一起。” 雷军：“《三体》不仅仅是本科幻小说，本质上是哲学书，主要讲宇宙社会学，其中提到的黑暗森林、降维攻击尤其深刻。” 李淼：“《三体》是迄今为止中文科幻界出现的最有影响力的科幻小说之一，不论在想象力方面，还是在规模方面，可以说是最接近世界一流的科幻小说。” 内容简介： 《三体1》 军方探寻外星文明的绝秘计划“红岸工程”取得了突破性进展。但在按下发射键的那一刻，历经劫难的叶文洁没有意识到，她彻底改变了人类的命运。 地球文明向宇宙发出的一声啼鸣，以太阳为中心，以光速向宇宙深处飞驰……四光年外的“三体文明”百余次毁灭与重生，正被逼迫不得不逃离母星，而恰在此时，他们接收到了地球发来的信息。 庞大的三体舰队开始向地球进发，人类的末日悄然来临…… 《三体2·黑暗森林》 庞大的三体舰队杀气腾腾直扑太阳系，被尖端科技锁死的地球人面对前所未有的危局，组建起同样庞大的太空舰队，同时行星防御理事会（PDC）利用三体人一个致命的缺陷，制订了“面壁计划”。 在这场你死我活的文明生存竞争中，罗辑探索出了宇宙文明间的黑暗森林法则，暂时使地球与三体建立起脆弱的战略平衡。 在这样脆弱的关系中，宇宙就是一座黑暗森林，每个文明都是带枪的猎人。 猎捕即将开始…… 《三体3·死神永生》 身患绝症的云天明买下一颗星星送给暗恋着的大学同学程心，而程心因参与向三体舰队发射探测器的工作，让云天明作为被执行人将大脑捐献给阶梯计划。 云天明被送去三体后，向程心透露了大量的情报；人类自以为悟出了生存竞争的秘密，开始进行掩体计划…… 在地球人类接近灭亡之际，程心在云天明送的一颗行星上，遇到了关一帆，且探讨了宇宙降维的真相…… 掩体计划的背后到底隐藏着什么阴谋？降维的真相又揭示了怎样的宇宙？ 宇宙的零点，即将进入倒计时......</div> </div> </a> <a dd_name=\"维尔吉妮·格里马尔蒂\" href=\"http://e.dangdang.com/products/1901111564.html\" target=\"_blank\" title=\"我余生的第一天\"> <span class=\"bookcover\"> <img alt=\"此书参加电子书49元5本\" class=\"promotion_label\" src=\"http://img63.ddimg.cn/web/pcbookstore/nyc2x.png\"/> <img alt=\"我余生的第一天\" src=\"http://img62.ddimg.cn/digital/product/15/64/1901111564_ii_cover.jpg?version=10f7d3cc-5152-4b54-9a4b-374c5e75ee12\"/> </span> <div class=\"bookinfo\"> <div class=\"title\">我余生的第一天</div> <div class=\"author\">维尔吉妮·格里马尔蒂</div> <div class=\"startie\"></div> <div class=\"price\"> <span class=\"now\">￥22.99</span> </div> <div class=\"des\">从一眼望穿的生活中逃离，究竟有多难？ 很多时候，玛丽都觉得自己的人生索然无味，曾经，她也怀揣梦想，意气风发。她以全部的热情投生活当中，为家人奉献一切，却唯独失去了自我。然而日复一日，丈夫对她也越来越无视，连孩子们都觉得母亲应该去过真正属于自己的生活。终于有一天，在她的丈夫40岁生日这一天，她决定给他一个惊喜：她独自踏上了环球航行的游轮，希望能从一眼望穿的生活中逃离，给自己一个重生的机会。她遇见了各种各样的人，每个人都有自己的困境，也终于在这趟旅程中找到了疗愈自己的方法。?</div> </div> </a> <a dd_name=\"（日）东野圭吾\" href=\"http://e.dangdang.com/products/1901109260.html\" target=\"_blank\" title=\"东野圭吾：悲剧人偶\"> <span class=\"bookcover\"> <img alt=\"此书参加电子书49元5本\" class=\"promotion_label\" src=\"http://img63.ddimg.cn/web/pcbookstore/nyc2x.png\"/> <img alt=\"东野圭吾：悲剧人偶\" src=\"http://img60.ddimg.cn/digital/product/92/60/1901109260_ii_cover.jpg?version=dca0b5ed-4471-489e-90f3-50b2af1b96c2\"/> </span> <div class=\"bookinfo\"> <div class=\"title\">东野圭吾：悲剧人偶</div> <div class=\"author\">（日）东野圭吾</div> <div class=\"startie\"></div> <div class=\"price\"> <span class=\"now\">￥13.99</span> </div> <div class=\"des\">《悲剧人偶》是日本作家东野圭吾的长篇小说，中文简体初次出版，讲述了一个精妙的诡计，一个纯粹的烧脑解谜：在这个家里，命案连发生。所有人的不在场证明都如蛛网般整齐严密，只有不会说话的人偶看到了真相。《悲剧人偶》与《恶意》《圣女的救济》等书一起，被日本读者票选为东野圭吾十大被低估杰作。东野说：“《悲剧人偶》让我明白了自己的定位，从各种意义上说，这部作品可能都是一个转折。” 内容梗概：一个男人把我带上楼，放到架子上，目光锐利地反复量我，随即离，这让我猛地嗅到了危险的气息。不久，悲鸣响起，一个身穿白色睡裙的女人从我面前跑过，冲向阳台。我身后的房间里冲出来两个人大声呼喊，但女人径直翻过护栏，纵身跳下。 人们称我为悲剧人偶，说我会给每个拥有我的人带去不幸。这是我在这里看到的事。</div> </div> </a> <a dd_name=\"周桦\" href=\"http://e.dangdang.com/products/1900545364.html\" target=\"_blank\" title=\"褚时健传\"> <span class=\"bookcover\"> <img alt=\"此书参加电子书49元5本\" class=\"promotion_label\" src=\"http://img63.ddimg.cn/web/pcbookstore/nyc2x.png\"/> <img alt=\"褚时健传\" src=\"http://img61.ddimg.cn/digital/product/53/64/1900545364_ii_cover.jpg?version=a7c53c04-498d-4b73-a468-c1cccb1c316e\"/> </span> <div class=\"bookinfo\"> <div class=\"title\">褚时健传</div> <div class=\"author\">周桦</div> <div class=\"startie\"></div> <div class=\"price\"> <span class=\"now\">￥5.99</span> </div> <div class=\"des\">褚时健，这是一个在中国烟草史上举足轻重的名字，这是一位将地方工厂发展成世界级行业巨头的能人，临近退休却折戟沉沙。 十几年后，褚时健的名字因为橙子享誉大江南北，以70几岁高龄重新创业的故事，激励和影响了无数的人，褚橙也被称为“励志橙”。 他的人生几经起落：早年丧父，辍学、烤酒、种地，以此帮母亲谋生；青年，重新求学却遭遇战争，扛过枪打过仗；解放后没能逃脱“右派”的命运，却能埋头搞生产，所在糖厂成为当地条件比较好的地方；年过半百，接手玉溪卷烟厂，将其打造成亚洲第一、世界第五的集团企业，褚时健也成为“亚洲烟王”。然而，巅峰跌落…… 当他再次进入公众视野时，已成橙王。拜访、学习甚至膜拜的创业者和企业家蜂拥哀牢山…… 88年丰富、起伏的人生经历，他的命运和这个国家的政治经济体制过招不断，碰撞不断；他的个人故事紧贴着共和国一个甲子的时代变迁。他的生活里有着生离死别，荣辱变换……人生经历当得上“传奇”二字。 在公众的眼光里，他被塑造成一个充满了豪壮悲情的悲剧性人物，甚至褚橙的成功也显得悲壮。但当《褚时健传》的作者走近褚时健才知道，对于自己人生起落的理解，褚时健比任何人都显得平静。 《褚时健传》由著名传记作家周桦执笔，历经一年多的走访、调查、创作而成，从褚时健的生平，到他的管理理念、企业家精神，再到玉溪卷烟厂、褚橙等的管理运营，采访之深入，细节之丰富，资料之完整权威，写作之客观理性，值得每一个读者认真品读。</div> </div> </a> <a dd_name=\"兰陵笑笑生\" href=\"http://e.dangdang.com/products/1900773436.html\" target=\"_blank\" title=\"金瓶梅(全两册)(崇祯版)(简体横排、无批评)\"> <span class=\"bookcover\"> <img alt=\"金瓶梅(全两册)(崇祯版)(简体横排、无批评)\" src=\"http://img62.ddimg.cn/digital/product/34/36/1900773436_ii_cover.jpg?version=4edcf21a-b25e-40b2-9372-4afd17560403\"/> </span> <div class=\"bookinfo\"> <div class=\"title\">金瓶梅(全两册)(崇祯版)(简体横排、无批评)</div> <div class=\"author\">兰陵笑笑生</div> <div class=\"startie\"></div> <div class=\"price\"> <span class=\"now\">￥19.99</span> </div> <div class=\"des\">《金瓶梅》是中国第一部文人独立创作的长篇白话世情章回小说。成书约在明朝隆庆至万历年间，作者署名兰陵笑笑生。与《三国演义》，《水浒传》，《西游记》合称明代四大奇书。它借《水浒传》中武松杀嫂一段故事为引子，通过对兼有官僚、恶霸、富商三种身份的市侩势力的代表人物西门庆及其家庭罪恶生活的描述，体现当时民间生活的面貌。描绘了一个上至朝廷内擅权专政的太师，下至地方官僚恶霸乃至市井间的地痞、流氓、宦官、帮闲所构成的鬼蜮世界。小说开拓了新的题材，拓展了审美领域，塑造了西门庆、潘金莲、李瓶儿、春梅、应伯爵，陈敬济等典型形象。小说以市井人物为主要角色，能多侧面多层次地描写，将明代封建社会的黑暗腐朽暴露得淋漓尽致。 《金瓶梅》作者是曹雪芹艺术革新的先驱，为《红楼梦》的产生作了准备。鲁迅因此论定「同时说部，无以上之」。《金瓶梅》中的性描写触及广阔的生活领域，以一种*的方式表现人之自然本性对「天理」禁锢的冲击。实多虚少，纯感官的再现，也反映了封建文人的性情趣。 《金瓶梅》先有抄本流传，在北京、麻城、诸城、金坛、苏州等地传抄，约经二三十年的传抄后始有刊本。 明清时期有三种版本系统：词话本系统：《新刻金瓶梅词话》、崇祯本或绣像本系统：《新刻绣像批评金瓶梅》、张评本系统：《张竹坡批评第一奇书金瓶梅》。 本套丛书采用的是崇祯本系统全本，编者以崇祯本为底本，以及民国时期已经出版的繁体版本，重新对本套图书精校、编排，形成了繁体竖排版《金瓶梅》，以飨读者。本版本无批评，无插图，没有任何删节，旨在向作者呈现一个完整原版内容，喜恶由君。</div> </div> </a> <a dd_name=\"老甄\" href=\"http://e.dangdang.com/products/1901100124.html\" target=\"_blank\" title=\"心理师(共5册)\"> <span class=\"bookcover\"> <img alt=\"心理师(共5册)\" src=\"http://img60.ddimg.cn/digital/product/1/24/1901100124_ii_cover.jpg?version=497a95f3-7fae-412a-9d86-e65426b43556\"/> </span> <div class=\"bookinfo\"> <div class=\"title\">心理师(共5册)</div> <div class=\"author\">老甄</div> <div class=\"startie\"></div> <div class=\"price\"> <span class=\"now\">￥39.99</span> </div> <div class=\"des\">孟新建被袭击昏迷之后无意间发现了长春某人防工事的据点，救出了文老师的初恋女友汪婷，并发现她背后隐藏着秘密。更可怕的是，孟新建发现自己体内多了一重人格，这个人格并不是自己内生分裂出来的人格，而是 “黑色火焰”的长老通过神秘手段给他强行植入的外生人格。但是，“黑色火焰”组织并没有对屡屡破坏自己计划的孟新建下毒手，而是隐藏着更大的阴谋。孟新建该如何面对自己体内的多重人格，甚至面临着外生人格把本生人格吞噬的灭顶之灾呢？</div> </div> </a> <div class=\"loading\" style=\"clear:both;\"></div></div>'}]"
      ]
     },
     "execution_count": 134,
     "metadata": {},
     "output_type": "execute_result"
    }
   ],
   "source": [
    "def GetData(): # 获取数据库中的数据，以列表—字典的形式返回\n",
    "    cursor = db.cursor()\n",
    "    sql = \"select * from webpage\"\n",
    "    data = []\n",
    "    try:\n",
    "        cursor.execute(sql)\n",
    "        results = cursor.fetchall()\n",
    "        for row in results:\n",
    "            each = {}\n",
    "            each['id'] = row[0]\n",
    "            each['url'] = row[1]\n",
    "            each['text'] = row[2].replace('\\n',' ')\n",
    "            data.append(each)\n",
    "    except:\n",
    "        db.rollback()\n",
    "    cursor.close()\n",
    "    return data\n",
    "data = GetData()\n",
    "# del data[len(data)-1]\n",
    "data\n",
    "# print(data[2]['text'])"
   ]
  },
  {
   "cell_type": "code",
   "execution_count": 135,
   "metadata": {},
   "outputs": [
    {
     "data": {
      "text/plain": [
       "[{'id': 1, 'author': 'Charles Dickens', 'title': 'Great Expectations'},\n",
       " {'id': 2, 'author': 'Nicholas Sparks', 'title': 'The Last Song'},\n",
       " {'id': 9,\n",
       "  'author': 'Ernest Miller Hemingway',\n",
       "  'title': 'The Old Man and the Sea'},\n",
       " {'id': 10, 'author': 'Jonathan Swift', 'title': 'GULLIVER’S TRAVELS'},\n",
       " {'id': 11, 'author': 'Charles Dickens', 'title': 'Pickwick Papers'},\n",
       " {'id': 12,\n",
       "  'author': 'W. William Shakespeare',\n",
       "  'title': \"A Midsummer Night's Dream\"},\n",
       " {'id': 13, 'author': '村上春树', 'title': '海边的卡夫卡'},\n",
       " {'id': 14, 'author': '李尚龙', 'title': '人设'},\n",
       " {'id': 15, 'author': '末那大叔', 'title': '我喜欢你，像风走了八千里'}]"
      ]
     },
     "execution_count": 135,
     "metadata": {},
     "output_type": "execute_result"
    }
   ],
   "source": [
    "def GetSeeds():\n",
    "    cursor = db.cursor()\n",
    "    sql = \"select * from seeds\"\n",
    "    seeds = []\n",
    "    try:\n",
    "        cursor.execute(sql)\n",
    "        results = cursor.fetchall()\n",
    "        for row in results:\n",
    "            each = {}\n",
    "            each['id'] = row[0]\n",
    "            each['author'] = row[1]\n",
    "            each['title'] = row[2]\n",
    "            seeds.append(each)\n",
    "    except:\n",
    "        db.rollback()\n",
    "    cursor.close()\n",
    "    return seeds\n",
    "seeds = GetSeeds()\n",
    "seeds"
   ]
  },
  {
   "cell_type": "code",
   "execution_count": 136,
   "metadata": {},
   "outputs": [
    {
     "data": {
      "text/plain": [
       "{'author': 'Charles Dickens',\n",
       " 'title': 'Great Expectations',\n",
       " 'order': 1,\n",
       " 'url': 'www.books.com/TopRated',\n",
       " 'prefix': 'The famous writer ',\n",
       " 'middle': ' wrote ',\n",
       " 'suffix': ' book'}"
      ]
     },
     "execution_count": 136,
     "metadata": {},
     "output_type": "execute_result"
    }
   ],
   "source": [
    "def SearchSeedInPage(author,title,url,line): # 在文章中搜索一个种子的元组对并记录事件\n",
    "    occurrence = {}\n",
    "    if author in line and title in line: # 作者和标题都在该行则记录事件,需要先判定是作者在前还是标题在前\n",
    "        posA = line.index(author)\n",
    "        posT = line.index(title)\n",
    "        if(posA<posT): # 如果作者在前则为1，否则为0\n",
    "            order = 1\n",
    "            if posA-CONST_M>=0:\n",
    "                prefix = line[posA-CONST_M:posA] # 记录author前m个字符作为前缀\n",
    "            else:\n",
    "                prefix = line[:posA] # 如果前m个字符超出下界则m记为0\n",
    "            middle = line[posA+len(author):posT]\n",
    "            suffix = line[posT+len(title):posT+len(title)+CONST_M] # 记录title后m个字符作为后缀，后界不用if，因为默认超出len按len计算\n",
    "        else:\n",
    "            order = 0\n",
    "            if posT-CONST_M>=0:\n",
    "                prefix = line[posT-CONST_M:posT]\n",
    "            else:\n",
    "                prefix = line[:posT]\n",
    "            middle = line[posT+len(title):posA]\n",
    "            suffix = line[posA+len(author):posA+len(author)+CONST_M]\n",
    "        occurrence['author'] = author # 记录事件并返回\n",
    "        occurrence['title'] = title\n",
    "        occurrence['order'] = order\n",
    "        occurrence['url'] = url\n",
    "        occurrence['prefix'] = prefix.strip()\n",
    "        occurrence['middle'] = middle.strip()\n",
    "        occurrence['suffix'] = suffix.strip()\n",
    "        return occurrence\n",
    "    return None\n",
    "# print(seeds[8]['author'],seeds[8]['title'],data[len(data)-1]['url'],data[len(data)-1]['text'])\n",
    "# occurrence = SearchSeedInPage(seeds[8]['author'],seeds[8]['title'],data[len(data)-1]['url'],data[len(data)-1]['text'])\n",
    "occurrence # 在第一个数据中搜索到的第一个种子"
   ]
  },
  {
   "cell_type": "code",
   "execution_count": 137,
   "metadata": {},
   "outputs": [
    {
     "name": "stdout",
     "output_type": "stream",
     "text": [
      "[{'author': 'Charles Dickens', 'title': 'Great Expectations', 'order': 1, 'url': 'www.books.com/TopRated', 'prefix': 'The famous writer', 'middle': 'wrote', 'suffix': 'book'}, {'author': 'Nicholas Sparks', 'title': 'The Last Song', 'order': 1, 'url': 'www.books.com/BestSeller', 'prefix': 'ookThe great writer', 'middle': 'wrote', 'suffix': 'book The amazing wr'}, {'author': 'Ernest Miller Hemingway', 'title': 'The Old Man and the Sea', 'order': 1, 'url': 'www.books.com/BestSeller', 'prefix': 'The famous writer', 'middle': 'wrote', 'suffix': 'book The great writ'}, {'author': 'Jonathan Swift', 'title': 'GULLIVER’S TRAVELS', 'order': 1, 'url': 'www.books.com/BestSeller', 'prefix': 'ok The great writer', 'middle': 'wrote', 'suffix': 'book The amazing wr'}, {'author': 'Charles Dickens', 'title': 'Pickwick Papers', 'order': 1, 'url': 'www.books.com/BestSeller', 'prefix': 'The amazing writer', 'middle': 'wrote', 'suffix': 'bookThe great write'}, {'author': 'W. William Shakespeare', 'title': \"A Midsummer Night's Dream\", 'order': 1, 'url': 'www.books.com/BestSeller', 'prefix': 'The amazing writer', 'middle': 'wrote', 'suffix': 'book'}, {'author': '村上春树', 'title': '海边的卡夫卡', 'order': 1, 'url': 'e.dangdang.com/list-WY1-dd_sale-0-1.html', 'prefix': 'v> </a> <a dd_name=\"', 'middle': '\" href=\"http://e.dangdang.com/products/1901116147.html\" target=\"_blank\" title=\"', 'suffix': '\"> <span class=\"book'}, {'author': '李尚龙', 'title': '人设', 'order': 1, 'url': 'e.dangdang.com/list-WY1-dd_sale-0-1.html', 'prefix': 'v> </a> <a dd_name=\"', 'middle': '\" href=\"http://e.dangdang.com/products/1901115247.html\" target=\"_blank\" title=\"', 'suffix': '\"> <span class=\"book'}, {'author': '末那大叔', 'title': '我喜欢你，像风走了八千里', 'order': 1, 'url': 'e.dangdang.com/list-WY1-dd_sale-0-1.html', 'prefix': 'v> </a> <a dd_name=\"', 'middle': '\" href=\"http://e.dangdang.com/products/1901113857.html\" target=\"_blank\" title=\"', 'suffix': '\"> <span class=\"book'}]\n"
     ]
    }
   ],
   "source": [
    "def SearchSeeds(): # 在所有数据中搜索所有种子\n",
    "    ouccurrences = [] # 事件列表\n",
    "    for seed in seeds:\n",
    "        for page in data:\n",
    "            occurrence = SearchSeedInPage(seed['author'],seed['title'],page['url'],page['text'])\n",
    "            if occurrence is not None:\n",
    "                ouccurrences.append(occurrence)\n",
    "    return ouccurrences\n",
    "occurrences = SearchSeeds()\n",
    "# occurrences[0]['order'] = 0\n",
    "print(occurrences) # 在所有数据中搜索到的所有种子结果"
   ]
  },
  {
   "cell_type": "code",
   "execution_count": 44,
   "metadata": {},
   "outputs": [],
   "source": [
    "def GroupByUrl(lists): # 从已经通过order和middle分组的数据组中再通过网址进行分组\n",
    "    patterns = []\n",
    "    for each in lists:\n",
    "        each['url'] = each['url'].split('/')[0] # 切割分组后每组数据的url，取主网址\n",
    "    for url,items in groupby(lists,key = itemgetter('url')): # 再通过url主网址进行分组\n",
    "        lists = list(items)\n",
    "        if len(lists) > 1:\n",
    "            pattern = GetPrefixAndSuffix(lists)\n",
    "            if pattern is not None:\n",
    "                patterns.append(pattern) # 这里获取到的是一个模式集合，因此在列表中追加即可\n",
    "    return patterns"
   ]
  },
  {
   "cell_type": "code",
   "execution_count": 61,
   "metadata": {
    "scrolled": true
   },
   "outputs": [],
   "source": [
    "def GetPrefixAndSuffix(lists): # 经过order、middle和url的分组后，剩下的数据量大于1且不再分组，形成一个模式\n",
    "    prefix = lists[0]['prefix'] # 匹配每组数据中公共的前缀，不保证不为空\n",
    "    suffix = lists[0]['suffix']\n",
    "    pattern = {}\n",
    "    pattern['order'] = lists[0]['order']\n",
    "    pattern['middle'] = lists[0]['middle'].strip()\n",
    "    pattern['url'] = lists[0]['url']\n",
    "    for index in range(len(lists)-1,-1,-1):  # 这里的操作是默认前缀为第一个数据，然后与后面的数据进行匹配，在第一个数据的基础上做缩减操作\n",
    "        i = len(prefix)-1\n",
    "        j = len(lists[index]['prefix'])-1\n",
    "        while i>=0 and j>=0 and lists[index]['prefix'][j] == prefix[i]:\n",
    "            i = i-1\n",
    "            j = j-1\n",
    "        prefix = prefix[i+1:]\n",
    "        \n",
    "        m = 0\n",
    "        n = 0\n",
    "        while m<len(suffix) and n<len(lists[index]['suffix']) and lists[index]['suffix'][n] == suffix[m]:\n",
    "            m = m+1\n",
    "            n = n+1\n",
    "        suffix = suffix[:m]\n",
    "        del lists[index] # 用完后将事件删除，防止占用空间\n",
    "    pattern['prefix'] = prefix.strip()\n",
    "    pattern['suffix'] = suffix.strip()\n",
    "    if len(pattern['prefix']) and len(pattern['suffix']) and len(pattern['url']):\n",
    "        return pattern\n",
    "    return None"
   ]
  },
  {
   "cell_type": "code",
   "execution_count": 62,
   "metadata": {},
   "outputs": [
    {
     "data": {
      "text/plain": [
       "[{'order': 1,\n",
       "  'middle': 'wrote',\n",
       "  'url': 'www.books.com',\n",
       "  'prefix': 'writer',\n",
       "  'suffix': 'book'}]"
      ]
     },
     "execution_count": 62,
     "metadata": {},
     "output_type": "execute_result"
    }
   ],
   "source": [
    "def GroupByOrderAndMiddle(): # 通过order和middle进行分组，并对每组数据形成模式\n",
    "    patterns = []\n",
    "    occurrences.sort(key = itemgetter('order')) # 按照对order字段进行排序\n",
    "    for middle,items in groupby(occurrences,key = itemgetter('middle')): # groupby（）函数在每次迭代的时候，会返回一个分组后的分组值和一个迭代器对象，迭代器对象包含对应分组值的所有对象。\n",
    "        lists  = list(items) # 迭代器只能迭代一次，所以转化为列表进行操作\n",
    "        if len(lists) > 1: # 每类分组中需要至少两组数据才能形成模式\n",
    "            eachpatterns = GroupByUrl(lists) # 这里eachpatterns的结构为[{'a':'a','b':'b'},{'a':'c','b':'d'}]，因此需要用+做合并列表操作\n",
    "            patterns = patterns + eachpatterns\n",
    "    return patterns\n",
    "patterns = GroupByOrderAndMiddle()\n",
    "patterns"
   ]
  },
  {
   "cell_type": "code",
   "execution_count": 63,
   "metadata": {},
   "outputs": [],
   "source": [
    "def FindBooksByPattern(MyPattern): # 通过一个模式在数据中查找书籍元组\n",
    "    for item in data:\n",
    "        if MyPattern['url'] in item['url']:\n",
    "            NewPattern = re.compile(MyPattern['prefix']+'(.*?)'+MyPattern['middle']+'(.*?)'+MyPattern['suffix'],re.I) # 忽略大小写进行查询\n",
    "            m = NewPattern.finditer(item['text'])\n",
    "            if m is not None:\n",
    "                for item in m:\n",
    "                    author = item.groups()[0].strip()\n",
    "                    title = item.groups()[1].strip()\n",
    "                    if FindSeed(author,title)==0:\n",
    "                        SaveSeed(author,title)\n",
    "                        print(author,title)\n",
    "FindBooksByPattern(patterns[0])"
   ]
  },
  {
   "cell_type": "code",
   "execution_count": 64,
   "metadata": {},
   "outputs": [
    {
     "data": {
      "text/plain": [
       "1"
      ]
     },
     "execution_count": 64,
     "metadata": {},
     "output_type": "execute_result"
    }
   ],
   "source": [
    "def SaveSeed(author,title): # 将查找到的书籍元组存储到数据库中\n",
    "    cursor = db.cursor()\n",
    "    sql = 'INSERT INTO seeds(author,title) VALUES (\"%s\",\"%s\")' % (author , title)\n",
    "    try:\n",
    "        cursor.execute(sql)\n",
    "        db.commit()\n",
    "        print(\"添加成功\")\n",
    "    except:\n",
    "        db.rollback()\n",
    "        print(\"添加失败\")\n",
    "    cursor.close()\n",
    "\n",
    "def FindSeed(author,title):\n",
    "    cursor = db.cursor()\n",
    "    sql = 'select * from seeds where author = \"%s\" and title = \"%s\"' % (author,title)\n",
    "    try:\n",
    "        cursor.execute(sql)\n",
    "        res = cursor.fetchone()\n",
    "        if res is not None:\n",
    "            return 1\n",
    "        else:\n",
    "            return 0\n",
    "    except:\n",
    "        db.rollback()\n",
    "    return 0\n",
    "\n",
    "FindSeed(\"W. William Shakespeare\",\"A Midsummer Night's Dream\")"
   ]
  },
  {
   "cell_type": "code",
   "execution_count": 75,
   "metadata": {},
   "outputs": [
    {
     "name": "stdout",
     "output_type": "stream",
     "text": [
      "select * from patterns where order_p = 1 and urlprefix = \"www.books.com\" and prefix = \"writer\" and middle = \"wrote\" and suffix = \"book\"\n"
     ]
    },
    {
     "data": {
      "text/plain": [
       "1"
      ]
     },
     "execution_count": 75,
     "metadata": {},
     "output_type": "execute_result"
    }
   ],
   "source": [
    "def SavePattern(order,urlprefix,prefix,middle,suffix): # 将查找到的模式存储到数据库中\n",
    "    cursor = db.cursor()\n",
    "    sql = 'INSERT INTO patterns(order_p,urlprefix,prefix,middle,suffix) VALUES (\"%s\",\"%s\",\"%s\",\"%s\",\"%s\")' % (order,urlprefix,prefix,middle,suffix)\n",
    "    try:\n",
    "        cursor.execute(sql)\n",
    "        db.commit()\n",
    "        print(\"添加成功\")\n",
    "    except:\n",
    "        db.rollback()\n",
    "        print(\"添加失败\")\n",
    "    cursor.close()\n",
    "\n",
    "def FindPattern(order,urlprefix,prefix,middle,suffix):\n",
    "    cursor = db.cursor()\n",
    "    sql = 'select * from patterns where order_p = %d and urlprefix = \"%s\" and prefix = \"%s\" and middle = \"%s\" and suffix = \"%s\"' % (order,urlprefix,prefix,middle,suffix)\n",
    "    print(sql)\n",
    "    try:\n",
    "        cursor.execute(sql)\n",
    "        res = cursor.fetchone()\n",
    "        if res is not None:\n",
    "            return 1\n",
    "        else:\n",
    "            return 0\n",
    "    except:\n",
    "        db.rollback()\n",
    "    return 0\n",
    "\n",
    "FindPattern(patterns[0]['order'],patterns[0]['url'],patterns[0]['prefix'],patterns[0]['middle'],patterns[0]['suffix'])"
   ]
  },
  {
   "cell_type": "code",
   "execution_count": 66,
   "metadata": {},
   "outputs": [
    {
     "name": "stdout",
     "output_type": "stream",
     "text": [
      "(' famous ', ' a Ernest Miller Hemingway ')\n",
      "(' Old Man and the Sea book The great ', ' Jonathan Swift ')\n",
      "(' amazing ', ' Charles Dickens ')\n"
     ]
    }
   ],
   "source": [
    "string = \"The famous writer a Ernest Miller Hemingway wrote The Old Man and the Sea book The great writer Jonathan Swift wrote GULLIVER’S TRAVELS book the amazing writer Charles Dickens wrote Pickwick Papers bookThe great writer\"\n",
    "pattern = re.compile(r\"the(.*?)writer(.*?)wrote\",re.I) # 'r'是防止字符转义的 如果路径中出现'\\t'的话 不加r的话\\t就会被转义 而加了'r'之后'\\t'就能保留原有的样子\n",
    "m = pattern.finditer(string)\n",
    "for item in m:\n",
    "    print(item.groups())\n",
    "\n",
    "# res = re.findall(\"the(.*?)writer(.*?)wrote\",string,re.I)\n",
    "# print(res)\n",
    "      \n",
    "# content = 'Hello 123456789 Word_This is just a test 666 Test'\n",
    "# result = re.search('(\\d+).*?(\\d+).*', content)\n",
    "# print(result)\n",
    "# print(result.group())    # print(result.group(0)) 同样效果字符串\n",
    "# print(result.groups())\n",
    "# print(result.group(1))\n",
    "# print(result.group(2))"
   ]
  },
  {
   "cell_type": "code",
   "execution_count": 67,
   "metadata": {},
   "outputs": [
    {
     "name": "stdout",
     "output_type": "stream",
     "text": [
      "[{'a': 'a'}, None]\n"
     ]
    }
   ],
   "source": [
    "def funcs():\n",
    "    a = 1\n",
    "test = [{'a':'a'}]\n",
    "ap = {}\n",
    "test.append(funcs())\n",
    "print(test)"
   ]
  },
  {
   "cell_type": "code",
   "execution_count": 68,
   "metadata": {},
   "outputs": [
    {
     "name": "stdout",
     "output_type": "stream",
     "text": [
      "he famous writer\n"
     ]
    }
   ],
   "source": [
    "def TestGetPrefix(a,b): # 测试获取前缀\n",
    "    i = len(a)-1\n",
    "    j = len(b)-1\n",
    "    while i>=0 and j>=0 and a[i] == b[j]: # 不匹配跳出不算a[i]，i=-1跳出也不算a[i]，但a[i]==b[j]需要放在后面判断\n",
    "        i = i-1\n",
    "        j = j-1\n",
    "    a = a[i+1:]\n",
    "    print(a)\n",
    "TestGetPrefix('ahe famous writer','The famous writer Ernest Miller Hemingway wrote The Old Man and the Sea book The great writer Jonathan Swift wrote GULLIVER’S TRAVELS book The amazing writer Charles Dickens wrote Pickwick Papers bookThe The fThe famous writer')"
   ]
  },
  {
   "cell_type": "code",
   "execution_count": 69,
   "metadata": {},
   "outputs": [
    {
     "name": "stdout",
     "output_type": "stream",
     "text": [
      "The famous writer a\n"
     ]
    }
   ],
   "source": [
    "def TestGetSuffix(a,b): # 测试获取后缀\n",
    "    i = 0\n",
    "    j = 0\n",
    "    while i<len(a) and j<len(b) and a[i] == b[j]: # 若a[i]不匹配，则为a[:i]即之前，若a[len(a)-1]匹配，则i=len(a)也可，但是注意a[i]==b[j]需要放在后面判断\n",
    "        i = i+1\n",
    "        j = j+1\n",
    "    a = a[:i]\n",
    "    print(a)\n",
    "TestGetSuffix('The famous writer a','The famous writer a Ernest Miller Hemingway wrote The Old Man and the Sea book The great writer Jonathan Swift wrote GULLIVER’S TRAVELS book The amazing writer Charles Dickens wrote Pickwick Papers bookThe great writer')"
   ]
  },
  {
   "cell_type": "code",
   "execution_count": 70,
   "metadata": {},
   "outputs": [
    {
     "name": "stdout",
     "output_type": "stream",
     "text": [
      "[3, 1, 1, 1]\n"
     ]
    }
   ],
   "source": [
    "lists = [1,1,1,1]\n",
    "def a(s): # python函数中没有形参和实参之分，变量在函数中被改变了也会在函数外生效\n",
    "    s[0]=3\n",
    "a(lists)\n",
    "print(lists)"
   ]
  },
  {
   "cell_type": "code",
   "execution_count": 71,
   "metadata": {},
   "outputs": [
    {
     "name": "stdout",
     "output_type": "stream",
     "text": [
      "[]\n"
     ]
    }
   ],
   "source": [
    "def delop(data): # 从后往前遍历并删除\n",
    "    for i in range(len(data)-1,-1,-1):\n",
    "        del data[i]\n",
    "delop(data)\n",
    "# print(len(data))\n",
    "print(data)"
   ]
  },
  {
   "cell_type": "code",
   "execution_count": 114,
   "metadata": {},
   "outputs": [
    {
     "data": {
      "text/plain": [
       "<div class=\"book book_list clearfix\" id=\"book_list\">\n",
       "<a dd_name=\"（法）加缪,金祎（译）\" href=\"http://e.dangdang.com/products/1901114047.html\" target=\"_blank\" title=\"局外人\">\n",
       "<span class=\"bookcover\">\n",
       "<img alt=\"局外人\" src=\"http://img60.ddimg.cn/digital/product/40/47/1901114047_ii_cover.jpg?version=86d7497b-4c3f-400d-a223-f8ecb2155f97\"/>\n",
       "</span>\n",
       "<div class=\"bookinfo\">\n",
       "<div class=\"title\">局外人</div>\n",
       "<div class=\"author\">（法）加缪,金祎（译）</div>\n",
       "<div class=\"startie\"></div>\n",
       "<div class=\"price\">\n",
       "<span class=\"now\">￥5.99</span>\n",
       "</div>\n",
       "<div class=\"des\">　　公司小职员默尔索因杀人而被法庭指控，却因为“在母亲下葬时没有哭泣”，被判处了死刑。 　　在我们的社会里，任何不在他母亲葬礼上哭泣的人，都有可能被处以死刑。——加缪</div>\n",
       "</div>\n",
       "</a>\n",
       "<a dd_name=\"村上春树\" href=\"http://e.dangdang.com/products/1901116147.html\" target=\"_blank\" title=\"海边的卡夫卡\">\n",
       "<span class=\"bookcover\">\n",
       "<img alt=\"此书参加电子书49元5本\" class=\"promotion_label\" src=\"http://img63.ddimg.cn/web/pcbookstore/nyc2x.png\"/>\n",
       "<img alt=\"海边的卡夫卡\" src=\"http://img61.ddimg.cn/digital/product/61/47/1901116147_ii_cover.jpg?version=ebb99a3e-cb1f-4d7d-ba6d-59c3a9026f7d\"/>\n",
       "</span>\n",
       "<div class=\"bookinfo\">\n",
       "<div class=\"title\">海边的卡夫卡</div>\n",
       "<div class=\"author\">村上春树</div>\n",
       "<div class=\"startie\"></div>\n",
       "<div class=\"price\">\n",
       "<span class=\"now\">￥14.99</span>\n",
       "</div>\n",
       "<div class=\"des\">本书是村上春树仅次于《挪威的森林》的重要长篇小说，以其独特风格的两条平行线展。一条平行线是少年“田村卡夫卡”，为了挣脱“你要亲手杀死父亲，与母亲乱伦”的诅咒，离家乡投成人世界。此后父亲在家被杀，他却疑心自己是在睡梦中杀父。他在一座旧图书馆遇到一位50岁的优雅女性，梦中却与这位女性的少女形象交合，而这位女性又可能是他的生母。一条平行线是一名失忆老人中田，因为一桩离奇的杀人事件走上逃亡之路，在汽车司机星野的帮助下恢复了遥远的战争记忆。书中对日本军国主义的复活表达了忧虑，对日本的文化传统作出了反思。本书平装本2003年由我社初版，此后于2007年更换了封面，并作了修订。2014年，我社又出版了本书的精装本，再次作了修订。因上一个平装本封面已经10年未变，故第三次更换本书封面设计，使这部名作焕发新的活力。</div>\n",
       "</div>\n",
       "</a>\n",
       "<a dd_name=\"李尚龙\" href=\"http://e.dangdang.com/products/1901115247.html\" target=\"_blank\" title=\"人设\">\n",
       "<span class=\"bookcover\">\n",
       "<img alt=\"此书参加电子书49元5本\" class=\"promotion_label\" src=\"http://img63.ddimg.cn/web/pcbookstore/nyc2x.png\"/>\n",
       "<img alt=\"人设\" src=\"http://img62.ddimg.cn/digital/product/52/47/1901115247_ii_cover.jpg?version=e70386e9-db77-47a8-8e5a-944f6f0ceda1\"/>\n",
       "</span>\n",
       "<div class=\"bookinfo\">\n",
       "<div class=\"title\">人设</div>\n",
       "<div class=\"author\">李尚龙</div>\n",
       "<div class=\"startie\"></div>\n",
       "<div class=\"price\">\n",
       "<span class=\"now\">￥10.99</span>\n",
       "</div>\n",
       "<div class=\"des\">这是一个人人都拥有人设的时代，也是人设集体崩塌的时代。 我们每天都扮演着别人，却忘记了自己是谁。 李尚龙全新揭穿人生假面的长篇小说《人设》，是对社会上“人设”这个话题更深的一次思考。 在这个假面横行的时代，人设崩塌意味着什么，生活的本质是什么，什么又是真正的自己？愿你在这本书的故事中找到答案。</div>\n",
       "</div>\n",
       "</a>\n",
       "<a dd_name=\"(日)东野圭吾\" href=\"http://e.dangdang.com/products/1900471202.html\" target=\"_blank\" title=\"白夜行(易烊千玺、邓伦推荐，东野圭吾无冕之王我一直走在白夜里，从来就没有太阳，所以不怕失去)\">\n",
       "<span class=\"bookcover\">\n",
       "<img alt=\"白夜行(易烊千玺、邓伦推荐，东野圭吾无冕之王我一直走在白夜里，从来就没有太阳，所以不怕失去)\" src=\"http://img62.ddimg.cn/digital/product/12/2/1900471202_ii_cover.jpg?version=3e8ffeb0-5440-4bb8-b499-aa7b3758bb4355\"/>\n",
       "</span>\n",
       "<div class=\"bookinfo\">\n",
       "<div class=\"title\">白夜行(易烊千玺、邓伦推荐，东野圭吾无冕之王我一直走在白夜里，从来就没有太阳，所以不怕失去)</div>\n",
       "<div class=\"author\">(日)东野圭吾</div>\n",
       "<div class=\"startie\"></div>\n",
       "<div class=\"price\">\n",
       "<span class=\"now\">￥19.99</span>\n",
       "</div>\n",
       "<div class=\"des\">公园出现在右边，大小足以容纳两场三垒棒球开打，丛林越野游戏、秋千、滑梯等公园常见的游乐设施一应俱全。这座公园是附近*的一座，正式名称叫真澄公园。</div>\n",
       "</div>\n",
       "</a>\n",
       "<a dd_name=\"加西亚·马尔克斯\" href=\"http://e.dangdang.com/products/1901076610.html\" target=\"_blank\" title=\"百年孤独 马尔克斯代表作\">\n",
       "<span class=\"bookcover\">\n",
       "<img alt=\"百年孤独 马尔克斯代表作\" src=\"http://img62.ddimg.cn/digital/product/66/10/1901076610_ii_cover.jpg?version=e29af1af-639f-4c1b-bf21-ad2134c873f8\"/>\n",
       "</span>\n",
       "<div class=\"bookinfo\">\n",
       "<div class=\"title\">百年孤独 马尔克斯代表作</div>\n",
       "<div class=\"author\">加西亚·马尔克斯</div>\n",
       "<div class=\"startie\"></div>\n",
       "<div class=\"price\">\n",
       "<span class=\"now\">￥35.99</span>\n",
       "</div>\n",
       "<div class=\"des\">《百年孤独》是魔幻现实主义文学的代表作，描写了布恩迪亚家族七代人的传奇故事，以及加勒比海沿岸小镇马孔多的百年兴衰，反映了拉丁美洲一个世纪以来风云变幻的历史。作品融神话传说、民间故事、宗教典故等因素，巧妙地糅合了现实与虚幻，展现出一个瑰丽的想象世界，成为20世纪重要的经典文学巨著。1982年加西亚·马尔克斯获得诺贝尔文学奖，奠定*文学大师的地位，很大程度上便是凭借《百年孤独》的巨大影响。</div>\n",
       "</div>\n",
       "</a>\n",
       "<a dd_name=\"末那大叔\" href=\"http://e.dangdang.com/products/1901113857.html\" target=\"_blank\" title=\"我喜欢你，像风走了八千里\">\n",
       "<span class=\"bookcover\">\n",
       "<img alt=\"我喜欢你，像风走了八千里\" src=\"http://img60.ddimg.cn/digital/product/38/57/1901113857_ii_cover.jpg?version=cffba8bb-16e8-4264-8917-c1919a477334\"/>\n",
       "</span>\n",
       "<div class=\"bookinfo\">\n",
       "<div class=\"title\">我喜欢你，像风走了八千里</div>\n",
       "<div class=\"author\">末那大叔</div>\n",
       "<div class=\"startie\"></div>\n",
       "<div class=\"price\">\n",
       "<span class=\"now\">￥6.99</span>\n",
       "</div>\n",
       "<div class=\"des\">每个人心里都这样爱过一个人，不知疲惫，不问归期。《我喜欢你，像风走了八千里》是知名情感励志公众号“末那大叔”首本图书作品集，全书分为情话、前任、治愈、情商、解忧、厨房与爱，六个章节，写出每一个人在生活里不可或缺的主题。面对相聚和离散，爱的时候好好相爱，散的时候不计前嫌。面对前任互不扰，对待爱人不离不弃。人生就像是一场消耗之旅，愿你能把好的时光，耗在自己喜欢的人和事上。</div>\n",
       "</div>\n",
       "</a>\n",
       "<a dd_name=\"常书欣\" href=\"http://e.dangdang.com/products/1900652073.html\" target=\"_blank\" title=\"余罪：我的刑侦笔记(1-8册)\">\n",
       "<span class=\"bookcover\">\n",
       "<img alt=\"余罪：我的刑侦笔记(1-8册)\" src=\"http://img61.ddimg.cn/digital/product/20/73/1900652073_ii_cover.jpg?version=f2d2afa3-ed6b-4799-991a-dddce4a7eea1\"/>\n",
       "</span>\n",
       "<div class=\"bookinfo\">\n",
       "<div class=\"title\">余罪：我的刑侦笔记(1-8册)</div>\n",
       "<div class=\"author\">常书欣</div>\n",
       "<div class=\"startie\"></div>\n",
       "<div class=\"price\">\n",
       "<span class=\"now\">￥19.99</span>\n",
       "</div>\n",
       "<div class=\"des\">本书为您揭开的是一张令人触目惊心的当下社会犯罪网络。从混迹人群中的扒手，到躲在深山老林里的悍匪，从横行街头的流氓，到逡巡在海岸线边缘的毒枭；他们似乎离我们很远，似乎又很近，看似悄无声息，却又如影随形；作者所描写的，正是这个光怪陆离而又真实存在的地下世界。 警校学员余罪，在通过一次意外的选拔之后，被丢进了一间住满凶神恶煞的罪犯的牢房，他迅速发现，要在这个凶险万状的环境中活下来，自己必须比毒贩更奸诈，比窃贼更狡猾，比匪徒更残忍。他不仅要用罪犯的思维去理解犯罪，还要用罪犯的手段去对抗犯罪，更要和罪犯一样突破种种底线。在日复一日命悬一线的斗争中，余罪一步步走到了法律的边缘，他也开始怀疑：自己到底是在制止犯罪，还是也在犯罪…… 小说格局开阔，文笔生动，不仅向你打开了一个前所未闻的地下世界，其中近百个性格鲜明的警察和罪犯形象，更是栩栩如生，犹在眼前。 翻开本书，进入我们这个时代的灰色地带。</div>\n",
       "</div>\n",
       "</a>\n",
       "<a dd_name=\"威廉·萨默赛特·毛姆\" href=\"http://e.dangdang.com/products/1900631943.html\" target=\"_blank\" title=\"毛姆作品集（套装共12册）\">\n",
       "<span class=\"bookcover\">\n",
       "<img alt=\"毛姆作品集（套装共12册）\" src=\"http://img61.ddimg.cn/digital/product/19/43/1900631943_ii_cover.jpg?version=a688c0be-e91c-4623-aa44-fa95f44289c3\"/>\n",
       "</span>\n",
       "<div class=\"bookinfo\">\n",
       "<div class=\"title\">毛姆作品集（套装共12册）</div>\n",
       "<div class=\"author\">威廉·萨默赛特·毛姆</div>\n",
       "<div class=\"startie\"></div>\n",
       "<div class=\"price\">\n",
       "<span class=\"now\">￥153.00</span>\n",
       "</div>\n",
       "<div class=\"des\">《毛姆作品》是英国作家威廉·萨默塞特·毛姆的作品集，共收入十二部作品，包括长篇小说《圣诞假日》《旋转木马》《偏僻的角落》《魔法师》《彼时此时》《克拉多克夫人》《卡塔丽娜》《兰贝斯的丽莎》，短篇小说集《第一人称单数》《马来故事集》《爱德华·巴纳德的堕落》，以及读书随笔《书与你》。这些作品体现的毛姆的创作成就和写作风格，其中大部分作品是在国内新翻译出版。</div>\n",
       "</div>\n",
       "</a>\n",
       "<a dd_name=\"（日）东野圭吾\" href=\"http://e.dangdang.com/products/1901109262.html\" target=\"_blank\" title=\"黎明之街(我的世界在16岁崩塌了，我再无法相信任何人东野圭吾突破之作，比肩《白夜行》《秘密》)\">\n",
       "<span class=\"bookcover\">\n",
       "<img alt=\"此书参加电子书49元5本\" class=\"promotion_label\" src=\"http://img63.ddimg.cn/web/pcbookstore/nyc2x.png\"/>\n",
       "<img alt=\"黎明之街(我的世界在16岁崩塌了，我再无法相信任何人东野圭吾突破之作，比肩《白夜行》《秘密》)\" src=\"http://img61.ddimg.cn/digital/product/92/62/1901109262_ii_cover.jpg?version=81048f34-ce62-4afa-90fc-f8b686bdce13\"/>\n",
       "</span>\n",
       "<div class=\"bookinfo\">\n",
       "<div class=\"title\">黎明之街(我的世界在16岁崩塌了，我再无法相信任何人东野圭吾突破之作，比肩《白夜行》《秘密》)</div>\n",
       "<div class=\"author\">（日）东野圭吾</div>\n",
       "<div class=\"startie\"></div>\n",
       "<div class=\"price\">\n",
       "<span class=\"now\">￥11.99</span>\n",
       "</div>\n",
       "<div class=\"des\">《黎明之街》是东野圭吾极具突破性的经典长篇小说，在文学价值和可读性上惊人地同时达到了极高的高度，位列东野圭吾十大杰作。《黎明之街》不是推理小说，悬念却持续到了全书结尾，日本销量超200万册，比肩《白夜行》《秘密》《嫌疑人X的献身》等名著。东野圭吾对《黎明之街》非常满意，认为完成度超出了自己的预期，他说：“《黎明之街》是我首部以爱恋为主题的小说，没想到完成得这么好。希望读者会有这样的感受——东野圭吾写了和以往不太一样的东西，不过也很不错呢。” 《黎明之街》内容简介：我快四十岁了，家有妻女，工作小有所成，已过了可以执着于恋爱的年龄，但我无法自拔地爱上了新同事秋叶。 一个警察突然找到我，说秋叶是十五年前一桩命案的嫌疑人，案子的诉讼时效就要到了。我想相信秋叶是无辜的，但万一不是呢？我不敢再想下去。我突然意识到自己其实对深爱的这个女人一无所知。 座钟的指针过了零，秋叶紧闭的眼中溢出了泪水。她慢慢睁眼睛，长叹一声，嘴角浮现出笑容，说：“时效到期，一切都结束了。这么长时间真是辛苦你们了。”</div>\n",
       "</div>\n",
       "</a>\n",
       "<a dd_name=\"吕思勉\" href=\"http://e.dangdang.com/products/1900717393.html\" target=\"_blank\" title=\"吕思勉文集(套装共10册)\">\n",
       "<span class=\"bookcover\">\n",
       "<img alt=\"吕思勉文集(套装共10册)\" src=\"http://img60.ddimg.cn/digital/product/73/93/1900717393_ii_cover.jpg?version=bf4c5d2e-2c0c-4950-8f2e-7116f5009f4a555\"/>\n",
       "</span>\n",
       "<div class=\"bookinfo\">\n",
       "<div class=\"title\">吕思勉文集(套装共10册)</div>\n",
       "<div class=\"author\">吕思勉</div>\n",
       "<div class=\"startie\"></div>\n",
       "<div class=\"price\">\n",
       "<span class=\"now\">￥175.00</span>\n",
       "</div>\n",
       "<div class=\"des\">吕思勉文集(套装共10册)，套装分别包含：吕思勉文集：三国史话(国民阅读经典)；吕思勉文集：先秦学术概论；吕思勉文集：读史札记；吕思勉文集：史学与史籍七种；吕思勉文集：先秦史；吕思勉文集：中国近代史；吕思勉文集：秦汉史；吕思勉文集：理学纲要；吕思勉文集:文学与文选四种。</div>\n",
       "</div>\n",
       "</a>\n",
       "<a dd_name=\"阿尔贝·加缪\" href=\"http://e.dangdang.com/products/1900024988.html\" target=\"_blank\" title=\"局外人\">\n",
       "<span class=\"bookcover\">\n",
       "<img alt=\"局外人\" src=\"http://img60.ddimg.cn/digital/product/49/88/1900024988_ii_cover.jpg?version=a9ef7d2a-30aa-48ea-98ad-a4a33689b048555\"/>\n",
       "</span>\n",
       "<div class=\"bookinfo\">\n",
       "<div class=\"title\">局外人</div>\n",
       "<div class=\"author\">阿尔贝·加缪</div>\n",
       "<div class=\"startie\"></div>\n",
       "<div class=\"price\">\n",
       "<span class=\"now\">￥0.99</span>\n",
       "</div>\n",
       "<div class=\"des\">母亲在养老院去世了。除了请假去参加葬礼，默尔索的生活似乎并没有因此而发生变化，他甚至没有表现出应有的悲痛。葬礼后第二天，他便同以前的女同事约会，似乎一切又都归于正常。由于种种原因，默尔索与邻居雷蒙相熟，并应邀去海边过周末。在那里，发生了一件彻底改变默尔索平静生活的事件——他枪杀了一个同雷蒙有过节的阿拉伯人。于是，默尔索因杀人被拘捕。他并非蓄意谋杀那个阿拉伯人，但是他也无法解释开枪的动机。他不认为自己有罪，没有主动请律师为其辩护，也拒绝向神甫忏悔以祈求宽恕；他只是以一个局外人的形式存在着，感受时间的流逝，观察形形色色的人因为他的案子忙作一团。由于他在母亲葬礼上的冷漠表现，默尔索被定性为残忍的杀人犯而被判处死刑。死亡临近，他感到恐惧，但更多的则是前所未有的真实的存在感——“我体验到这个世界如此像我，如此有爱融洽，觉得自己过去曾经是幸福的，现在仍然是幸福的。”</div>\n",
       "</div>\n",
       "</a>\n",
       "<a dd_name=\"林奕含\" href=\"http://e.dangdang.com/products/1900778799.html\" target=\"_blank\" title=\"房思琪的初恋乐园\">\n",
       "<span class=\"bookcover\">\n",
       "<img alt=\"此书参加电子书49元5本\" class=\"promotion_label\" src=\"http://img63.ddimg.cn/web/pcbookstore/nyc2x.png\"/>\n",
       "<img alt=\"房思琪的初恋乐园\" src=\"http://img61.ddimg.cn/digital/product/87/99/1900778799_ii_cover.jpg?version=a29dea98-4130-4640-9b7b-82bae194d862\"/>\n",
       "</span>\n",
       "<div class=\"bookinfo\">\n",
       "<div class=\"title\">房思琪的初恋乐园</div>\n",
       "<div class=\"author\">林奕含</div>\n",
       "<div class=\"startie\"></div>\n",
       "<div class=\"price\">\n",
       "<span class=\"now\">￥10.99</span>\n",
       "</div>\n",
       "<div class=\"des\">令人心碎却无能为力的真实故事。 痛苦的际遇是如此难以分享，好险这个世界还有文学。 我下楼拿作文给李老师改。他掏出来，我被逼到涂在墙上。老师说了九个字：“不行的话，嘴巴可以吧。”我说了五个字：“不行，我不会。”他就塞来。那感觉像溺水。可以说话之后，我对老师说：“对不起。”有一种功课做不好的感觉。 小小的房思琪住在金碧辉煌的人生里，她的脸和她可以想象的将来一样漂亮。补习班语文名师李国华是同一栋高级住宅的邻居。崇拜文学的小房思琪同样崇拜饱读诗书的李老师。 有一天李老师说，你的程度这么好，不如每个礼拜交一篇作文给我吧，不收你周费。思琪听话地下楼了。老师在家里等她，桌上没有纸笔。 思琪的初恋是李老师。因为李老师把她翻面，把他的东西塞去。那年的教师节思琪才十三岁，这个世界和她原本认识的不一样。 如果这是爱情，为什么觉得暴力？为什么觉得被折断？为什么老师要一个女学生换过一个女学生？如果这不是爱情，那满口学问的李老师怎么能了以后，还这么自信、无疑、无愧于心？ 故事必须重新讲过，与房思琪情同双胞的刘怡婷，到警局通知，去带回神志不清，被判定疯了的房思琪。透过思琪的日记，怡婷得知思琪五年中的所见所思……嫁钱家的许伊纹，是两位少女的忘年交，二十余岁的她，是两位少女的文学启蒙者同时也是丈夫家暴的沉默受害者……升大学后的郭晓奇仍旧爱着高中时的补习教师李国华，而这位文质彬彬的补习教师并不只有平时人们眼中受人尊敬的老师形象的一面…… 这是一部惊人而特别的小说，小说作者既具有高度敏锐的感受力、又是一个近距离目者，使这整件事像一个“幸存的标本”那样地被保留下来。整本书反覆地、用极度贴近被侵害者的视角，直直逼视那种“别人夺去你某个珍贵之物”的痛苦──且掠夺之人是以此为乐。</div>\n",
       "</div>\n",
       "</a>\n",
       "<a dd_name=\"詹姆斯•乔伊斯,萧乾,文洁若（译）\" href=\"http://e.dangdang.com/products/1901100119.html\" target=\"_blank\" title=\"尤利西斯\">\n",
       "<span class=\"bookcover\">\n",
       "<img alt=\"此书参加电子书49元5本\" class=\"promotion_label\" src=\"http://img63.ddimg.cn/web/pcbookstore/nyc2x.png\"/>\n",
       "<img alt=\"尤利西斯\" src=\"http://img60.ddimg.cn/digital/product/1/19/1901100119_ii_cover.jpg?version=697bdb94-2e09-4a63-8e1e-1c297f0ce255\"/>\n",
       "</span>\n",
       "<div class=\"bookinfo\">\n",
       "<div class=\"title\">尤利西斯</div>\n",
       "<div class=\"author\">詹姆斯•乔伊斯,萧乾,文洁若（译）</div>\n",
       "<div class=\"startie\"></div>\n",
       "<div class=\"price\">\n",
       "<span class=\"now\">￥19.99</span>\n",
       "</div>\n",
       "<div class=\"des\">　　《尤利西斯》全书一共18个章节，讲述了1904年6月16日早上8至次日凌晨2发生的故事。每个章节讲述一天中一个小时之内发生的故事，每个章节都具有独特叙事风格，且每一章都和《奥德修纪》的一个章节相对应。 　　作者乔伊斯本人如此评论《尤利西斯》： 　　《尤利西斯》是一部关于两个民族的史诗，是一次周游人体器官的旅行，是一个发生在一天（一生）之间的小故事……也是一种百科全书。</div>\n",
       "</div>\n",
       "</a>\n",
       "<a dd_name=\"宁航一\" href=\"http://e.dangdang.com/products/1901115109.html\" target=\"_blank\" title=\"怪奇物语·噩梦\">\n",
       "<span class=\"bookcover\">\n",
       "<img alt=\"此书参加电子书49元5本\" class=\"promotion_label\" src=\"http://img63.ddimg.cn/web/pcbookstore/nyc2x.png\"/>\n",
       "<img alt=\"怪奇物语·噩梦\" src=\"http://img61.ddimg.cn/digital/product/51/9/1901115109_ii_cover.jpg?version=6f9eedb2-42ec-42e9-95f2-bdbb07c33565\"/>\n",
       "</span>\n",
       "<div class=\"bookinfo\">\n",
       "<div class=\"title\">怪奇物语·噩梦</div>\n",
       "<div class=\"author\">宁航一</div>\n",
       "<div class=\"startie\"></div>\n",
       "<div class=\"price\">\n",
       "<span class=\"now\">￥10.99</span>\n",
       "</div>\n",
       "<div class=\"des\">   噩梦，仅仅是头脑中的虚无幻想，还是世界zui恐怖的真相？5个令人头皮发麻的离奇故事，不断反转的思维游戏，让你深夜惊醒的噩梦，可能正是这世界的全部真相。《鼠男》：陈硕惧怕老鼠，却被一只大老鼠气浮上来头。在绞尽脑汁抓住老鼠后，陈硕始连做噩梦，在梦里他变成了下水道里的老鼠，在整座城市的地下游走。动物研究专家告诉他，某些动物是具有超能力的，而陈硕的命运已经和那只老鼠连在一起。为了早日触“诅咒”，陈硕始千方百计地保护那只老鼠，却误误撞地帮助警察破获了一起失踪案，此时，他才发现这一切都在那只老鼠的计划之中……</div>\n",
       "</div>\n",
       "</a>\n",
       "<a dd_name=\"余华\" href=\"http://e.dangdang.com/products/1900574033.html\" target=\"_blank\" title=\"活着（余华经典著作）\">\n",
       "<span class=\"bookcover\">\n",
       "<img alt=\"此书参加电子书49元5本\" class=\"promotion_label\" src=\"http://img63.ddimg.cn/web/pcbookstore/nyc2x.png\"/>\n",
       "<img alt=\"活着（余华经典著作）\" src=\"http://img61.ddimg.cn/digital/product/40/33/1900574033_ii_cover.jpg?version=077b54d0-5f7f-42d6-a780-3dda5f70adbf555\"/>\n",
       "</span>\n",
       "<div class=\"bookinfo\">\n",
       "<div class=\"title\">活着（余华经典著作）</div>\n",
       "<div class=\"author\">余华</div>\n",
       "<div class=\"startie\"></div>\n",
       "<div class=\"price\">\n",
       "<span class=\"now\">￥9.99</span>\n",
       "</div>\n",
       "<div class=\"des\">《活着》是一部充满血泪的小说。余华通过一位中国农民的苦难生活讲述了人如何去承受巨大的苦难；讲述了眼泪的丰富和宽广；讲述了绝望的不存在：讲述了人是为了活着本身而活着…… 《活着》这部小说荣获意大利格林扎纳·卡佛文学奖最高奖项(1998年 )，台湾《中国时报》10本好书奖(1994年)，香港“博益”15本好书奖 (1990年)；并入选香港《亚洲周刊》评选的“20世纪中文小说百年百强” ；入选中国百位批评家和文学编辑评选的“九十年代最有影响的10部作品 ”。</div>\n",
       "</div>\n",
       "</a>\n",
       "<a dd_name=\"刘慈欣\" href=\"http://e.dangdang.com/products/1901104637.html\" target=\"_blank\" title=\"三体全集(全3册)\">\n",
       "<span class=\"bookcover\">\n",
       "<img alt=\"三体全集(全3册)\" src=\"http://img60.ddimg.cn/digital/product/46/37/1901104637_ii_cover.jpg?version=199d0d94-8d46-45d1-9fb9-9030491091e9\"/>\n",
       "</span>\n",
       "<div class=\"bookinfo\">\n",
       "<div class=\"title\">三体全集(全3册)</div>\n",
       "<div class=\"author\">刘慈欣</div>\n",
       "<div class=\"startie\"></div>\n",
       "<div class=\"price\">\n",
       "<span class=\"now\">￥29.99</span>\n",
       "</div>\n",
       "<div class=\"des\">编辑推荐： ◆就是它！征服世界的中国科幻神作！ ◆包揽九项世界顶级科幻大奖！ 《三体》获得第73届“雨果奖”最佳长篇奖！ 《三体》获得2014年度美国科幻奇幻协会“星云奖”最佳长篇小说提名！ 《三体3·死神永生》获得世界科幻“轨迹奖”最佳长篇科幻小说奖！ 《三体》获得2015年度“普罗米修斯奖”最佳长篇小说提名！ 《三体》获得“约翰·W·坎贝尔奖”最佳科幻小说提名！ 《三体》获得“西班牙伊格诺特斯奖”最佳国外长篇小说奖！ 《三体》获得2017年“德国库尔德·拉西茨奖”最佳翻译小说奖！ 《三体》获得法国科幻文学大奖外国小说类提名！ 《三体》获得2018意大利“科幻大奖”最佳国际科幻小说奖！ 刘慈欣获得2018年度克拉克想象力贡献社会奖！ ◆出版16个语种，横扫30国读者！ ◆奥巴马、雷军、马化腾、周鸿袆、潘石屹、扎克伯格……强推！ 奥巴马：“三体太有想象力了，背景十分宏大。拥有狂野的想象力，非常有趣。” 莫言：“刘慈欣利用深厚的科学知识作为想象力的基础，把人间的生活、想象的生活融合在一起，产生了独特的趣味。” 韩松：“刘慈欣近乎完美地把中国5000年历史与宇宙150亿年现实融合在了一起。” 雷军：“《三体》不仅仅是本科幻小说，本质上是哲学书，主要讲宇宙社会学，其中提到的黑暗森林、降维攻击尤其深刻。” 李淼：“《三体》是迄今为止中文科幻界出现的最有影响力的科幻小说之一，不论在想象力方面，还是在规模方面，可以说是最接近世界一流的科幻小说。” 内容简介： 《三体1》 军方探寻外星文明的绝秘计划“红岸工程”取得了突破性进展。但在按下发射键的那一刻，历经劫难的叶文洁没有意识到，她彻底改变了人类的命运。 地球文明向宇宙发出的一声啼鸣，以太阳为中心，以光速向宇宙深处飞驰……四光年外的“三体文明”百余次毁灭与重生，正被逼迫不得不逃离母星，而恰在此时，他们接收到了地球发来的信息。 庞大的三体舰队开始向地球进发，人类的末日悄然来临…… 《三体2·黑暗森林》 庞大的三体舰队杀气腾腾直扑太阳系，被尖端科技锁死的地球人面对前所未有的危局，组建起同样庞大的太空舰队，同时行星防御理事会（PDC）利用三体人一个致命的缺陷，制订了“面壁计划”。 在这场你死我活的文明生存竞争中，罗辑探索出了宇宙文明间的黑暗森林法则，暂时使地球与三体建立起脆弱的战略平衡。 在这样脆弱的关系中，宇宙就是一座黑暗森林，每个文明都是带枪的猎人。 猎捕即将开始…… 《三体3·死神永生》 身患绝症的云天明买下一颗星星送给暗恋着的大学同学程心，而程心因参与向三体舰队发射探测器的工作，让云天明作为被执行人将大脑捐献给阶梯计划。 云天明被送去三体后，向程心透露了大量的情报；人类自以为悟出了生存竞争的秘密，开始进行掩体计划…… 在地球人类接近灭亡之际，程心在云天明送的一颗行星上，遇到了关一帆，且探讨了宇宙降维的真相…… 掩体计划的背后到底隐藏着什么阴谋？降维的真相又揭示了怎样的宇宙？ 宇宙的零点，即将进入倒计时......</div>\n",
       "</div>\n",
       "</a>\n",
       "<a dd_name=\"维尔吉妮·格里马尔蒂\" href=\"http://e.dangdang.com/products/1901111564.html\" target=\"_blank\" title=\"我余生的第一天\">\n",
       "<span class=\"bookcover\">\n",
       "<img alt=\"此书参加电子书49元5本\" class=\"promotion_label\" src=\"http://img63.ddimg.cn/web/pcbookstore/nyc2x.png\"/>\n",
       "<img alt=\"我余生的第一天\" src=\"http://img62.ddimg.cn/digital/product/15/64/1901111564_ii_cover.jpg?version=10f7d3cc-5152-4b54-9a4b-374c5e75ee12\"/>\n",
       "</span>\n",
       "<div class=\"bookinfo\">\n",
       "<div class=\"title\">我余生的第一天</div>\n",
       "<div class=\"author\">维尔吉妮·格里马尔蒂</div>\n",
       "<div class=\"startie\"></div>\n",
       "<div class=\"price\">\n",
       "<span class=\"now\">￥22.99</span>\n",
       "</div>\n",
       "<div class=\"des\">从一眼望穿的生活中逃离，究竟有多难？ 很多时候，玛丽都觉得自己的人生索然无味，曾经，她也怀揣梦想，意气风发。她以全部的热情投生活当中，为家人奉献一切，却唯独失去了自我。然而日复一日，丈夫对她也越来越无视，连孩子们都觉得母亲应该去过真正属于自己的生活。终于有一天，在她的丈夫40岁生日这一天，她决定给他一个惊喜：她独自踏上了环球航行的游轮，希望能从一眼望穿的生活中逃离，给自己一个重生的机会。她遇见了各种各样的人，每个人都有自己的困境，也终于在这趟旅程中找到了疗愈自己的方法。?</div>\n",
       "</div>\n",
       "</a>\n",
       "<a dd_name=\"（日）东野圭吾\" href=\"http://e.dangdang.com/products/1901109260.html\" target=\"_blank\" title=\"东野圭吾：悲剧人偶\">\n",
       "<span class=\"bookcover\">\n",
       "<img alt=\"此书参加电子书49元5本\" class=\"promotion_label\" src=\"http://img63.ddimg.cn/web/pcbookstore/nyc2x.png\"/>\n",
       "<img alt=\"东野圭吾：悲剧人偶\" src=\"http://img60.ddimg.cn/digital/product/92/60/1901109260_ii_cover.jpg?version=dca0b5ed-4471-489e-90f3-50b2af1b96c2\"/>\n",
       "</span>\n",
       "<div class=\"bookinfo\">\n",
       "<div class=\"title\">东野圭吾：悲剧人偶</div>\n",
       "<div class=\"author\">（日）东野圭吾</div>\n",
       "<div class=\"startie\"></div>\n",
       "<div class=\"price\">\n",
       "<span class=\"now\">￥13.99</span>\n",
       "</div>\n",
       "<div class=\"des\">《悲剧人偶》是日本作家东野圭吾的长篇小说，中文简体初次出版，讲述了一个精妙的诡计，一个纯粹的烧脑解谜：在这个家里，命案连发生。所有人的不在场证明都如蛛网般整齐严密，只有不会说话的人偶看到了真相。《悲剧人偶》与《恶意》《圣女的救济》等书一起，被日本读者票选为东野圭吾十大被低估杰作。东野说：“《悲剧人偶》让我明白了自己的定位，从各种意义上说，这部作品可能都是一个转折。” 内容梗概：一个男人把我带上楼，放到架子上，目光锐利地反复量我，随即离，这让我猛地嗅到了危险的气息。不久，悲鸣响起，一个身穿白色睡裙的女人从我面前跑过，冲向阳台。我身后的房间里冲出来两个人大声呼喊，但女人径直翻过护栏，纵身跳下。 人们称我为悲剧人偶，说我会给每个拥有我的人带去不幸。这是我在这里看到的事。</div>\n",
       "</div>\n",
       "</a>\n",
       "<a dd_name=\"周桦\" href=\"http://e.dangdang.com/products/1900545364.html\" target=\"_blank\" title=\"褚时健传\">\n",
       "<span class=\"bookcover\">\n",
       "<img alt=\"此书参加电子书49元5本\" class=\"promotion_label\" src=\"http://img63.ddimg.cn/web/pcbookstore/nyc2x.png\"/>\n",
       "<img alt=\"褚时健传\" src=\"http://img61.ddimg.cn/digital/product/53/64/1900545364_ii_cover.jpg?version=a7c53c04-498d-4b73-a468-c1cccb1c316e\"/>\n",
       "</span>\n",
       "<div class=\"bookinfo\">\n",
       "<div class=\"title\">褚时健传</div>\n",
       "<div class=\"author\">周桦</div>\n",
       "<div class=\"startie\"></div>\n",
       "<div class=\"price\">\n",
       "<span class=\"now\">￥5.99</span>\n",
       "</div>\n",
       "<div class=\"des\">褚时健，这是一个在中国烟草史上举足轻重的名字，这是一位将地方工厂发展成世界级行业巨头的能人，临近退休却折戟沉沙。 十几年后，褚时健的名字因为橙子享誉大江南北，以70几岁高龄重新创业的故事，激励和影响了无数的人，褚橙也被称为“励志橙”。 他的人生几经起落：早年丧父，辍学、烤酒、种地，以此帮母亲谋生；青年，重新求学却遭遇战争，扛过枪打过仗；解放后没能逃脱“右派”的命运，却能埋头搞生产，所在糖厂成为当地条件比较好的地方；年过半百，接手玉溪卷烟厂，将其打造成亚洲第一、世界第五的集团企业，褚时健也成为“亚洲烟王”。然而，巅峰跌落…… 当他再次进入公众视野时，已成橙王。拜访、学习甚至膜拜的创业者和企业家蜂拥哀牢山…… 88年丰富、起伏的人生经历，他的命运和这个国家的政治经济体制过招不断，碰撞不断；他的个人故事紧贴着共和国一个甲子的时代变迁。他的生活里有着生离死别，荣辱变换……人生经历当得上“传奇”二字。 在公众的眼光里，他被塑造成一个充满了豪壮悲情的悲剧性人物，甚至褚橙的成功也显得悲壮。但当《褚时健传》的作者走近褚时健才知道，对于自己人生起落的理解，褚时健比任何人都显得平静。 《褚时健传》由著名传记作家周桦执笔，历经一年多的走访、调查、创作而成，从褚时健的生平，到他的管理理念、企业家精神，再到玉溪卷烟厂、褚橙等的管理运营，采访之深入，细节之丰富，资料之完整权威，写作之客观理性，值得每一个读者认真品读。</div>\n",
       "</div>\n",
       "</a>\n",
       "<a dd_name=\"兰陵笑笑生\" href=\"http://e.dangdang.com/products/1900773436.html\" target=\"_blank\" title=\"金瓶梅(全两册)(崇祯版)(简体横排、无批评)\">\n",
       "<span class=\"bookcover\">\n",
       "<img alt=\"金瓶梅(全两册)(崇祯版)(简体横排、无批评)\" src=\"http://img62.ddimg.cn/digital/product/34/36/1900773436_ii_cover.jpg?version=4edcf21a-b25e-40b2-9372-4afd17560403\"/>\n",
       "</span>\n",
       "<div class=\"bookinfo\">\n",
       "<div class=\"title\">金瓶梅(全两册)(崇祯版)(简体横排、无批评)</div>\n",
       "<div class=\"author\">兰陵笑笑生</div>\n",
       "<div class=\"startie\"></div>\n",
       "<div class=\"price\">\n",
       "<span class=\"now\">￥19.99</span>\n",
       "</div>\n",
       "<div class=\"des\">《金瓶梅》是中国第一部文人独立创作的长篇白话世情章回小说。成书约在明朝隆庆至万历年间，作者署名兰陵笑笑生。与《三国演义》，《水浒传》，《西游记》合称明代四大奇书。它借《水浒传》中武松杀嫂一段故事为引子，通过对兼有官僚、恶霸、富商三种身份的市侩势力的代表人物西门庆及其家庭罪恶生活的描述，体现当时民间生活的面貌。描绘了一个上至朝廷内擅权专政的太师，下至地方官僚恶霸乃至市井间的地痞、流氓、宦官、帮闲所构成的鬼蜮世界。小说开拓了新的题材，拓展了审美领域，塑造了西门庆、潘金莲、李瓶儿、春梅、应伯爵，陈敬济等典型形象。小说以市井人物为主要角色，能多侧面多层次地描写，将明代封建社会的黑暗腐朽暴露得淋漓尽致。 《金瓶梅》作者是曹雪芹艺术革新的先驱，为《红楼梦》的产生作了准备。鲁迅因此论定「同时说部，无以上之」。《金瓶梅》中的性描写触及广阔的生活领域，以一种*的方式表现人之自然本性对「天理」禁锢的冲击。实多虚少，纯感官的再现，也反映了封建文人的性情趣。 《金瓶梅》先有抄本流传，在北京、麻城、诸城、金坛、苏州等地传抄，约经二三十年的传抄后始有刊本。 明清时期有三种版本系统：词话本系统：《新刻金瓶梅词话》、崇祯本或绣像本系统：《新刻绣像批评金瓶梅》、张评本系统：《张竹坡批评第一奇书金瓶梅》。 本套丛书采用的是崇祯本系统全本，编者以崇祯本为底本，以及民国时期已经出版的繁体版本，重新对本套图书精校、编排，形成了繁体竖排版《金瓶梅》，以飨读者。本版本无批评，无插图，没有任何删节，旨在向作者呈现一个完整原版内容，喜恶由君。</div>\n",
       "</div>\n",
       "</a>\n",
       "<a dd_name=\"老甄\" href=\"http://e.dangdang.com/products/1901100124.html\" target=\"_blank\" title=\"心理师(共5册)\">\n",
       "<span class=\"bookcover\">\n",
       "<img alt=\"心理师(共5册)\" src=\"http://img60.ddimg.cn/digital/product/1/24/1901100124_ii_cover.jpg?version=497a95f3-7fae-412a-9d86-e65426b43556\"/>\n",
       "</span>\n",
       "<div class=\"bookinfo\">\n",
       "<div class=\"title\">心理师(共5册)</div>\n",
       "<div class=\"author\">老甄</div>\n",
       "<div class=\"startie\"></div>\n",
       "<div class=\"price\">\n",
       "<span class=\"now\">￥39.99</span>\n",
       "</div>\n",
       "<div class=\"des\">孟新建被袭击昏迷之后无意间发现了长春某人防工事的据点，救出了文老师的初恋女友汪婷，并发现她背后隐藏着秘密。更可怕的是，孟新建发现自己体内多了一重人格，这个人格并不是自己内生分裂出来的人格，而是 “黑色火焰”的长老通过神秘手段给他强行植入的外生人格。但是，“黑色火焰”组织并没有对屡屡破坏自己计划的孟新建下毒手，而是隐藏着更大的阴谋。孟新建该如何面对自己体内的多重人格，甚至面临着外生人格把本生人格吞噬的灭顶之灾呢？</div>\n",
       "</div>\n",
       "</a>\n",
       "<div class=\"loading\" style=\"clear:both;\"></div></div>"
      ]
     },
     "execution_count": 114,
     "metadata": {},
     "output_type": "execute_result"
    }
   ],
   "source": [
    "import requests\n",
    "from bs4 import BeautifulSoup\n",
    "def CrawlWeb(path):\n",
    "    html = requests.get(path)\n",
    "    soup = BeautifulSoup(html.text)\n",
    "    body = soup.body\n",
    "    context = body.find('div','book book_list clearfix')\n",
    "    return context\n",
    "CrawlWeb('http://e.dangdang.com/list-WY1-dd_sale-0-1.html')"
   ]
  },
  {
   "cell_type": "code",
   "execution_count": null,
   "metadata": {},
   "outputs": [],
   "source": []
  }
 ],
 "metadata": {
  "kernelspec": {
   "display_name": "Python 3",
   "language": "python",
   "name": "python3"
  },
  "language_info": {
   "codemirror_mode": {
    "name": "ipython",
    "version": 3
   },
   "file_extension": ".py",
   "mimetype": "text/x-python",
   "name": "python",
   "nbconvert_exporter": "python",
   "pygments_lexer": "ipython3",
   "version": "3.7.0"
  }
 },
 "nbformat": 4,
 "nbformat_minor": 2
}
