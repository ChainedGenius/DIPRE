{
 "cells": [
  {
   "cell_type": "code",
   "execution_count": 63,
   "metadata": {},
   "outputs": [],
   "source": [
    "import re\n",
    "import pymysql\n",
    "from operator import itemgetter\n",
    "from itertools import groupby\n",
    "db = pymysql.connect(\"localhost\",\"root\",\"\",\"DIPRE\" ) # 连接数据库\n",
    "cursor = db.cursor()\n",
    "cursor.close()"
   ]
  },
  {
   "cell_type": "code",
   "execution_count": 96,
   "metadata": {},
   "outputs": [
    {
     "data": {
      "text/plain": [
       "[{'id': 6,\n",
       "  'url': 'www.books.com/TopRated',\n",
       "  'text': 'The famous writer Charles Dickens wrote Great Expectations book'},\n",
       " {'id': 7,\n",
       "  'url': 'www.books.com/BestSeller',\n",
       "  'text': \"The famous writer Ernest Miller Hemingway wrote The Old Man and the Sea book The great writer Jonathan Swift wrote GULLIVER’S TRAVELS book The amazing writer Charles Dickens wrote Pickwick Papers bookThe great writer Nicholas Sparks wrote The Last Song book The amazing writer W. William Shakespeare wrote A Midsummer Night's Dream book\"},\n",
       " {'id': 8,\n",
       "  'url': 'www.rainydaypaperback.com/',\n",
       "  'text': 'Love in the Mortar Joints: The Story of Habitat for Humanity By: \"Fuller, Millard, Scott, Diane\" Price:\\xa0$36.00 \"Assassin\\'s Quest (The Farseer Trilogy, Book 3)\" By: \"Hobb, Robin\" Price:\\xa0$34.50 Eclipse (Twilight) By: \"Meyer, Stephenie\" Price:\\xa0$28.50 \"Eldest (Inheritance, Book 2)\" By: \"Paolini, Christopher\" Price:\\xa0$27.50 New Moon (Twilight) By: \"Meyer, Stephenie\" Price:\\xa0$27.00 Deviant Moon Tarot By: Patrick Valenza Price:\\xa0$25.95 The Sheikh\\'s Secret Son (The Fortunes of Texas) By: \"Michaels, Kasey\" Price:\\xa0$25.50 City of Heavenly Fire (The Mortal Instruments) By: \"Clare, Cassandra\" Price:\\xa0$25.00'},\n",
       " {'id': 9,\n",
       "  'url': 'www.rainydaypaperback.com/products/category/3107/~/~/adventure',\n",
       "  'text': 'Rock Climbing (Adventure Sports) By:\\xa0\"Barry, John, Shepherd, Nigel\" Price:\\xa0$7.95 \"The Action Hero\\'s Handbook: How to Catch a Great White Shark, Perform the Vulcan Nerve Pinch, Track a Fugitive, and Dozens of Other TV and Movie Skills\" By:\\xa0\"Borgenicht, David, Borgenicht, Joe\" Price:\\xa0$7.45 \"Anne Bonny, Pirate Queen: The True Saga of a Fabulous Female Buccaneer)\" By:\\xa0\"Brown, Douglas\" Price:\\xa0$7.95 \"Pellucidar (Pellucidar, No 2)\" By:\\xa0\"Burroughs, Edgar Rice\" Price:\\xa0$1.95 One Thousand Metres Down: True Adventures Under the Earth By:\\xa0\"Cadoux, Jean\" Price:\\xa0$13.95 \"Finding New England\\'s Shipwrecks and Treasures (Collectible Classics, No. 6)\" By:\\xa0\"Cahill, Robert E.\" Price:\\xa0$3.00 Indiana Jones and the Sky Pirates By:\\xa0\"Caidin, Martin\" Price:\\xa0$2.50'},\n",
       " {'id': 10,\n",
       "  'url': 'www.rainydaypaperback.com/products/category/3597/~/~/alternate-thinking',\n",
       "  'text': '\"Beginning with the End: God, Science, and Wolfhart Pannenberg\"\\r By:\\xa0\"Albright, Carol\"\\r Price:\\xa0$9.00\\r Publisher: Open Court:\\r Seller ID: 9780812693263\\r ISBN: 0812693264\\r Condition: very good\\r The Spirit of the Chinese Character: Gifts from the Heart\\r By:\\xa0\"Aria, Barbara\"\\r Price:\\xa0$7.45\\r Publisher: Chronicle Books:\\r Seller ID: 9780811801423\\r ISBN: 081180142X\\r Condition: GOOD\\r What the Bleep Do We Know!?â„¢: Discovering the Endless Possibilities for Altering Your Everyday Reality\\r By:\\xa0\"Arntz, William, Chasse, Betsy, Vicente, Mark\"\\r Price:\\xa0$13.45\\r Publisher: HCI:\\r Seller ID: 9780757303340\\r ISBN: 075730334X\\r Condition: GOOD'}]"
      ]
     },
     "execution_count": 96,
     "metadata": {},
     "output_type": "execute_result"
    }
   ],
   "source": [
    "def GetData(): # 获取数据库中的数据，以列表—字典的形式返回\n",
    "    cursor = db.cursor()\n",
    "    sql = \"select * from webpage\"\n",
    "    data = []\n",
    "    try:\n",
    "        cursor.execute(sql)\n",
    "        results = cursor.fetchall()\n",
    "        for row in results:\n",
    "            each = {}\n",
    "            each['id'] = row[0]\n",
    "            each['url'] = row[1]\n",
    "            each['text'] = row[2].replace('\\n',' ')\n",
    "            data.append(each)\n",
    "    except:\n",
    "        db.rollback()\n",
    "    cursor.close()\n",
    "    return data\n",
    "data = GetData()\n",
    "data"
   ]
  },
  {
   "cell_type": "code",
   "execution_count": 65,
   "metadata": {},
   "outputs": [
    {
     "data": {
      "text/plain": [
       "[{'author': 'Charles Dickens', 'title': 'Great Expectations'},\n",
       " {'author': 'Nicholas Sparks', 'title': 'The Last Song'},\n",
       " {'author': 'Michaels, Kasey',\n",
       "  'title': \"The Sheikh's Secret Son (The Fortunes of Texas)\"},\n",
       " {'author': 'Clare, Cassandra',\n",
       "  'title': 'City of Heavenly Fire (The Mortal Instruments)'}]"
      ]
     },
     "execution_count": 65,
     "metadata": {},
     "output_type": "execute_result"
    }
   ],
   "source": [
    "seeds = [] # 手动形成种子，后续改为从数据库中获取种子\n",
    "book1 = {'author':'Charles Dickens','title':'Great Expectations'}\n",
    "book2 = {'author':'Nicholas Sparks','title':'The Last Song'}\n",
    "book3 = {'author':'Michaels, Kasey','title':'The Sheikh\\'s Secret Son (The Fortunes of Texas)'}\n",
    "book4 = {'author':'Clare, Cassandra','title':'City of Heavenly Fire (The Mortal Instruments)'}\n",
    "seeds.append(book1)\n",
    "seeds.append(book2)\n",
    "seeds.append(book3)\n",
    "seeds.append(book4)\n",
    "seeds"
   ]
  },
  {
   "cell_type": "code",
   "execution_count": 66,
   "metadata": {},
   "outputs": [
    {
     "data": {
      "text/plain": [
       "{'author': 'Charles Dickens',\n",
       " 'title': 'Great Expectations',\n",
       " 'order': 1,\n",
       " 'url': 'www.books.com/TopRated',\n",
       " 'prefix': 'The famous writer ',\n",
       " 'middle': ' wrote ',\n",
       " 'suffix': ' book'}"
      ]
     },
     "execution_count": 66,
     "metadata": {},
     "output_type": "execute_result"
    }
   ],
   "source": [
    "def SearchSeedInLine(author,title,url,line): # 在一行中搜索一个种子的元组对（先假设只有一行）\n",
    "    occurrence = {}\n",
    "    if author in line and title in line: # 作者和标题都在该行则记录事件,需要先判定是作者在前还是标题在前\n",
    "        posA = line.index(author)\n",
    "        posT = line.index(title)\n",
    "        if(posA<posT): # 如果作者在前则为1，否则为0\n",
    "            order = 1\n",
    "            prefix = line[:posA]\n",
    "            middle = line[posA+len(author):posT]\n",
    "            suffix = line[posT+len(title):]\n",
    "        else:\n",
    "            order = 0\n",
    "            prefix = line[:posT]\n",
    "            middle = line[posT+len(title):posA]\n",
    "            suffix = line[posA+len(author):]\n",
    "        occurrence['author'] = author # 记录事件并返回\n",
    "        occurrence['title'] = title\n",
    "        occurrence['order'] = order\n",
    "        occurrence['url'] = url\n",
    "        occurrence['prefix'] = prefix\n",
    "        occurrence['middle'] = middle\n",
    "        occurrence['suffix'] = suffix\n",
    "        return occurrence\n",
    "    return None\n",
    "occurrence = SearchSeedInLine(seeds[0]['author'],seeds[0]['title'],data[0]['url'],data[0]['text'])\n",
    "occurrence # 在第一个数据中搜索到的第一个种子"
   ]
  },
  {
   "cell_type": "code",
   "execution_count": 67,
   "metadata": {},
   "outputs": [
    {
     "data": {
      "text/plain": [
       "[{'author': 'Charles Dickens',\n",
       "  'title': 'Great Expectations',\n",
       "  'order': 1,\n",
       "  'url': 'www.books.com/TopRated',\n",
       "  'prefix': 'The famous writer ',\n",
       "  'middle': ' wrote ',\n",
       "  'suffix': ' book'},\n",
       " {'author': 'Nicholas Sparks',\n",
       "  'title': 'The Last Song',\n",
       "  'order': 1,\n",
       "  'url': 'www.books.com/BestSeller',\n",
       "  'prefix': 'The famous writer Ernest Miller Hemingway wrote The Old Man and the Sea book The great writer Jonathan Swift wrote GULLIVER’S TRAVELS book The amazing writer Charles Dickens wrote Pickwick Papers bookThe great writer ',\n",
       "  'middle': ' wrote ',\n",
       "  'suffix': \" book The amazing writer W. William Shakespeare wrote A Midsummer Night's Dream book\"},\n",
       " {'author': 'Michaels, Kasey',\n",
       "  'title': \"The Sheikh's Secret Son (The Fortunes of Texas)\",\n",
       "  'order': 0,\n",
       "  'url': 'www.rainydaypaperback.com/',\n",
       "  'prefix': 'Love in the Mortar Joints: The Story of Habitat for Humanity By: \"Fuller, Millard, Scott, Diane\" Price:\\xa0$36.00 \"Assassin\\'s Quest (The Farseer Trilogy, Book 3)\" By: \"Hobb, Robin\" Price:\\xa0$34.50 Eclipse (Twilight) By: \"Meyer, Stephenie\" Price:\\xa0$28.50 \"Eldest (Inheritance, Book 2)\" By: \"Paolini, Christopher\" Price:\\xa0$27.50 New Moon (Twilight) By: \"Meyer, Stephenie\" Price:\\xa0$27.00 Deviant Moon Tarot By: Patrick Valenza Price:\\xa0$25.95 ',\n",
       "  'middle': ' By: \"',\n",
       "  'suffix': '\" Price:\\xa0$25.50 City of Heavenly Fire (The Mortal Instruments) By: \"Clare, Cassandra\" Price:\\xa0$25.00'},\n",
       " {'author': 'Clare, Cassandra',\n",
       "  'title': 'City of Heavenly Fire (The Mortal Instruments)',\n",
       "  'order': 0,\n",
       "  'url': 'www.rainydaypaperback.com/',\n",
       "  'prefix': 'Love in the Mortar Joints: The Story of Habitat for Humanity By: \"Fuller, Millard, Scott, Diane\" Price:\\xa0$36.00 \"Assassin\\'s Quest (The Farseer Trilogy, Book 3)\" By: \"Hobb, Robin\" Price:\\xa0$34.50 Eclipse (Twilight) By: \"Meyer, Stephenie\" Price:\\xa0$28.50 \"Eldest (Inheritance, Book 2)\" By: \"Paolini, Christopher\" Price:\\xa0$27.50 New Moon (Twilight) By: \"Meyer, Stephenie\" Price:\\xa0$27.00 Deviant Moon Tarot By: Patrick Valenza Price:\\xa0$25.95 The Sheikh\\'s Secret Son (The Fortunes of Texas) By: \"Michaels, Kasey\" Price:\\xa0$25.50 ',\n",
       "  'middle': ' By: \"',\n",
       "  'suffix': '\" Price:\\xa0$25.00'}]"
      ]
     },
     "execution_count": 67,
     "metadata": {},
     "output_type": "execute_result"
    }
   ],
   "source": [
    "def SearchSeeds(): # 在所有数据中搜索所有种子\n",
    "    ouccurrences = [] # 事件列表\n",
    "    for seed in seeds:\n",
    "        for page in data:\n",
    "            occurrence = SearchSeedInLine(seed['author'],seed['title'],page['url'],page['text'])\n",
    "            if occurrence is not None:\n",
    "                ouccurrences.append(occurrence)\n",
    "    return ouccurrences\n",
    "occurrences = SearchSeeds()\n",
    "# occurrences[0]['order'] = 0\n",
    "occurrences # 在所有数据中搜索到的所有种子结果"
   ]
  },
  {
   "cell_type": "code",
   "execution_count": null,
   "metadata": {},
   "outputs": [],
   "source": []
  },
  {
   "cell_type": "code",
   "execution_count": 92,
   "metadata": {},
   "outputs": [
    {
     "data": {
      "text/plain": [
       "[{'prefix': '',\n",
       "  'suffix': '\" Price:\\xa0$25.',\n",
       "  'order': 0,\n",
       "  'middle': 'By: \"',\n",
       "  'url': 'www.rainydaypaperback.com'},\n",
       " {'prefix': 'writer',\n",
       "  'suffix': 'book',\n",
       "  'order': 1,\n",
       "  'middle': 'wrote',\n",
       "  'url': 'www.books.com'}]"
      ]
     },
     "execution_count": 92,
     "metadata": {},
     "output_type": "execute_result"
    }
   ],
   "source": [
    "def GroupByOrderAndMiddle(): # 通过order和middle进行分组，并对每组数据形成模式\n",
    "    patterns = []\n",
    "    occurrences.sort(key = itemgetter('order')) # 按照对order字段进行排序\n",
    "    for middle,items in groupby(occurrences,key = itemgetter('middle')): # groupby（）函数在每次迭代的时候，会返回一个分组后的分组值和一个迭代器对象，迭代器对象包含对应分组值的所有对象。\n",
    "        lists  = list(items) # 迭代器只能迭代一次，所以转化为列表进行操作\n",
    "        if len(lists) > 1: # 每类分组中需要至少两组数据才能形成模式\n",
    "            eachpatterns = GroupByUrl(lists) # 这里eachpatterns的结构为[{'a':'a','b':'b'},{'a':'c','b':'d'}]，因此需要用+做合并列表操作\n",
    "            patterns = patterns + eachpatterns\n",
    "    return patterns\n",
    "patterns = GroupByOrderAndMiddle()\n",
    "patterns"
   ]
  },
  {
   "cell_type": "code",
   "execution_count": 87,
   "metadata": {},
   "outputs": [],
   "source": [
    "def GroupByUrl(lists): # 从已经通过order和middle分组的数据组中再通过网址进行分组\n",
    "    patterns = []\n",
    "    for each in lists:\n",
    "        each['url'] = each['url'].split('/')[0] # 切割分组后每组数据的url，取主网址\n",
    "    for url,items in groupby(lists,key = itemgetter('url')): # 再通过url主网址进行分组\n",
    "        lists = list(items)\n",
    "        if len(lists) > 1:\n",
    "            pattern = GetPrefixAndSuffix(lists)\n",
    "            patterns.append(pattern) # 这里获取到的是一个模式集合，因此在列表中追加即可\n",
    "    return patterns"
   ]
  },
  {
   "cell_type": "code",
   "execution_count": 88,
   "metadata": {},
   "outputs": [],
   "source": [
    "def GetPrefixAndSuffix(lists): # 经过order、middle和url的分组后，剩下的不再分组，形成一个模式\n",
    "    prefix = lists[0]['prefix'] # 匹配每组数据中公共的前缀，不保证不为空\n",
    "    suffix = lists[0]['suffix']\n",
    "    for each in lists:  # 这里的操作是默认前缀为第一个数据，然后与后面的数据进行匹配，在第一个数据的基础上做缩减操作\n",
    "        i = len(prefix)-1\n",
    "        j = len(each['prefix'])-1\n",
    "        while i>=0 and j>=0 and each['prefix'][j] == prefix[i]:\n",
    "            i = i-1\n",
    "            j = j-1\n",
    "        prefix = prefix[i+1:]\n",
    "        \n",
    "        m = 0\n",
    "        n = 0\n",
    "        while m<len(suffix) and n<len(each['suffix']) and each['suffix'][n] == suffix[m]:\n",
    "            m = m+1\n",
    "            n = n+1\n",
    "        suffix = suffix[:m]\n",
    "    pattern = {}\n",
    "    pattern['prefix'] = prefix.strip()\n",
    "    pattern['suffix'] = suffix.strip()\n",
    "    pattern['order'] = lists[0]['order']\n",
    "    pattern['middle'] = lists[0]['middle'].strip()\n",
    "    pattern['url'] = lists[0]['url']\n",
    "    return pattern"
   ]
  },
  {
   "cell_type": "code",
   "execution_count": 89,
   "metadata": {},
   "outputs": [
    {
     "name": "stdout",
     "output_type": "stream",
     "text": [
      "he famous writer\n"
     ]
    }
   ],
   "source": [
    "def TestGetPrefix(a,b): # 测试获取前缀\n",
    "    i = len(a)-1\n",
    "    j = len(b)-1\n",
    "    while i>=0 and j>=0 and a[i] == b[j]: # 不匹配跳出不算a[i]，i=-1跳出也不算a[i]，但a[i]==b[j]需要放在后面判断\n",
    "        i = i-1\n",
    "        j = j-1\n",
    "    a = a[i+1:]\n",
    "    print(a)\n",
    "TestGetPrefix('ahe famous writer','The famous writer Ernest Miller Hemingway wrote The Old Man and the Sea book The great writer Jonathan Swift wrote GULLIVER’S TRAVELS book The amazing writer Charles Dickens wrote Pickwick Papers bookThe The fThe famous writer')"
   ]
  },
  {
   "cell_type": "code",
   "execution_count": 90,
   "metadata": {},
   "outputs": [
    {
     "name": "stdout",
     "output_type": "stream",
     "text": [
      "The famous writer a\n"
     ]
    }
   ],
   "source": [
    "def TestGetSuffix(a,b): # 测试获取后缀\n",
    "    i = 0\n",
    "    j = 0\n",
    "    while i<len(a) and j<len(b) and a[i] == b[j]: # 若a[i]不匹配，则为a[:i]即之前，若a[len(a)-1]匹配，则i=len(a)也可，但是注意a[i]==b[j]需要放在后面判断\n",
    "        i = i+1\n",
    "        j = j+1\n",
    "    a = a[:i]\n",
    "    print(a)\n",
    "TestGetSuffix('The famous writer a','The famous writer a Ernest Miller Hemingway wrote The Old Man and the Sea book The great writer Jonathan Swift wrote GULLIVER’S TRAVELS book The amazing writer Charles Dickens wrote Pickwick Papers bookThe great writer')"
   ]
  },
  {
   "cell_type": "code",
   "execution_count": 115,
   "metadata": {},
   "outputs": [
    {
     "name": "stdout",
     "output_type": "stream",
     "text": [
      "(' Charles Dickens ', ' Great Expectations ')\n",
      "(' Ernest Miller Hemingway ', ' The Old Man and the Sea ')\n",
      "(' Jonathan Swift ', ' GULLIVER’S TRAVELS ')\n",
      "(' Charles Dickens ', ' Pickwick Papers ')\n",
      "(' Nicholas Sparks ', ' The Last Song ')\n",
      "(' W. William Shakespeare ', \" A Midsummer Night's Dream \")\n"
     ]
    }
   ],
   "source": [
    "def FindBooksByPattern(MyPattern): # 通过一个模式在数据中查找书籍元组\n",
    "    for item in data:\n",
    "#         print(item)\n",
    "        if MyPattern['url'] in item['url']:\n",
    "            NewPattern = re.compile(MyPattern['prefix']+'(.*?)'+MyPattern['middle']+'(.*?)'+MyPattern['suffix'],re.I)\n",
    "            m = NewPattern.finditer(item['text'])\n",
    "            if m is not None:\n",
    "                for item in m:\n",
    "                    print(item.groups())\n",
    "FindBooksByPattern(patterns[1])"
   ]
  },
  {
   "cell_type": "code",
   "execution_count": 101,
   "metadata": {},
   "outputs": [
    {
     "name": "stdout",
     "output_type": "stream",
     "text": [
      "(' famous ', ' a Ernest Miller Hemingway ')\n",
      "(' Old Man and the Sea book The great ', ' Jonathan Swift ')\n",
      "(' amazing ', ' Charles Dickens ')\n"
     ]
    }
   ],
   "source": [
    "string = \"The famous writer a Ernest Miller Hemingway wrote The Old Man and the Sea book The great writer Jonathan Swift wrote GULLIVER’S TRAVELS book the amazing writer Charles Dickens wrote Pickwick Papers bookThe great writer\"\n",
    "pattern = re.compile(r\"the(.*?)writer(.*?)wrote\",re.I) # 'r'是防止字符转义的 如果路径中出现'\\t'的话 不加r的话\\t就会被转义 而加了'r'之后'\\t'就能保留原有的样子\n",
    "m = pattern.finditer(string)\n",
    "for item in m:\n",
    "    print(item.groups())\n",
    "\n",
    "# res = re.findall(\"the(.*?)writer(.*?)wrote\",string,re.I)\n",
    "# print(res)\n",
    "      \n",
    "# content = 'Hello 123456789 Word_This is just a test 666 Test'\n",
    "# result = re.search('(\\d+).*?(\\d+).*', content)\n",
    "# print(result)\n",
    "# print(result.group())    # print(result.group(0)) 同样效果字符串\n",
    "# print(result.groups())\n",
    "# print(result.group(1))\n",
    "# print(result.group(2))"
   ]
  },
  {
   "cell_type": "code",
   "execution_count": null,
   "metadata": {},
   "outputs": [],
   "source": []
  }
 ],
 "metadata": {
  "kernelspec": {
   "display_name": "Python 3",
   "language": "python",
   "name": "python3"
  },
  "language_info": {
   "codemirror_mode": {
    "name": "ipython",
    "version": 3
   },
   "file_extension": ".py",
   "mimetype": "text/x-python",
   "name": "python",
   "nbconvert_exporter": "python",
   "pygments_lexer": "ipython3",
   "version": "3.7.0"
  }
 },
 "nbformat": 4,
 "nbformat_minor": 2
}
