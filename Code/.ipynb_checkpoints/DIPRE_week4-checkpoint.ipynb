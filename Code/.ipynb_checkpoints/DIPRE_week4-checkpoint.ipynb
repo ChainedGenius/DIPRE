{
 "cells": [
  {
   "cell_type": "code",
   "execution_count": 20,
   "metadata": {},
   "outputs": [],
   "source": [
    "import re\n",
    "import pymysql\n",
    "import requests\n",
    "from bs4 import BeautifulSoup\n",
    "from operator import itemgetter\n",
    "from itertools import groupby\n",
    "CONST_M = 20 # 定义常量m，在记录事件时使用\n",
    "\n",
    "db = pymysql.connect(\"localhost\",\"root\",\"\",\"DIPRE\" ) # 连接数据库\n",
    "cursor = db.cursor()\n",
    "cursor.close()"
   ]
  },
  {
   "cell_type": "code",
   "execution_count": 3,
   "metadata": {},
   "outputs": [],
   "source": [
    "def CrawlWeb(path):\n",
    "    html = requests.get(path)\n",
    "    soup = BeautifulSoup(html.text)\n",
    "    body = soup.body\n",
    "#     print(body)\n",
    "#     return body\n",
    "    return str(body) # 这里一定要注意转化成字符串，不然返回的是soup对象\n",
    "# mytestsoup = CrawlWeb('http://e.dangdang.com/list-WX-dd_sale-0-1.html')"
   ]
  },
  {
   "cell_type": "code",
   "execution_count": 4,
   "metadata": {},
   "outputs": [],
   "source": [
    "def DelHrefInString(string):\n",
    "    return re.sub('href=\"(.*?)\"',\"\",string)\n",
    "#     print(re.sub('href=\"(.*?)\"',\"\",string))\n",
    "# print(DelHrefInString('\"href=\"http://e.dangdang.com/products/1901108556.html\" target=\"_blank\" title=\"'))\n",
    "\n",
    "def DelHrefInSoup(soup):\n",
    "    for item in soup.findAll('a'):\n",
    "        del item['href']\n",
    "    return str(soup)\n",
    "# DelHrefInSoup(mytestsoup)\n",
    "# print(mytestsoup)"
   ]
  },
  {
   "cell_type": "code",
   "execution_count": 5,
   "metadata": {
    "collapsed": true
   },
   "outputs": [
    {
     "data": {
      "text/plain": [
       "[{'id': 12,\n",
       "  'text': \"<body>\\n<h2>famous writer Ernest Miller Hemingway wrote The Old Man and the Sea book</h2>\\n<h2>great writer Jonathan Swift wrote GULLIVER`S TRAVELS book</h2>\\n<h2>amazing writer Charles Dickens wrote Pickwick Papers book</h2>\\n<h2>favorite writer Nicholas Sparks wrote The Last Song book</h2>\\n<h2>amazing writer W. William Shakespeare wrote A Midsummer Night's Dream book</h2>\\n</body>\",\n",
       "  'url': 'localhost/DIPRE/BestSeller.html'},\n",
       " {'id': 13,\n",
       "  'text': '<body>\\n<h2>The famous writer Charles Dickens wrote Great Expectations book</h2>\\n</body>',\n",
       "  'url': 'localhost/DIPRE/TopRated.html'},\n",
       " {'id': 15,\n",
       "  'text': '<body class=\"original_index\">\\n<!-- 页头begin -->\\n<script type=\"text/javascript\">\\n    eval(function(p,a,c,k,e,r){e=function(c){return c.toString(36)};if(\\'0\\'.replace(0,e)==0){while(c--)r[e(c)]=k[c];k=[function(e){return r[e]||e}];e=function(){return\\'[1-9a]\\'};c=1};while(c--)if(k[c])p=p.replace(new RegExp(\\'\\\\\\\\b\\'+e(c)+\\'\\\\\\\\b\\',\\'g\\'),k[c]);return p}(\\'(function(){2 1=4.createElement(\\\\\\'5\\\\\\');2 6=window.location.protocol.split(\\\\\\':\\\\\\')[0];if(6===\\\\\\'7\\\\\\'){1.8=\\\\\\'7://zz.bdstatic.9/linksubmit/3.a\\\\\\'}else{1.8=\\\\\\'http://3.zhanzhang.baidu.9/3.a\\\\\\'}2 s=4.getElementsByTagName(\"5\")[0];s.parentNode.insertBefore(1,s)})();\\',[],11,\\'|bp|var|push|document|script|curProtocol|https|src|com|js\\'.split(\\'|\\'),0,{}))</script>\\n<script type=\"text/javascript\">\\n    eval(function(p,a,c,k,e,r){e=function(c){return(c<a?\\'\\':e(parseInt(c/a)))+((c=c%a)>35?String.fromCharCode(c+29):c.toString(36))};if(!\\'\\'.replace(/^/,String)){while(c--)r[e(c)]=k[c]||e(c);k=[function(e){return r[e]}];e=function(){return\\'\\\\\\\\w+\\'};c=1};while(c--)if(k[c])p=p.replace(new RegExp(\\'\\\\\\\\b\\'+e(c)+\\'\\\\\\\\b\\',\\'g\\'),k[c]);return p}(\\'z(N 1v==\"O\"){l 1w=1;l Y=\"1x.1y\";l Z=\\\\\\'1z\\\\\\';l 18={19:0,1A:\"\",C:8,1a:o(a){l b=k.19?\"1B\":\"1C\";l c=\"\";P(l i=0;i<a.B*4;i++){c+=b.1b((a[i>>2]>>((i%4)*8+4))&1c)+b.1b((a[i>>2]>>((i%4)*8))&1c)}w c},1d:o(x,e){x[e>>5]|=1D<<((e)%32);x[(((e+1E)>>>9)<<4)+14]=e;l a=1F;l b=-1G;l c=-1H;l d=1I;P(l i=0;i<x.B;i+=16){l f=a;l g=b;l h=c;l j=d;a=k.p(a,b,c,d,x[i+0],7,-1J);d=k.p(d,a,b,c,x[i+1],12,-1K);c=k.p(c,d,a,b,x[i+2],17,1L);b=k.p(b,c,d,a,x[i+3],22,-1M);a=k.p(a,b,c,d,x[i+4],7,-1N);d=k.p(d,a,b,c,x[i+5],12,1O);c=k.p(c,d,a,b,x[i+6],17,-1P);b=k.p(b,c,d,a,x[i+7],22,-1Q);a=k.p(a,b,c,d,x[i+8],7,1R);d=k.p(d,a,b,c,x[i+9],12,-1S);c=k.p(c,d,a,b,x[i+10],17,-1T);b=k.p(b,c,d,a,x[i+11],22,-1U);a=k.p(a,b,c,d,x[i+12],7,1V);d=k.p(d,a,b,c,x[i+13],12,-1W);c=k.p(c,d,a,b,x[i+14],17,-1X);b=k.p(b,c,d,a,x[i+15],22,1Y);a=k.r(a,b,c,d,x[i+1],5,-1Z);d=k.r(d,a,b,c,x[i+6],9,-24);c=k.r(c,d,a,b,x[i+11],14,25);b=k.r(b,c,d,a,x[i+0],20,-26);a=k.r(a,b,c,d,x[i+5],5,-27);d=k.r(d,a,b,c,x[i+10],9,28);c=k.r(c,d,a,b,x[i+15],14,-29);b=k.r(b,c,d,a,x[i+4],20,-2a);a=k.r(a,b,c,d,x[i+9],5,2b);d=k.r(d,a,b,c,x[i+14],9,-2c);c=k.r(c,d,a,b,x[i+3],14,-2d);b=k.r(b,c,d,a,x[i+8],20,2e);a=k.r(a,b,c,d,x[i+13],5,-2f);d=k.r(d,a,b,c,x[i+2],9,-2g);c=k.r(c,d,a,b,x[i+7],14,2h);b=k.r(b,c,d,a,x[i+12],20,-2i);a=k.u(a,b,c,d,x[i+5],4,-2j);d=k.u(d,a,b,c,x[i+8],11,-2k);c=k.u(c,d,a,b,x[i+11],16,2l);b=k.u(b,c,d,a,x[i+14],23,-2m);a=k.u(a,b,c,d,x[i+1],4,-2n);d=k.u(d,a,b,c,x[i+4],11,2o);c=k.u(c,d,a,b,x[i+7],16,-2p);b=k.u(b,c,d,a,x[i+10],23,-2q);a=k.u(a,b,c,d,x[i+13],4,2r);d=k.u(d,a,b,c,x[i+0],11,-2s);c=k.u(c,d,a,b,x[i+3],16,-2t);b=k.u(b,c,d,a,x[i+6],23,2u);a=k.u(a,b,c,d,x[i+9],4,-2v);d=k.u(d,a,b,c,x[i+12],11,-2w);c=k.u(c,d,a,b,x[i+15],16,2x);b=k.u(b,c,d,a,x[i+2],23,-2y);a=k.v(a,b,c,d,x[i+0],6,-2z);d=k.v(d,a,b,c,x[i+7],10,2A);c=k.v(c,d,a,b,x[i+14],15,-2B);b=k.v(b,c,d,a,x[i+5],21,-2C);a=k.v(a,b,c,d,x[i+12],6,2D);d=k.v(d,a,b,c,x[i+3],10,-2E);c=k.v(c,d,a,b,x[i+10],15,-2F);b=k.v(b,c,d,a,x[i+1],21,-2G);a=k.v(a,b,c,d,x[i+8],6,2H);d=k.v(d,a,b,c,x[i+15],10,-2I);c=k.v(c,d,a,b,x[i+6],15,-2J);b=k.v(b,c,d,a,x[i+13],21,2K);a=k.v(a,b,c,d,x[i+4],6,-2L);d=k.v(d,a,b,c,x[i+11],10,-2M);c=k.v(c,d,a,b,x[i+2],15,2N);b=k.v(b,c,d,a,x[i+9],21,-2O);a=k.A(a,f);b=k.A(b,g);c=k.A(c,h);d=k.A(d,j)}w Q(a,b,c,d)},D:o(q,a,b,x,s,t){w k.A(k.1e(k.A(k.A(a,q),k.A(x,t)),s),b)},p:o(a,b,c,d,x,s,t){w k.D((b&c)|((~b)&d),a,b,x,s,t)},r:o(a,b,c,d,x,s,t){w k.D((b&d)|(c&(~d)),a,b,x,s,t)},u:o(a,b,c,d,x,s,t){w k.D(b^c^d,a,b,x,s,t)},v:o(a,b,c,d,x,s,t){w k.D(c^(b|(~d)),a,b,x,s,t)},1f:o(a){l b=Q();l c=(1<<k.C)-1;P(l i=0;i<a.B*k.C;i+=k.C)b[i>>5]|=(a.2P(i/k.C)&c)<<(i%32);w b},A:o(x,y){l a=(x&R)+(y&R);l b=(x>>16)+(y>>16)+(a>>16);w(b<<16)|(a&R)},1e:o(a,b){w(a<<b)|(a>>>(32-b))},1g:o(s){w k.1a(k.1d(k.1f(s),s.B*k.C))}};l T={1h:o(a){l b=U(a)+\"=\",L=E.F.1i(b),V=2Q;z(L>-1){l c=E.F.1i(\";\",L);z(c==-1){c=E.F.B}V=2R(E.F.2S(L+b.B,c))}w V},W:o(a,b,c,d,e,f){l g=U(a)+\"=\"+U(b);z(c 2T G){g+=\"; 2U=\"+c.2V()}z(d){g+=\"; 2W=\"+d}z(e){g+=\"; 2X=\"+e}z(f){g+=\"; 2Y\"}E.F=g},2Z:o(a,b,c,d){k.W(a,\"\",I G(0),b,c,d)}};l 1j={1k:o(){l n=I G();l y=n.30()+\\\\\\'\\\\\\';l m=n.31()+1;z(m<10)m=\"0\"+m;l d=n.33();z(d<10)d=\"0\"+d;l H=n.34();z(H<10)H=\"0\"+H;l M=n.36();z(M<10)M=\"0\"+M;l S=n.37();z(S<10)S=\"0\"+S;l a=\"38\"+n.39();a=a.X(a.B-3,3);l b=J.1l(1m+J.1n()*1o);l c=J.1l(1m+J.1n()*1o);l e=y+m+d+H+M+S+a+b+c+Z;l f=18.1g(e);f=k.1p(f);w y+m+d+H+M+S+a+f+b+c},1p:o(a){l b=3a(a.X(0,8),16);l c=3b(b).X(0,6);l d=c.B;z(d<6){c+=k.1q(\\\\\\'0\\\\\\',J.3c(6-d))}w c},1q:o(a,b){w I Q(b+1).3d(a)},1r:o(){l t=I G();w t.3e()},1s:o(){k.K=T.1h(\"1t\");z(N k.K==\\\\\\'O\\\\\\'||!/^\\\\\\\\d{35}$/.3f(k.K)){l a=I G(3g,1,1);k.K=k.1k();T.W(\"1t\",k.K,a,\"/\",Y)}z(N k.1u==\\\\\\'O\\\\\\'){k.1u=k.1r()}}};1j.1s()}\\',62,203,\\'||||||||||||||||||||this|var|||function|md5_ff||md5_gg|||md5_hh|md5_ii|return|||if|safe_add|length|chrsz|md5_cmn|document|cookie|Date||new|Math|permanent_id|cookieStart||typeof|undefined|for|Array|0xFFFF||CookieUtil|encodeURIComponent|cookieValue|set|substr|cookieDomain|_ddclick_hash_key|||||||||Md5Util|hexcase|binl2hex|charAt|0xF|core_md5|bit_rol|str2binl|hex_md5|get|indexOf|__ddclickFunctions|createPermanentID|floor|100000|random|900000|formatHashCode|str_repeat|initTime|init|__permanent_id|timestap|ddclick_page_tracker|ddclick_head_flag|dangdang|com|DDClick521|b64pad|0123456789ABCDEF|0123456789abcdef|0x80|64|1732584193|271733879|1732584194|271733878|680876936|389564586|606105819|1044525330|176418897|1200080426|1473231341|45705983|1770035416|1958414417|42063|1990404162|1804603682|40341101|1502002290|1236535329|165796510|||||1069501632|643717713|373897302|701558691|38016083|660478335|405537848|568446438|1019803690|187363961|1163531501|1444681467|51403784|1735328473|1926607734|378558|2022574463|1839030562|35309556|1530992060|1272893353|155497632|1094730640|681279174|358537222|722521979|76029189|640364487|421815835|530742520|995338651|198630844|1126891415|1416354905|57434055|1700485571|1894986606|1051523|2054922799|1873313359|30611744|1560198380|1309151649|145523070|1120210379|718787259|343485551|charCodeAt|null|decodeURIComponent|substring|instanceof|expires|toGMTString|path|domain|secure|unset|getFullYear|getMonth||getDate|getHours||getMinutes|getSeconds|00|getMilliseconds|parseInt|String|abs|join|getTime|test|2020\\'.split(\\'|\\'),0,{}))\\n<!--CreateDate  2014-07-28 15:00:01--></script>\\n<link  rel=\"stylesheet\" type=\"text/css\"/>\\n<script charset=\"gb2312\" type=\"text/javascript\">var width = 1; narrow = 0;</script>\\n<script type=\"text/javascript\">var newsuggesturl = \"http://schprompt.dangdang.com/suggest_new.php?\";</script>\\n<script charset=\"gb2312\" src=\"//static.dangdang.com/js/header2012/pagetop2015_0827.js?20151117\" type=\"text/javascript\"></script>\\n<script charset=\"gb2312\" src=\"//static.dangdang.com/js/header2012/dd.menu-aim.js?20151117\" type=\"text/javascript\"></script>\\n<div id=\"hd\">\\n<div id=\"tools\">\\n<div class=\"tools\">\\n<div class=\"ddnewhead_operate\" dd_name=\"顶链接\">\\n<!-- <div class=\"new_york\"><a target=\"_blank\"  title=\"当当网?纽约证券交易所上市企业\">纽交所上市公司</a></div> -->\\n<ul class=\"ddnewhead_operate_nav\">\\n<!-- <li class=\"ddnewhead_cart\"><a  name=\"购物车\" dd_name=\"购物车\"><i class=\"icon_card\"></i>购物车<b id=\"cart_items_count\"></b></a></li>\\n        <li><a target=\"_blank\"  name=\"我的订单\" dd_name=\"我的订单\" rel=\"nofollow\">我的订单<b id=\"unpaid_num\" style=\"color:#ff2832;font:bold 12px Arial;\"></b></a></li>-->\\n<li style=\"background-image:none;\"><a dd_name=\"当当网首页\"  name=\"当当网首页\" rel=\"nofollow\" target=\"_blank\">当当网首页</a></li>\\n<li><a dd_name=\"当当自出版\"  name=\"mydd_7\" target=\"_blank\">当当自出版</a></li>\\n<li><a dd_name=\"当当自出版\"  name=\"当当自出版\" target=\"_blank\">我的云书房</a></li>\\n<!-- <li class=\"dang_erweima\">\\n          <a target=\"_blank\"  id=\"a_phonechannel\" onmouseover=\"showgaoji(\\'a_phonechannel\\',\\'__ddnav_sjdd\\');\" onmouseout=\"hideotherchannel(\\'a_phonechannel\\',\\'__ddnav_sjdd\\');\" class=\"menu_btn\"><i class=\"icon_tel\"></i>手机当当</a>\\n          <div class=\"tel_pop\" style=\"display: none;\" id=\"__ddnav_sjdd\" onmouseover=\"showgaoji(\\'a_phonechannel\\',\\'__ddnav_sjdd\\');\" onmouseout=\"hideotherchannel(\\'a_phonechannel\\',\\'__ddnav_sjdd\\');\">\\n                <a target=\"_blank\"  class=\"title\"><i class=\"icon_tel\"></i>手机当当</a><i class=\"title_shadow\"></i>\\n                <div class=\"tel_pop_box clearfix\">\\n                    <div class=\"tel_pop_box_li\"><a  dd_name=\"手机二维码\" target=\"_blank\"><span>当当购物客户端</span><img src=\"http://img30.ddimg.cn/upload_img/00363/header/go_erweima.png\"><span class=\"text\">下载购物App<br>手机端1元秒</span></a></div>\\n                    <div class=\"tel_pop_box_li\"><a  dd_name=\"手机二维码\" target=\"_blank\"><span>当当读书客户端</span><img src=\"http://img39.ddimg.cn/upload_img/00363/sjbz/du_erweima.png\"><span class=\"text\">万本电子书<br>免费读</span></a></div>\\n                </div>\\n          </div>\\n        </li> -->\\n<li class=\"my_dd\"><a class=\"menu_btn\" dd_name=\"我的当当\"  id=\"a_myddchannel\" name=\"我的当当\" onmouseout=\"hideotherchannel(\\'a_myddchannel\\',\\'__ddnav_mydd\\');\" onmouseover=\"showgaoji(\\'a_myddchannel\\',\\'__ddnav_mydd\\')\" target=\"_blank\">我的当当</a>\\n<ul class=\"ddnewhead_gcard_list\" id=\"__ddnav_mydd\" onmouseout=\"hideotherchannel(\\'a_myddchannel\\',\\'__ddnav_mydd\\');\" onmouseover=\"showgaoji(\\'a_myddchannel\\',\\'__ddnav_mydd\\')\">\\n<li><a dd_name=\"我的银铃铛\"  name=\"mydd_4\" rel=\"nofollow\" target=\"_blank\">我的银铃铛</a></li>\\n<li><a dd_name=\"我的收藏\"  name=\"mydd_1\" rel=\"nofollow\" target=\"_blank\">我的收藏</a></li>\\n<li><a dd_name=\"我的余额\"  name=\"mydd_5\" rel=\"nofollow\" target=\"_blank\">我的余额</a></li>\\n<li><a dd_name=\"我的评论\"  name=\"mydd_4\" rel=\"nofollow\" target=\"_blank\">我的评论</a></li>\\n<li><a dd_name=\"礼券/礼品卡\"  name=\"mydd_2\" rel=\"nofollow\" target=\"_blank\">礼券/礼品卡</a></li>\\n<!-- <li><a target=\"_blank\"  name=\"mydd_6\" dd_name=\"电子书架\">电子书架</a></li> -->\\n</ul>\\n</li>\\n<li><a class=\"menu_btn\" dd_name=\"企业采购\"  id=\"a_qycgchannel\" name=\"qycg\" onmouseout=\"hideotherchannel(\\'a_qycgchannel\\',\\'__ddnav_qycg\\');\" onmouseover=\"showgaoji(\\'a_qycgchannel\\',\\'__ddnav_qycg\\');\" style=\"cursor:default;\">企业采购</a>\\n<ul class=\"ddnewhead_gcard_list\" id=\"__ddnav_qycg\" onmouseout=\"hideotherchannel(\\'a_qycgchannel\\',\\'__ddnav_qycg\\');\" onmouseover=\"showgaoji(\\'a_qycgchannel\\',\\'__ddnav_qycg\\');\">\\n<li><a dd_name=\"大宗采购\"  name=\"qycg_1\" target=\"_blank\">大宗采购</a></li>\\n<li><a dd_name=\"礼品卡采购\"  name=\"qycg_2\" target=\"_blank\">礼品卡采购</a></li>\\n<li><a dd_name=\"礼品卡激活\"  name=\"gqycg_3\" rel=\"nofollow\" target=\"_blank\">礼品卡激活</a></li>\\n<li><a dd_name=\"礼品卡使用\"  name=\"qycg_4\" target=\"_blank\">礼品卡使用</a></li>\\n</ul>\\n</li>\\n<li class=\"hover\"><a class=\"menu_btn\" dd_name=\"客户服务\"  id=\"a_bzzxchannel\" name=\"ddkf_0\" onmouseout=\"hideotherchannel(\\'a_bzzxchannel\\',\\'__ddnav_bzzx\\');\" onmouseover=\"showgaoji(\\'a_bzzxchannel\\',\\'__ddnav_bzzx\\');\" style=\"cursor:default;\">客户服务</a>\\n<ul class=\"ddnewhead_gcard_list\" id=\"__ddnav_bzzx\" onmouseout=\"hideotherchannel(\\'a_bzzxchannel\\',\\'__ddnav_bzzx\\');\" onmouseover=\"showgaoji(\\'a_bzzxchannel\\',\\'__ddnav_bzzx\\');\">\\n<li><a dd_name=\"帮助中心\"  name=\"ddkf_2\" target=\"_blank\">帮助中心</a></li>\\n<li><a dd_name=\"自助退换货\"  name=\"ddkf_3\" target=\"_blank\">自助退换货</a></li>\\n<li><a dd_name=\"联系客服\"  name=\"ddkf_4\" target=\"_blank\">联系客服</a></li>\\n<li><a dd_name=\"我要投诉\"  name=\"tsjy_1\" rel=\"nofollow\" target=\"_blank\">我要投诉</a></li>\\n</ul>\\n</li>\\n</ul>\\n<div class=\"ddnewhead_welcome\" display=\"none;\">\\n<span id=\"nickname\"><span class=\"hi hi_none\">欢迎光临当当，请</span><a class=\"login_link\" >登录</a><a >免费注册</a></span>\\n<div class=\"tel_pop\" id=\"__ddnav_sjdd\" onmouseout=\"hideotherchannel(\\'a_phonechannel\\',\\'__ddnav_sjdd\\');\" onmouseover=\"showgaoji(\\'a_phonechannel\\',\\'__ddnav_sjdd\\');\" style=\"display:none\">\\n<a class=\"title\"  target=\"_blank\"><i class=\"icon_tel\"></i>手机当当</a><i class=\"title_shadow\"></i>\\n<ul class=\"tel_pop_box\">\\n<li><a dd_name=\"手机二维码\" ><span>当当手机客户端</span><img src=\"http://img3.ddimg.cn/00363/doc/erweima2.png\"/><span class=\"text\">随手查订单<br/>随时享优惠</span></a></li>\\n</ul>\\n</div>\\n</div>\\n<div class=\"ddnewhead_area\" style=\"display:none\">\\n<a class=\"ddnewhead_area_a\"  id=\"area_one\" onmouseout=\"hidden_area_list();\" onmouseover=\"show_area_list();\">送至：<span id=\"curent_area\">北京</span></a>\\n<ul class=\"ddnewhead_area_list\" id=\"area_list\" onmouseout=\"this.style.display=\\'none\\';\" onmouseover=\"this.style.display=\\'block\\';\" style=\"display: none;\">\\n<li><a  num=\"111\" onclick=\"change_area(\\'111\\',\\'北京\\')\">北京</a></li>\\n<li><a  num=\"112\" onclick=\"change_area(\\'112\\',\\'天津\\')\">天津</a></li>\\n<li><a  num=\"113\" onclick=\"change_area(\\'113\\',\\'河北\\')\">河北</a></li>\\n<li><a  num=\"114\" onclick=\"change_area(\\'114\\',\\'山西\\')\">山西</a></li>\\n<li><a  num=\"115\" onclick=\"change_area(\\'115\\',\\'内蒙古\\')\">内蒙古</a></li>\\n<li><a  num=\"121\" onclick=\"change_area(\\'121\\',\\'辽宁\\')\">辽宁</a></li>\\n<li><a  num=\"122\" onclick=\"change_area(\\'122\\',\\'吉林\\')\">吉林</a></li>\\n<li><a  num=\"123\" onclick=\"change_area(\\'123\\',\\'黑龙江\\')\">黑龙江</a></li>\\n<li><a  num=\"131\" onclick=\"change_area(\\'131\\',\\'上海\\')\">上海</a></li>\\n<li><a  num=\"132\" onclick=\"change_area(\\'132\\',\\'江苏\\')\">江苏</a></li>\\n<li><a  num=\"133\" onclick=\"change_area(\\'133\\',\\'浙江\\')\">浙江</a></li>\\n<li><a  num=\"134\" onclick=\"change_area(\\'134\\',\\'安徽\\')\">安徽</a></li>\\n<li><a  num=\"135\" onclick=\"change_area(\\'135\\',\\'福建\\')\">福建</a></li>\\n<li><a  num=\"136\" onclick=\"change_area(\\'136\\',\\'江西\\')\">江西</a></li>\\n<li><a  num=\"137\" onclick=\"change_area(\\'137\\',\\'山东\\')\">山东</a></li>\\n<li><a  num=\"141\" onclick=\"change_area(\\'141\\',\\'河南\\')\">河南</a></li>\\n<li><a  num=\"142\" onclick=\"change_area(\\'142\\',\\'湖北\\')\">湖北</a></li>\\n<li><a  num=\"143\" onclick=\"change_area(\\'143\\',\\'湖南\\')\">湖南</a></li>\\n<li><a  num=\"144\" onclick=\"change_area(\\'144\\',\\'广东\\')\">广东</a></li>\\n<li><a  num=\"145\" onclick=\"change_area(\\'145\\',\\'广西\\')\">广西</a></li>\\n<li><a  num=\"146\" onclick=\"change_area(\\'146\\',\\'海南\\')\">海南</a></li>\\n<li><a  num=\"150\" onclick=\"change_area(\\'150\\',\\'重庆\\')\">重庆</a></li>\\n<li><a  num=\"151\" onclick=\"change_area(\\'151\\',\\'四川\\')\">四川</a></li>\\n<li><a  num=\"152\" onclick=\"change_area(\\'152\\',\\'贵州\\')\">贵州</a></li>\\n<li><a  num=\"153\" onclick=\"change_area(\\'153\\',\\'云南\\')\">云南</a></li>\\n<li><a  num=\"154\" onclick=\"change_area(\\'154\\',\\'西藏\\')\">西藏</a></li>\\n<li><a  num=\"161\" onclick=\"change_area(\\'161\\',\\'陕西\\')\">陕西</a></li>\\n<li><a  num=\"162\" onclick=\"change_area(\\'162\\',\\'甘肃\\')\">甘肃</a></li>\\n<li><a  num=\"163\" onclick=\"change_area(\\'163\\',\\'青海\\')\">青海</a></li>\\n<li><a  num=\"164\" onclick=\"change_area(\\'164\\',\\'宁夏\\')\">宁夏</a></li>\\n<li><a  num=\"165\" onclick=\"change_area(\\'165\\',\\'新疆\\')\">新疆</a></li>\\n<li><a  num=\"171\" onclick=\"change_area(\\'171\\',\\'台湾\\')\">台湾</a></li>\\n<li><a  num=\"172\" onclick=\"change_area(\\'172\\',\\'香港\\')\">香港</a></li>\\n<li><a  num=\"173\" onclick=\"change_area(\\'173\\',\\'澳门\\')\">澳门</a></li>\\n<li><a  num=\"174\" onclick=\"change_area(\\'174\\',\\'钓鱼岛\\')\">钓鱼岛</a></li>\\n</ul>\\n</div>\\n<div class=\"new_head_znx\" id=\"znx_content\" style=\"display:none;\"></div>\\n</div>\\n</div>\\n</div>\\n<div id=\"header_end\"></div>\\n<!--CreateDate  2015-11-25 18:00:02--></div>\\n<form action=\"http://search.dangdang.com/search.aspx\" id=\"bootpagetopSearch\" method=\"GET\" name=\"bootpagetopSearch\"></form>\\n<!--<script type=\"text/javascript\">var nick_num = 1;initHeaderOperate();</script>-->\\n<div class=\"public_child_nav\" data-test=\"\" dd_name=\"导航浮层\">\\n<div class=\"public_headerchildnav_module\">\\n<div class=\"childrennav\">\\n<div class=\"yuanchuang\">\\n<div class=\"inner\">\\n<a class=\"boy\"  id=\"publicChildMan\"><i class=\"on\"></i>男频</a>|\\n                    <a class=\"girl\"  id=\"publicChildWoman\"><i class=\"\"></i>女频</a>\\n</div>\\n</div>\\n</div>\\n</div>\\n</div>\\n<div class=\"public_headersearch_module new\" dd_name=\"头部搜索\">\\n<div class=\"search_bag clearfix\">\\n<a class=\"ddreader_logo\" >\\n<img alt=\"当当云阅读\" src=\"http://img62.ddimg.cn/ddreader/images/dangdang_logo.png\" target=\"_blank\"/>\\n<div class=\"sep_line\"></div>\\n</a>\\n<a class=\"dangdang_logo\"  target=\"_blank\">\\n<img alt=\"当当云阅读文字\" class=\"new_logo\" src=\"http://img61.ddimg.cn/ddreader/images/ddreader_cloud_logo.png\"/>\\n</a>\\n<div class=\"dangQRCode\">\\n<img alt=\"万本电子书0元读\" src=\"http://img61.ddimg.cn/ddreader/dangebook/channel_35000.png\"/>\\n<p>万本电子书0元读</p>\\n</div>\\n<div class=\"clearfix new_searchbox\">\\n<div class=\"new_search\">\\n<input class=\"new_searchtext\" type=\"text\"/>\\n<span class=\"new_searchbtn\" type=\"button\" value=\"提交\">搜索</span>\\n<ul class=\"new_list clearfix\">\\n</ul>\\n</div>\\n<p class=\"hotword\">\\n</p>\\n</div>\\n<ul class=\"new_icon\">\\n<li><a class=\"shoppingCartWrap\" dd_name=\"购物车\"  name=\"购物车\"><img src=\"img/new_car.png\"/>购物车<b class=\"cart_goods_count\" id=\"cart_items_count\"></b></a></li>\\n</ul>\\n</div>\\n</div>\\n<script type=\"text/javascript\">var nick_num = 1;initHeaderOperate();</script>\\n<!-- 导航 -->\\n<div class=\"public_headernav_module padding_top_10\" dd_name=\"头部导航\">\\n<div class=\"new_headernav\">\\n<div class=\"new_nav\">\\n<div class=\"bookclass\" id=\"bookClass\">图书分类<em class=\"upDown\"></em>\\n<div class=\"bookclass_box\" id=\"bookClassBox\">\\n<div class=\"new_aside\">\\n<dl class=\"new_title\">\\n<dt><a  target=\"_blank\">小说</a></dt>\\n<dd><a  target=\"_blank\">侦探/悬疑/推理  </a></dd>\\n<dd><a  target=\"_blank\">情感/都市</a></dd>\\n<dd><a  target=\"_blank\">科幻/魔幻</a></dd>\\n<dd><a  target=\"_blank\">作品集</a></dd>\\n<dd><a  target=\"_blank\">外国小说</a></dd>\\n</dl>\\n<dl class=\"new_title even\">\\n<dt><a  target=\"_blank\">文艺</a></dt>\\n<dd><a  target=\"_blank\">文学</a></dd>\\n<dd><a  target=\"_blank\">青春文学</a></dd>\\n<dd><a  target=\"_blank\">传记</a></dd>\\n<dd><a  target=\"_blank\">艺术</a></dd>\\n<dd><a  target=\"_blank\">动漫/幽默</a></dd>\\n</dl>\\n<dl class=\"new_title\">\\n<dt><a  target=\"_blank\">历史文化</a></dt>\\n<dd><a  target=\"_blank\">哲学/宗教</a></dd>\\n<dd><a  target=\"_blank\">历史</a></dd>\\n<dd><a  target=\"_blank\">政治/军事</a></dd>\\n<dd><a  target=\"_blank\">文化</a></dd>\\n<dd><a  target=\"_blank\">社会科学</a></dd>\\n<dd><a  target=\"_blank\">古籍</a></dd>\\n<dd><a  target=\"_blank\">法律</a></dd>\\n</dl>\\n<dl class=\"new_title even\">\\n<dt><a  target=\"_blank\">经济/管理</a></dt>\\n<dd><a  target=\"_blank\">管理</a></dd>\\n<dd><a  target=\"_blank\">经济</a></dd>\\n<dd><a  target=\"_blank\">投资理财</a></dd>\\n<dd><a  target=\"_blank\">市场/营销</a></dd>\\n<dd><a  target=\"_blank\">商务沟通</a></dd>\\n<dd><a  target=\"_blank\">中国经济</a></dd>\\n<dd><a  target=\"_blank\">国际经济</a></dd>\\n</dl>\\n<dl class=\"new_title\">\\n<dt><a  target=\"_blank\">心理/励志</a></dt>\\n<dd><a  target=\"_blank\">心理学</a></dd>\\n<dd><a  target=\"_blank\">女性心理学</a></dd>\\n<dd><a  target=\"_blank\">儿童心理学</a></dd>\\n<dd><a  target=\"_blank\">情绪管理</a></dd>\\n<dd><a  target=\"_blank\">职场/人际交往</a></dd>\\n<dd><a  target=\"_blank\">人生哲学</a></dd>\\n</dl>\\n<dl class=\"new_title even\">\\n<dt><a  target=\"_blank\">生活</a></dt>\\n<dd><a  target=\"_blank\">两性关系</a></dd>\\n<dd><a  target=\"_blank\">亲子/家教</a></dd>\\n<dd><a  target=\"_blank\">旅游/地图</a></dd>\\n<dd><a  target=\"_blank\">烹饪/美食</a></dd>\\n<dd><a  target=\"_blank\">保健/养生</a></dd>\\n</dl>\\n<dl class=\"new_title\">\\n<dt><a  target=\"_blank\">童书</a></dt>\\n<dd><a  target=\"_blank\">儿童文学</a></dd>\\n<dd><a  target=\"_blank\">启蒙读物</a></dd>\\n<dd><a  target=\"_blank\">少儿英语</a></dd>\\n<dd><a  target=\"_blank\">动漫/图画书</a></dd>\\n</dl>\\n<dl class=\"new_title even\">\\n<dt><a  target=\"_blank\">科技/教育</a></dt>\\n<dd><a  target=\"_blank\">科普读物</a></dd>\\n<dd><a  target=\"_blank\">计算机/网络</a></dd>\\n<dd><a  target=\"_blank\">自然科学</a></dd>\\n<dd><a  target=\"_blank\">中小学教辅</a></dd>\\n<dd><a  target=\"_blank\">考试</a></dd>\\n<dd><a  target=\"_blank\">外语</a></dd>\\n<dd><a  target=\"_blank\">工具书</a></dd>\\n</dl>\\n<dl class=\"new_title\">\\n<dt><a  target=\"_blank\">原版书</a></dt>\\n<dd><a  target=\"_blank\">外文原版书</a></dd>\\n<dd><a  target=\"_blank\">港台圖書</a></dd>\\n<dd><a  target=\"_blank\">小语种</a></dd>\\n</dl>\\n<p class=\"newmore\"><a  target=\"_blank\">查看更多</a></p>\\n</div>\\n</div>\\n</div>\\n<ul class=\"new_bar nav\">\\n<li><a  target=\"_blank\">电子书</a></li>\\n<li class=\"yuanchuangnav\"><a  target=\"_blank\">网络文学</a></li>\\n<li class=\"cur\"><a  target=\"_blank\">租阅</a><img class=\"new_hot\" src=\"http://img60.ddimg.cn/ddreader/images/hot_logo.png?123\"/></li>\\n<li><a  target=\"_blank\">当当阅读器</a></li>\\n<li><a  target=\"_blank\">当当云阅读客户端</a></li>\\n<li><a  target=\"_blank\">我要写书</a></li>\\n</ul>\\n<div class=\"new_help\">\\n<p class=\"left\"><a  id=\"readingCenterBtn\"><img src=\"img/new_per_center.png\"/>个人中心</a></p>\\n<p class=\"want_to_recharge\"><a class=\"has_logo\" >我要充值 <img alt=\"赠送20%\" src=\"http://img62.ddimg.cn/ddreader/images/more20.png?123\"/></a> </p>\\n</div>\\n</div>\\n</div>\\n</div>\\n<!-- 页头 end -->\\n<div class=\"center\">\\n<div class=\"navigation_module\" dd_name=\"面包屑路径\"> </div>\\n<div class=\"main classification_list\">\\n<div class=\"left\" dd_name=\"左侧导航\" id=\"nav_left\">\\n<div class=\"classification_left_nav\">\\n<div class=\"first_level\">\\n<h3 class=\"whole\">分类</h3>\\n</div>\\n<!-- 出版物 -->\\n<div class=\"first_level publication publisher selected\">\\n<a ><h3 data-type=\"WY1\" dd_name=\"文艺\">文艺<i class=\"icon\"></i></h3></a>\\n<ul class=\"second_level\" style=\"display: block;\">\\n<li>\\n<a ><h4 class=\"\" data-type=\"XS2\" dd_name=\"小说\">小说</h4></a>\\n<ul class=\"third_level\" style=\"\">\\n<a ><li class=\"\" data-type=\"ZTXYTL\" dd_name=\"侦探/悬疑/推理\">侦探/悬疑/推理</li></a>\\n<a ><li class=\"\" data-type=\"QGDS\" dd_name=\"都市情感\">都市情感</li></a>\\n<a ><li class=\"\" data-type=\"SHCJ\" dd_name=\"社会生活\">社会生活</li></a>\\n<a ><li class=\"\" data-type=\"ZPJ\" dd_name=\"作品集\">作品集</li></a>\\n<a ><li class=\"\" data-type=\"LS2\" dd_name=\"历史\">历史</li></a>\\n<a ><li class=\"\" data-type=\"ZGJDDXS\" dd_name=\"中国近当代小说\">中国近当代小说</li></a>\\n<a ><li class=\"\" data-type=\"ZGGDXS\" dd_name=\"中国古典小说\">中国古典小说</li></a>\\n<a ><li class=\"\" data-type=\"ZC\" dd_name=\"职场\">职场</li></a>\\n<a ><li class=\"\" data-type=\"YSXS\" dd_name=\"影视小说\">影视小说</li></a>\\n<a ><li class=\"\" data-type=\"XT\" dd_name=\"乡土\">乡土</li></a>\\n<a ><li class=\"\" data-type=\"WXXS\" dd_name=\"武侠小说\">武侠小说</li></a>\\n<a ><li class=\"\" data-type=\"WGXS\" dd_name=\"外国小说\">外国小说</li></a>\\n<a ><li class=\"\" data-type=\"SJMZ\" dd_name=\"世界名著\">世界名著</li></a>\\n<a ><li class=\"\" data-type=\"KHMH\" dd_name=\"科幻/魔幻\">科幻/魔幻</li></a>\\n<a ><li class=\"\" data-type=\"JS2\" dd_name=\"军事\">军事</li></a>\\n<a ><li class=\"\" data-type=\"JSKB\" dd_name=\"惊悚/恐怖\">惊悚/恐怖</li></a>\\n<a ><li class=\"\" data-type=\"GC\" dd_name=\"官场\">官场</li></a>\\n</ul>\\n</li>\\n<li>\\n<a ><h4 class=\"\" data-type=\"QCWX\" dd_name=\"青春文学\">青春文学</h4></a>\\n<ul class=\"third_level\" style=\"\">\\n<a ><li class=\"\" data-type=\"AQQG\" dd_name=\"爱情/情感\">爱情/情感</li></a>\\n<a ><li class=\"\" data-type=\"XHJS\" dd_name=\"玄幻/惊悚\">玄幻/惊悚</li></a>\\n<a ><li class=\"\" data-type=\"CYYQ\" dd_name=\"古言/穿越\">古言/穿越</li></a>\\n<a ><li class=\"\" data-type=\"XYCZ\" dd_name=\"校园/成长\">校园/成长</li></a>\\n<a ><li class=\"\" data-type=\"YSYL\" dd_name=\"偶像/娱乐\">偶像/娱乐</li></a>\\n<a ><li class=\"\" data-type=\"BXWLT\" dd_name=\"爆笑/无厘头\">爆笑/无厘头</li></a>\\n</ul>\\n</li>\\n<li>\\n<a ><h4 class=\"current\" data-type=\"WX\" dd_name=\"文学\">文学</h4></a>\\n<ul class=\"third_level\" style=\"display: block;\">\\n<a ><li class=\"\" data-type=\"SB\" dd_name=\"随笔\">随笔</li></a>\\n<a ><li class=\"\" data-type=\"WXZPJ\" dd_name=\"文学作品集\">文学作品集</li></a>\\n<a ><li class=\"\" data-type=\"SCGF\" dd_name=\"诗词歌赋\">诗词歌赋</li></a>\\n<a ><li class=\"\" data-type=\"WXPLYJS\" dd_name=\"文学评论与鉴赏\">文学评论与鉴赏</li></a>\\n<a ><li class=\"\" data-type=\"WXLL\" dd_name=\"文学理论\">文学理论</li></a>\\n<a ><li class=\"\" data-type=\"XJ\" dd_name=\"戏剧\">戏剧</li></a>\\n<a ><li class=\"\" data-type=\"MJWX\" dd_name=\"民间文学\">民间文学</li></a>\\n<a ><li class=\"\" data-type=\"JSWX\" dd_name=\"纪实文学\">纪实文学</li></a>\\n</ul>\\n</li>\\n<li>\\n<a ><h4 class=\"\" data-type=\"DMYM\" dd_name=\"动漫/二次元\">动漫/二次元</h4></a>\\n<ul class=\"third_level\" style=\"\">\\n<a ><li class=\"\" data-type=\"MHDM\" dd_name=\"漫画/动漫\">漫画/动漫</li></a>\\n<a ><li class=\"\" data-type=\"RHMH\" dd_name=\"日韩漫画\">日韩漫画</li></a>\\n<a ><li class=\"\" data-type=\"GTMH\" dd_name=\"港台漫画\">港台漫画</li></a>\\n<a ><li class=\"\" data-type=\"YMXHJ\" dd_name=\"幽默/笑话集\">幽默/笑话集</li></a>\\n<a ><li class=\"\" data-type=\"QXS\" dd_name=\"轻小说\">轻小说</li></a>\\n</ul>\\n</li>\\n<li>\\n<a ><h4 class=\"\" data-type=\"YS\" dd_name=\"艺术\">艺术</h4></a>\\n<ul class=\"third_level\" style=\"\">\\n<a ><li class=\"\" data-type=\"SY\" dd_name=\"摄影\">摄影</li></a>\\n<a ><li class=\"\" data-type=\"SCJS\" dd_name=\"收藏/鉴赏\">收藏/鉴赏</li></a>\\n<a ><li class=\"\" data-type=\"MJYS\" dd_name=\"民间艺术\">民间艺术</li></a>\\n<a ><li class=\"\" data-type=\"JZYS\" dd_name=\"建筑艺术\">建筑艺术</li></a>\\n<a ><li class=\"\" data-type=\"GYMS\" dd_name=\"工艺美术\">工艺美术</li></a>\\n<a ><li class=\"\" data-type=\"YSMTYS\" dd_name=\"影视/媒体艺术\">影视/媒体艺术</li></a>\\n<a ><li class=\"\" data-type=\"XJWTYS\" dd_name=\"戏剧/舞台艺术\">戏剧/舞台艺术</li></a>\\n<a ><li class=\"\" data-type=\"YYWD\" dd_name=\"音乐/舞蹈\">音乐/舞蹈</li></a>\\n<a ><li class=\"\" data-type=\"SFZK\" dd_name=\"书法/篆刻\">书法/篆刻</li></a>\\n<a ><li class=\"\" data-type=\"HHDS\" dd_name=\"绘画/雕塑\">绘画/雕塑</li></a>\\n<a ><li class=\"\" data-type=\"SJ\" dd_name=\"设计\">设计</li></a>\\n<a ><li class=\"\" data-type=\"YSLLYGK\" dd_name=\"艺术理论与概况\">艺术理论与概况</li></a>\\n</ul>\\n</li>\\n<li>\\n<a ><h4 class=\"\" data-type=\"ZJ\" dd_name=\"传记\">传记</h4></a>\\n<ul class=\"third_level\" style=\"\">\\n<a ><li class=\"\" data-type=\"ZZ\" dd_name=\"自传\">自传</li></a>\\n<a ><li class=\"\" data-type=\"CJRW\" dd_name=\"财经人物\">财经人物</li></a>\\n<a ><li class=\"\" data-type=\"LSRW\" dd_name=\"历史人物\">历史人物</li></a>\\n<a ><li class=\"\" data-type=\"ZZRW\" dd_name=\"政治人物\">政治人物</li></a>\\n<a ><li class=\"\" data-type=\"ZXZJRW\" dd_name=\"哲学/宗教人物\">哲学/宗教人物</li></a>\\n<a ><li class=\"\" data-type=\"XZ\" dd_name=\"学者\">学者</li></a>\\n<a ><li class=\"\" data-type=\"GXDS\" dd_name=\"国学大师\">国学大师</li></a>\\n<a ><li class=\"\" data-type=\"RWHJ\" dd_name=\"人物合集\">人物合集</li></a>\\n<a ><li class=\"\" data-type=\"NXRW\" dd_name=\"女性人物\">女性人物</li></a>\\n<a ><li class=\"\" data-type=\"RWSHXJ\" dd_name=\"人文/社会学家\">人文/社会学家</li></a>\\n<a ><li class=\"\" data-type=\"FLRW\" dd_name=\"法律人物\">法律人物</li></a>\\n<a ><li class=\"\" data-type=\"WTMX\" dd_name=\"文体明星\">文体明星</li></a>\\n<a ><li class=\"\" data-type=\"WXJ\" dd_name=\"文学家\">文学家</li></a>\\n<a ><li class=\"\" data-type=\"YSJ\" dd_name=\"艺术家\">艺术家</li></a>\\n<a ><li class=\"\" data-type=\"KXJ\" dd_name=\"科学家\">科学家</li></a>\\n<a ><li class=\"\" data-type=\"JSRW\" dd_name=\"军事人物\">军事人物</li></a>\\n<a ><li class=\"\" data-type=\"JYJ\" dd_name=\"教育家\">教育家</li></a>\\n<a ><li class=\"\" data-type=\"QT1\" dd_name=\"其他\">其他</li></a>\\n</ul>\\n</li>\\n</ul>\\n</div>\\n<div class=\"first_level publication publisher\">\\n<a ><h3 data-type=\"JG\" dd_name=\"经管/励志\">经管/励志<i class=\"icon\"></i></h3></a>\\n<ul class=\"second_level\" style=\"\">\\n<li>\\n<a ><h4 class=\"\" data-type=\"CGLZ\" dd_name=\"成功/励志\">成功/励志</h4></a>\\n<ul class=\"third_level\" style=\"\">\\n<a ><li class=\"\" data-type=\"CGJL\" dd_name=\"成功/激励\">成功/激励</li></a>\\n<a ><li class=\"\" data-type=\"KCYJBL\" dd_name=\"口才/演讲/辩论\">口才/演讲/辩论</li></a>\\n<a ><li class=\"\" data-type=\"QSQXGL\" dd_name=\"情商/心灵感悟\">情商/心灵感悟</li></a>\\n<a ><li class=\"\" data-type=\"ZSZM\" dd_name=\"智商/智谋\">智商/智谋</li></a>\\n<a ><li class=\"\" data-type=\"LZJDZZ\" dd_name=\"励志经典著作\">励志经典著作</li></a>\\n<a ><li class=\"\" data-type=\"RSZX\" dd_name=\"人生哲学\">人生哲学</li></a>\\n<a ><li class=\"\" data-type=\"ZCRJJW\" dd_name=\"职场/人际交往\">职场/人际交往</li></a>\\n<a ><li class=\"\" data-type=\"CSCFZH\" dd_name=\"财商/财富智慧\">财商/财富智慧</li></a>\\n<a ><li class=\"\" data-type=\"CSX\" dd_name=\"处世学\">处世学</li></a>\\n<a ><li class=\"\" data-type=\"MRLZ\" dd_name=\"名人励志\">名人励志</li></a>\\n<a ><li class=\"\" data-type=\"MYGY\" dd_name=\"名言/格言\">名言/格言</li></a>\\n<a ><li class=\"\" data-type=\"NXLZ\" dd_name=\"女性励志\">女性励志</li></a>\\n<a ><li class=\"\" data-type=\"LYYGRXY\" dd_name=\"礼仪与个人修养\">礼仪与个人修养</li></a>\\n<a ><li class=\"\" data-type=\"QSNLZ\" dd_name=\"青少年励志\">青少年励志</li></a>\\n</ul>\\n</li>\\n<li>\\n<a ><h4 class=\"\" data-type=\"GL\" dd_name=\"管理\">管理</h4></a>\\n<ul class=\"third_level\" style=\"\">\\n<a ><li class=\"\" data-type=\"GLX\" dd_name=\"管理学\">管理学</li></a>\\n<a ><li class=\"\" data-type=\"SCYX\" dd_name=\"市场/营销\">市场/营销</li></a>\\n<a ><li class=\"\" data-type=\"ZLGL\" dd_name=\"战略管理\">战略管理</li></a>\\n<a ><li class=\"\" data-type=\"KJJRTZ\" dd_name=\"会计/金融投资\">会计/金融投资</li></a>\\n<a ><li class=\"\" data-type=\"SWGT\" dd_name=\"商务沟通\">商务沟通</li></a>\\n<a ><li class=\"\" data-type=\"SCYYXGL\" dd_name=\"生产与运作管理\">生产与运作管理</li></a>\\n<a ><li class=\"\" data-type=\"DZSW\" dd_name=\"电商/新媒体/产品\">电商/新媒体/产品</li></a>\\n<a ><li class=\"\" data-type=\"GLXXXT\" dd_name=\"管理信息系统\">管理信息系统</li></a>\\n<a ><li class=\"\" data-type=\"MBA\" dd_name=\"MBA\">MBA</li></a>\\n<a ><li class=\"\" data-type=\"CYQYYQYJ\" dd_name=\"创业企业与企业家\">创业企业与企业家</li></a>\\n<a ><li class=\"\" data-type=\"SYSZ\" dd_name=\"商业史传\">商业史传</li></a>\\n<a ><li class=\"\" data-type=\"WTO\" dd_name=\"WTO\">WTO</li></a>\\n</ul>\\n</li>\\n<li>\\n<a ><h4 class=\"\" data-type=\"TZLC\" dd_name=\"投资理财\">投资理财</h4></a>\\n<ul class=\"third_level\" style=\"\">\\n<a ><li class=\"\" data-type=\"TZZN\" dd_name=\"投资指南\">投资指南</li></a>\\n<a ><li class=\"\" data-type=\"LCJQ\" dd_name=\"理财技巧\">理财技巧</li></a>\\n<a ><li class=\"\" data-type=\"ZQGP\" dd_name=\"证券/股票\">证券/股票</li></a>\\n<a ><li class=\"\" data-type=\"JJ2\" dd_name=\"基金\">基金</li></a>\\n<a ><li class=\"\" data-type=\"QH\" dd_name=\"期货\">期货</li></a>\\n<a ><li class=\"\" data-type=\"CP\" dd_name=\"彩票\">彩票</li></a>\\n<a ><li class=\"\" data-type=\"NS\" dd_name=\"纳税\">纳税</li></a>\\n<a ><li class=\"\" data-type=\"QTA\" dd_name=\"其他\">其他</li></a>\\n</ul>\\n</li>\\n<li>\\n<a ><h4 class=\"\" data-type=\"JJ\" dd_name=\"经济\">经济</h4></a>\\n<ul class=\"third_level\" style=\"\">\\n<a ><li class=\"\" data-type=\"JJTSDW\" dd_name=\"经济通俗读物\">经济通俗读物</li></a>\\n<a ><li class=\"\" data-type=\"JJF\" dd_name=\"经济法\">经济法</li></a>\\n<a ><li class=\"\" data-type=\"JJXLL\" dd_name=\"经济学理论\">经济学理论</li></a>\\n<a ><li class=\"\" data-type=\"THPZ\" dd_name=\"通货膨胀\">通货膨胀</li></a>\\n<a ><li class=\"\" data-type=\"ZGJJ\" dd_name=\"中国经济\">中国经济</li></a>\\n<a ><li class=\"\" data-type=\"QYJJ\" dd_name=\"区域经济\">区域经济</li></a>\\n<a ><li class=\"\" data-type=\"GJJJ\" dd_name=\"国际经济\">国际经济</li></a>\\n<a ><li class=\"\" data-type=\"TJSJ\" dd_name=\"统计审计\">统计审计</li></a>\\n<a ><li class=\"\" data-type=\"MYZC\" dd_name=\"贸易政策\">贸易政策</li></a>\\n<a ><li class=\"\" data-type=\"GBMJJ\" dd_name=\"各部门经济\">各部门经济</li></a>\\n<a ><li class=\"\" data-type=\"JJSX\" dd_name=\"经济数学\">经济数学</li></a>\\n<a ><li class=\"\" data-type=\"CSWMBXLKS\" dd_name=\"财税外贸保险类考试\">财税外贸保险类考试</li></a>\\n<a ><li class=\"\" data-type=\"CZSS\" dd_name=\"财政税收\">财政税收</li></a>\\n</ul>\\n</li>\\n</ul>\\n</div>\\n<div class=\"first_level publication publisher\">\\n<a ><h3 data-type=\"SK\" dd_name=\"人文社科\">人文社科<i class=\"icon\"></i></h3></a>\\n<ul class=\"second_level\" style=\"\">\\n<li>\\n<a ><h4 class=\"\" data-type=\"LS1\" dd_name=\"历史\">历史</h4></a>\\n<ul class=\"third_level\" style=\"\">\\n<a ><li class=\"\" data-type=\"LSPJDW\" dd_name=\"历史普及读物\">历史普及读物</li></a>\\n<a ><li class=\"\" data-type=\"LSSB\" dd_name=\"历史随笔\">历史随笔</li></a>\\n<a ><li class=\"\" data-type=\"ZGS\" dd_name=\"中国史\">中国史</li></a>\\n<a ><li class=\"\" data-type=\"SJS\" dd_name=\"世界史\">世界史</li></a>\\n<a ><li class=\"\" data-type=\"YWYS\" dd_name=\"逸闻野史\">逸闻野史</li></a>\\n<a ><li class=\"\" data-type=\"SXLL\" dd_name=\"史学理论\">史学理论</li></a>\\n<a ><li class=\"\" data-type=\"WWKG\" dd_name=\"文物考古\">文物考古</li></a>\\n<a ><li class=\"\" data-type=\"LSDJ\" dd_name=\"历史典籍\">历史典籍</li></a>\\n<a ><li class=\"\" data-type=\"ZYS\" dd_name=\"专业史\">专业史</li></a>\\n<a ><li class=\"\" data-type=\"DFSMZS\" dd_name=\"地方史/民族史\">地方史/民族史</li></a>\\n<a ><li class=\"\" data-type=\"DFSZ\" dd_name=\"地方史志\">地方史志</li></a>\\n</ul>\\n</li>\\n<li>\\n<a ><h4 class=\"\" data-type=\"XLX\" dd_name=\"心理学\">心理学</h4></a>\\n<ul class=\"third_level\" style=\"\">\\n<a ><li class=\"\" data-type=\"XLBK\" dd_name=\"通俗心理学\">通俗心理学</li></a>\\n<a ><li class=\"\" data-type=\"XLXLLYYJ\" dd_name=\"心理学理论与研究\">心理学理论与研究</li></a>\\n<a ><li class=\"\" data-type=\"XLXZXYYY\" dd_name=\"心理学咨询与应用\">心理学咨询与应用</li></a>\\n<a ><li class=\"\" data-type=\"NXXLX\" dd_name=\"女性心理学\">女性心理学</li></a>\\n<a ><li class=\"\" data-type=\"QSNXLX\" dd_name=\"青少年心理学\">青少年心理学</li></a>\\n<a ><li class=\"\" data-type=\"ETXLX\" dd_name=\"儿童心理学\">儿童心理学</li></a>\\n<a ><li class=\"\" data-type=\"XGSCX\" dd_name=\"性格色彩学\">性格色彩学</li></a>\\n</ul>\\n</li>\\n<li>\\n<a ><h4 class=\"\" data-type=\"ZXZJ\" dd_name=\"哲学/宗教\">哲学/宗教</h4></a>\\n<ul class=\"third_level\" style=\"\">\\n<a ><li class=\"\" data-type=\"ZJ2\" dd_name=\"宗教\">宗教</li></a>\\n<a ><li class=\"\" data-type=\"ZX\" dd_name=\"哲学\">哲学</li></a>\\n</ul>\\n</li>\\n<li>\\n<a ><h4 class=\"\" data-type=\"WH\" dd_name=\"文化\">文化</h4></a>\\n<ul class=\"third_level\" style=\"\">\\n<a ><li class=\"\" data-type=\"WHSB\" dd_name=\"文化随笔\">文化随笔</li></a>\\n<a ><li class=\"\" data-type=\"WHS\" dd_name=\"文化史\">文化史</li></a>\\n<a ><li class=\"\" data-type=\"ZGWH\" dd_name=\"中国文化\">中国文化</li></a>\\n<a ><li class=\"\" data-type=\"DYWH\" dd_name=\"地域文化\">地域文化</li></a>\\n<a ><li class=\"\" data-type=\"MZMSWH\" dd_name=\"民族/民俗文化\">民族/民俗文化</li></a>\\n<a ><li class=\"\" data-type=\"WHYJJL\" dd_name=\"文化研究交流\">文化研究交流</li></a>\\n<a ><li class=\"\" data-type=\"SJGGWH\" dd_name=\"世界各国文化\">世界各国文化</li></a>\\n<a ><li class=\"\" data-type=\"WHCY\" dd_name=\"文化产业\">文化产业</li></a>\\n<a ><li class=\"\" data-type=\"WHLLYPS\" dd_name=\"文化理论与评述\">文化理论与评述</li></a>\\n</ul>\\n</li>\\n<li>\\n<a ><h4 class=\"\" data-type=\"SHKX\" dd_name=\"社会科学\">社会科学</h4></a>\\n<ul class=\"third_level\" style=\"\">\\n<a ><li class=\"\" data-type=\"XWCBYYWE\" dd_name=\"新闻传播/语言文字\">新闻传播/语言文字</li></a>\\n<a ><li class=\"\" data-type=\"RLXSHX\" dd_name=\"人类学/社会学\">人类学/社会学</li></a>\\n<a ><li class=\"\" data-type=\"TSGXDAX\" dd_name=\"图书馆学/档案学\">图书馆学/档案学</li></a>\\n<a ><li class=\"\" data-type=\"SHKXZL\" dd_name=\"社会科学总论\">社会科学总论</li></a>\\n<a ><li class=\"\" data-type=\"JDMJZPJ\" dd_name=\"经典名家作品集\">经典名家作品集</li></a>\\n<a ><li class=\"\" data-type=\"JY1\" dd_name=\"教育\">教育</li></a>\\n</ul>\\n</li>\\n<li>\\n<a ><h4 class=\"\" data-type=\"GJ\" dd_name=\"古籍\">古籍</h4></a>\\n<ul class=\"third_level\" style=\"\">\\n<a ><li class=\"\" data-type=\"SKQS\" dd_name=\"四库全书\">四库全书</li></a>\\n<a ><li class=\"\" data-type=\"GJ2\" dd_name=\"古籍\">古籍</li></a>\\n<a ><li class=\"\" data-type=\"JBU\" dd_name=\"集部\">集部</li></a>\\n<a ><li class=\"\" data-type=\"ZB\" dd_name=\"子部\">子部</li></a>\\n<a ><li class=\"\" data-type=\"SL\" dd_name=\"史类\">史类</li></a>\\n<a ><li class=\"\" data-type=\"JB\" dd_name=\"经部\">经部</li></a>\\n</ul>\\n</li>\\n<li>\\n<a ><h4 class=\"\" data-type=\"FL\" dd_name=\"法律\">法律</h4></a>\\n<ul class=\"third_level\" style=\"\">\\n<a ><li class=\"\" data-type=\"FWPJYSW\" dd_name=\"法律普及与实务\">法律普及与实务</li></a>\\n<a ><li class=\"\" data-type=\"FWFG\" dd_name=\"法律法规\">法律法规</li></a>\\n<a ><li class=\"\" data-type=\"FWJCGJS\" dd_name=\"法律教材/工具书\">法律教材/工具书</li></a>\\n</ul>\\n</li>\\n<li>\\n<a ><h4 class=\"\" data-type=\"ZZJS\" dd_name=\"政治/军事\">政治/军事</h4></a>\\n<ul class=\"third_level\" style=\"\">\\n<a ><li class=\"\" data-type=\"ZZHI\" dd_name=\"政治\">政治</li></a>\\n<a ><li class=\"\" data-type=\"JS1\" dd_name=\"军事\">军事</li></a>\\n</ul>\\n</li>\\n</ul>\\n</div>\\n<div class=\"first_level publication publisher\">\\n<a ><h3 data-type=\"SH\" dd_name=\"生活\">生活<i class=\"icon\"></i></h3></a>\\n<ul class=\"second_level\" style=\"\">\\n<li>\\n<a ><h4 class=\"\" data-type=\"QZJY\" dd_name=\"亲子/家教\">亲子/家教</h4></a>\\n<ul class=\"third_level\" style=\"\">\\n<a ><li class=\"\" data-type=\"JJLLYFF\" dd_name=\"家教理论与方法\">家教理论与方法</li></a>\\n<a ><li class=\"\" data-type=\"QZGX\" dd_name=\"亲子关系\">亲子关系</li></a>\\n<a ><li class=\"\" data-type=\"XLSD\" dd_name=\"心理疏导\">心理疏导</li></a>\\n<a ><li class=\"\" data-type=\"SZJY\" dd_name=\"素质教育\">素质教育</li></a>\\n</ul>\\n</li>\\n<li>\\n<a ><h4 class=\"\" data-type=\"BYJS\" dd_name=\"保健/养生\">保健/养生</h4></a>\\n<ul class=\"third_level\" style=\"\">\\n<a ><li class=\"\" data-type=\"ZYYS\" dd_name=\"中医养生\">中医养生</li></a>\\n<a ><li class=\"\" data-type=\"CJBYFHZL\" dd_name=\"常见病预防和治疗\">常见病预防和治疗</li></a>\\n<a ><li class=\"\" data-type=\"YSYYSJK\" dd_name=\"药膳与饮食健康\">药膳与饮食健康</li></a>\\n<a ><li class=\"\" data-type=\"XLJK\" dd_name=\"心理健康\">心理健康</li></a>\\n<a ><li class=\"\" data-type=\"JTBJ\" dd_name=\"家庭保健\">家庭保健</li></a>\\n<a ><li class=\"\" data-type=\"JKBK\" dd_name=\"健康百科\">健康百科</li></a>\\n<a ><li class=\"\" data-type=\"YDJK\" dd_name=\"运动健康\">运动健康</li></a>\\n</ul>\\n</li>\\n<li>\\n<a ><h4 class=\"\" data-type=\"LXGX\" dd_name=\"两性关系\">两性关系</h4></a>\\n<ul class=\"third_level\" style=\"\">\\n<a ><li class=\"\" data-type=\"LXGX2\" dd_name=\"两性关系\">两性关系</li></a>\\n<a ><li class=\"\" data-type=\"LA\" dd_name=\"恋爱\">恋爱</li></a>\\n<a ><li class=\"\" data-type=\"HY\" dd_name=\"婚姻\">婚姻</li></a>\\n</ul>\\n</li>\\n<li>\\n<a ><h4 class=\"\" data-type=\"YCTJ\" dd_name=\"孕产/胎教\">孕产/胎教</h4></a>\\n<ul class=\"third_level\" style=\"\">\\n<a ><li class=\"\" data-type=\"YQZB\" dd_name=\"孕前准备\">孕前准备</li></a>\\n<a ><li class=\"\" data-type=\"YQJKZD\" dd_name=\"孕期健康指导\">孕期健康指导</li></a>\\n<a ><li class=\"\" data-type=\"TJ\" dd_name=\"胎教\">胎教</li></a>\\n<a ><li class=\"\" data-type=\"CHGL\" dd_name=\"产后管理\">产后管理</li></a>\\n</ul>\\n</li>\\n<li>\\n<a ><h4 class=\"\" data-type=\"YEZJ\" dd_name=\"育儿/早教\">育儿/早教</h4></a>\\n<ul class=\"third_level\" style=\"\">\\n<a ><li class=\"\" data-type=\"ZJQZHD\" dd_name=\"早教/亲子互动\">早教/亲子互动</li></a>\\n<a ><li class=\"\" data-type=\"YEBK\" dd_name=\"育儿百科\">育儿百科</li></a>\\n<a ><li class=\"\" data-type=\"YYEHL\" dd_name=\"婴幼儿护理\">婴幼儿护理</li></a>\\n</ul>\\n</li>\\n<li>\\n<a ><h4 class=\"\" data-type=\"TYYD\" dd_name=\"体育/运动\">体育/运动</h4></a>\\n<ul class=\"third_level\" style=\"\">\\n<a ><li class=\"\" data-type=\"TYLLYGZ\" dd_name=\"体育理论与规则\">体育理论与规则</li></a>\\n<a ><li class=\"\" data-type=\"QTYD\" dd_name=\"其它运动\">其它运动</li></a>\\n<a ><li class=\"\" data-type=\"WSTJ\" dd_name=\"武术/田径\">武术/田径</li></a>\\n<a ><li class=\"\" data-type=\"QLXXYD\" dd_name=\"棋类/休闲运动\">棋类/休闲运动</li></a>\\n<a ><li class=\"\" data-type=\"QLYD\" dd_name=\"球类运动\">球类运动</li></a>\\n</ul>\\n</li>\\n<li>\\n<a ><h4 class=\"\" data-type=\"XSAH\" dd_name=\"休闲/爱好\">休闲/爱好</h4></a>\\n<ul class=\"third_level\" style=\"\">\\n<a ><li class=\"\" data-type=\"YX2\" dd_name=\"游戏\">游戏</li></a>\\n<a ><li class=\"\" data-type=\"CWZS\" dd_name=\"宠物杂事\">宠物杂事</li></a>\\n<a ><li class=\"\" data-type=\"CZHW\" dd_name=\"车载户外\">车载户外</li></a>\\n</ul>\\n</li>\\n<li>\\n<a ><h4 class=\"\" data-type=\"LYDT\" dd_name=\"旅游/地图\">旅游/地图</h4></a>\\n<ul class=\"third_level\" style=\"\">\\n<a ><li class=\"\" data-type=\"GWY\" dd_name=\"国外游\">国外游</li></a>\\n<a ><li class=\"\" data-type=\"GNY\" dd_name=\"国内游\">国内游</li></a>\\n<a ><li class=\"\" data-type=\"LYSBSY\" dd_name=\"旅游随笔/摄影\">旅游随笔/摄影</li></a>\\n<a ><li class=\"\" data-type=\"DTGL\" dd_name=\"地图/攻略\">地图/攻略</li></a>\\n<a ><li class=\"\" data-type=\"HWTX\" dd_name=\"户外探险\">户外探险</li></a>\\n<a ><li class=\"\" data-type=\"LYLLYSW\" dd_name=\"旅游理论与实务\">旅游理论与实务</li></a>\\n</ul>\\n</li>\\n<li>\\n<a ><h4 class=\"\" data-type=\"PRMS\" dd_name=\"烹饪/美食\">烹饪/美食</h4></a>\\n<ul class=\"third_level\" style=\"\">\\n<a ><li class=\"\" data-type=\"YSSL\" dd_name=\"药膳食疗\">药膳食疗</li></a>\\n<a ><li class=\"\" data-type=\"HBTP\" dd_name=\"烘焙甜品\">烘焙甜品</li></a>\\n<a ><li class=\"\" data-type=\"JCCP\" dd_name=\"家常菜谱\">家常菜谱</li></a>\\n<a ><li class=\"\" data-type=\"YSWH\" dd_name=\"饮食文化\">饮食文化</li></a>\\n<a ><li class=\"\" data-type=\"CJYL\" dd_name=\"茶酒饮料\">茶酒饮料</li></a>\\n</ul>\\n</li>\\n<li>\\n<a ><h4 class=\"\" data-type=\"SSMX\" dd_name=\"时尚/美妆\">时尚/美妆</h4></a>\\n<ul class=\"third_level\" style=\"\">\\n<a ><li class=\"\" data-type=\"SSMTYJ\" dd_name=\"瘦身美体/瑜伽\">瘦身美体/瑜伽</li></a>\\n<a ><li class=\"\" data-type=\"HFMRZX\" dd_name=\"护肤/美容整形\">护肤/美容整形</li></a>\\n<a ><li class=\"\" data-type=\"FSDPPS\" dd_name=\"服饰搭配/配饰\">服饰搭配/配饰</li></a>\\n<a ><li class=\"\" data-type=\"CZMFMJ\" dd_name=\"彩妆/美发/美甲\">彩妆/美发/美甲</li></a>\\n</ul>\\n</li>\\n<li>\\n<a ><h4 class=\"\" data-type=\"SGDIY\" dd_name=\"手工/DIY\">手工/DIY</h4></a>\\n<ul class=\"third_level\" style=\"\">\\n<a ><li class=\"\" data-type=\"SGCL\" dd_name=\"手工材料\">手工材料</li></a>\\n<a ><li class=\"\" data-type=\"YMCZNT\" dd_name=\"羊毛/串珠/粘土\">羊毛/串珠/粘土</li></a>\\n<a ><li class=\"\" data-type=\"CXSZX\" dd_name=\"刺绣/十字绣\">刺绣/十字绣</li></a>\\n<a ><li class=\"\" data-type=\"BYBZB\" dd_name=\"布艺/不织布\">布艺/不织布</li></a>\\n<a ><li class=\"\" data-type=\"QITA\" dd_name=\"其他\">其他</li></a>\\n</ul>\\n</li>\\n<li>\\n<a ><h4 class=\"\" data-type=\"JTJJ\" dd_name=\"家庭/家居\">家庭/家居</h4></a>\\n<ul class=\"third_level\" style=\"\">\\n<a ><li class=\"\" data-type=\"JTYY\" dd_name=\"家庭园艺\">家庭园艺</li></a>\\n<a ><li class=\"\" data-type=\"JZCLYXG\" dd_name=\"家装策略与效果\">家装策略与效果</li></a>\\n<a ><li class=\"\" data-type=\"JSQM\" dd_name=\"家事窍门\">家事窍门</li></a>\\n</ul>\\n</li>\\n<li>\\n<a ><h4 class=\"\" data-type=\"FSZP\" dd_name=\"风水/占卜\">风水/占卜</h4></a>\\n<ul class=\"third_level\" style=\"\">\\n<a ><li class=\"\" data-type=\"ZPSXSM\" dd_name=\"占卜/手相/算命\">占卜/手相/算命</li></a>\\n<a ><li class=\"\" data-type=\"YCFS\" dd_name=\"运程/风水\">运程/风水</li></a>\\n<a ><li class=\"\" data-type=\"XZXXTL\" dd_name=\"星座/血型/塔罗\">星座/血型/塔罗</li></a>\\n</ul>\\n</li>\\n</ul>\\n</div>\\n<div class=\"first_level publication publisher\">\\n<a ><h3 data-type=\"JY\" dd_name=\"教育\">教育<i class=\"icon\"></i></h3></a>\\n<ul class=\"second_level\" style=\"\">\\n<li>\\n<a ><h4 class=\"\" data-type=\"WY2\" dd_name=\"外语\">外语</h4></a>\\n<ul class=\"third_level\" style=\"\">\\n<a ><li class=\"\" data-type=\"QTYZ\" dd_name=\"其他语种\">其他语种</li></a>\\n<a ><li class=\"\" data-type=\"DWHHY\" dd_name=\"对外海汉语\">对外海汉语</li></a>\\n<a ><li class=\"\" data-type=\"SYYY\" dd_name=\"实用英语\">实用英语</li></a>\\n<a ><li class=\"\" data-type=\"YWJF\" dd_name=\"英文教辅\">英文教辅</li></a>\\n</ul>\\n</li>\\n<li>\\n<a ><h4 class=\"\" data-type=\"KS\" dd_name=\"考试\">考试</h4></a>\\n<ul class=\"third_level\" style=\"\">\\n<a ><li class=\"\" data-type=\"SFKS\" dd_name=\"司法考试\">司法考试</li></a>\\n<a ><li class=\"\" data-type=\"CRGK\" dd_name=\"成人高考\">成人高考</li></a>\\n<a ><li class=\"\" data-type=\"QTLKS\" dd_name=\"其他类考试\">其他类考试</li></a>\\n<a ><li class=\"\" data-type=\"XLKS\" dd_name=\"学历考试\">学历考试</li></a>\\n<a ><li class=\"\" data-type=\"WYKS\" dd_name=\"外语考试\">外语考试</li></a>\\n<a ><li class=\"\" data-type=\"JSJKS\" dd_name=\"计算机考试\">计算机考试</li></a>\\n<a ><li class=\"\" data-type=\"GWYKS\" dd_name=\"公务员考试\">公务员考试</li></a>\\n<a ><li class=\"\" data-type=\"CSWMBXKS\" dd_name=\"财税外贸保险类考试\">财税外贸保险类考试</li></a>\\n</ul>\\n</li>\\n<li>\\n<a ><h4 class=\"\" data-type=\"ZXXJF\" dd_name=\"中小学教辅\">中小学教辅</h4></a>\\n<ul class=\"third_level\" style=\"\">\\n<a ><li class=\"\" data-type=\"XXFF\" dd_name=\"学习方法\">学习方法</li></a>\\n<a ><li class=\"\" data-type=\"ZXSYD\" dd_name=\"中小学阅读\">中小学阅读</li></a>\\n<a ><li class=\"\" data-type=\"JYLLJSYS\" dd_name=\"教育理论/教师用书\">教育理论/教师用书</li></a>\\n<a ><li class=\"\" data-type=\"JFGJS\" dd_name=\"教辅工具书\">教辅工具书</li></a>\\n<a ><li class=\"\" data-type=\"XXJF\" dd_name=\"小学教辅\">小学教辅</li></a>\\n<a ><li class=\"\" data-type=\"CZJF\" dd_name=\"初中教辅\">初中教辅</li></a>\\n<a ><li class=\"\" data-type=\"GZJF\" dd_name=\"高中教辅\">高中教辅</li></a>\\n</ul>\\n</li>\\n<li>\\n<a ><h4 class=\"\" data-type=\"JC\" dd_name=\"大中专教材\">大中专教材</h4></a>\\n<ul class=\"third_level\" style=\"\">\\n<a ><li class=\"\" data-type=\"ZYJSPXJC\" dd_name=\"职业技术培训教材\">职业技术培训教材</li></a>\\n<a ><li class=\"\" data-type=\"ZDJC\" dd_name=\"征订教材\">征订教材</li></a>\\n<a ><li class=\"\" data-type=\"YJSBKZKJC\" dd_name=\"研究生/本科/专科教材\">研究生/本科/专科教材</li></a>\\n<a ><li class=\"\" data-type=\"CRZGZJC\" dd_name=\"成人/中高职教材\">成人/中高职教材</li></a>\\n</ul>\\n</li>\\n<li>\\n<a ><h4 class=\"\" data-type=\"JJS\" dd_name=\"工具书\">工具书</h4></a>\\n<ul class=\"third_level\" style=\"\">\\n<a ><li class=\"\" data-type=\"WXJSCD\" dd_name=\"文学鉴赏辞典\">文学鉴赏辞典</li></a>\\n<a ><li class=\"\" data-type=\"HYGJS\" dd_name=\"汉语工具书\">汉语工具书</li></a>\\n<a ><li class=\"\" data-type=\"BKQSNJ\" dd_name=\"百科全书/年鉴\">百科全书/年鉴</li></a>\\n</ul>\\n</li>\\n</ul>\\n</div>\\n<div class=\"first_level publication publisher\">\\n<a ><h3 data-type=\"KJ\" dd_name=\"科技\">科技<i class=\"icon\"></i></h3></a>\\n<ul class=\"second_level\" style=\"\">\\n<li>\\n<a ><h4 class=\"\" data-type=\"JSJWL\" dd_name=\"计算机/网络\">计算机/网络</h4></a>\\n<ul class=\"third_level\" style=\"\">\\n<a ><li class=\"\" data-type=\"JSJJC\" dd_name=\"计算机教材\">计算机教材</li></a>\\n<a ><li class=\"\" data-type=\"JSJLLYJC\" dd_name=\"计算机理论与教程\">计算机理论与教程</li></a>\\n<a ><li class=\"\" data-type=\"DMTSJTX\" dd_name=\"多媒体/数据通信\">多媒体/数据通信</li></a>\\n<a ><li class=\"\" data-type=\"RJXT\" dd_name=\"软件系统\">软件系统</li></a>\\n<a ><li class=\"\" data-type=\"CXSJ\" dd_name=\"程序设计\">程序设计</li></a>\\n<a ><li class=\"\" data-type=\"YJ\" dd_name=\"硬件\">硬件</li></a>\\n</ul>\\n</li>\\n<li>\\n<a ><h4 class=\"\" data-type=\"KPDW\" dd_name=\"科普读物\">科普读物</h4></a>\\n<ul class=\"third_level\" style=\"\">\\n<a ><li class=\"\" data-type=\"KXZS\" dd_name=\"科学知识\">科学知识</li></a>\\n<a ><li class=\"\" data-type=\"RLSWST\" dd_name=\"人类/生物生态\">人类/生物生态</li></a>\\n<a ><li class=\"\" data-type=\"BKZS\" dd_name=\"百科知识\">百科知识</li></a>\\n</ul>\\n</li>\\n<li>\\n<a ><h4 class=\"\" data-type=\"YX\" dd_name=\"医学\">医学</h4></a>\\n<ul class=\"third_level\" style=\"\">\\n<a ><li class=\"\" data-type=\"QT2\" dd_name=\"其他\">其他</li></a>\\n<a ><li class=\"\" data-type=\"YXYXJGJS\" dd_name=\"医学/药学及工具书\">医学/药学及工具书</li></a>\\n<a ><li class=\"\" data-type=\"LCYXHLX\" dd_name=\"临床医学/护理学\">临床医学/护理学</li></a>\\n<a ><li class=\"\" data-type=\"WKX\" dd_name=\"外科学\">外科学</li></a>\\n<a ><li class=\"\" data-type=\"NKX\" dd_name=\"内科学\">内科学</li></a>\\n<a ><li class=\"\" data-type=\"ZY\" dd_name=\"中医\">中医</li></a>\\n<a ><li class=\"\" data-type=\"FCKX\" dd_name=\"妇产科学\">妇产科学</li></a>\\n<a ><li class=\"\" data-type=\"EKX\" dd_name=\"儿科学\">儿科学</li></a>\\n</ul>\\n</li>\\n<li>\\n<a ><h4 class=\"\" data-type=\"GYJS\" dd_name=\"工业技术\">工业技术</h4></a>\\n<ul class=\"third_level\" style=\"\">\\n<a ><li class=\"\" data-type=\"QGYSGY\" dd_name=\"轻工业/手工业\">轻工业/手工业</li></a>\\n<a ><li class=\"\" data-type=\"YBGYJS\" dd_name=\"一般工业技术\">一般工业技术</li></a>\\n<a ><li class=\"\" data-type=\"QT3\" dd_name=\"其他\">其他</li></a>\\n<a ><li class=\"\" data-type=\"GJKX\" dd_name=\"环境科学\">环境科学</li></a>\\n<a ><li class=\"\" data-type=\"HKDZ\" dd_name=\"航空/电子\">航空/电子</li></a>\\n<a ><li class=\"\" data-type=\"QCYJTYS\" dd_name=\"汽车与交通运输\">汽车与交通运输</li></a>\\n<a ><li class=\"\" data-type=\"SLGC\" dd_name=\"水利工程\">水利工程</li></a>\\n<a ><li class=\"\" data-type=\"ZGY\" dd_name=\"重工业\">重工业</li></a>\\n</ul>\\n</li>\\n<li>\\n<a ><h4 class=\"\" data-type=\"JZ\" dd_name=\"建筑\">建筑</h4></a>\\n<ul class=\"third_level\" style=\"\">\\n<a ><li class=\"\" data-type=\"JZWHYYS\" dd_name=\"建筑文化与艺术\">建筑文化与艺术</li></a>\\n<a ><li class=\"\" data-type=\"CXGHSZGC\" dd_name=\"城乡规划/市政工程\">城乡规划/市政工程</li></a>\\n<a ><li class=\"\" data-type=\"JZSJYSG\" dd_name=\"建筑设计与施工\">建筑设计与施工</li></a>\\n<a ><li class=\"\" data-type=\"JZJCJF\" dd_name=\"建筑教材/教辅\">建筑教材/教辅</li></a>\\n</ul>\\n</li>\\n<li>\\n<a ><h4 class=\"\" data-type=\"ZRKX\" dd_name=\"自然科学\">自然科学</h4></a>\\n<ul class=\"third_level\" style=\"\">\\n<a ><li class=\"\" data-type=\"KJS\" dd_name=\"科技史\">科技史</li></a>\\n<a ><li class=\"\" data-type=\"WLX\" dd_name=\"物理学\">物理学</li></a>\\n<a ><li class=\"\" data-type=\"SX\" dd_name=\"数学\">数学</li></a>\\n<a ><li class=\"\" data-type=\"SWKX\" dd_name=\"生物科学\">生物科学</li></a>\\n<a ><li class=\"\" data-type=\"HX\" dd_name=\"化学\">化学</li></a>\\n<a ><li class=\"\" data-type=\"TWDL\" dd_name=\"天文/地理\">天文/地理</li></a>\\n</ul>\\n</li>\\n<li>\\n<a ><h4 class=\"\" data-type=\"NYLY\" dd_name=\"农业/林业\">农业/林业</h4></a>\\n<ul class=\"third_level\" style=\"\">\\n<a ><li class=\"\" data-type=\"DWYX\" dd_name=\"动物医学\">动物医学</li></a>\\n<a ><li class=\"\" data-type=\"XMSLCF\" dd_name=\"畜牧/狩猎/蚕/蜂\">畜牧/狩猎/蚕/蜂</li></a>\\n<a ><li class=\"\" data-type=\"SCYY\" dd_name=\"水产/渔业\">水产/渔业</li></a>\\n<a ><li class=\"\" data-type=\"LY\" dd_name=\"林业\">林业</li></a>\\n<a ><li class=\"\" data-type=\"NY\" dd_name=\"农业\">农业</li></a>\\n</ul>\\n</li>\\n</ul>\\n</div>\\n<div class=\"first_level publication publisher\">\\n<a ><h3 data-type=\"TS\" dd_name=\"童书\">童书<i class=\"icon\"></i></h3></a>\\n<ul class=\"second_level\" style=\"\">\\n<li>\\n<a ><h4 class=\"\" data-type=\"ETWENXUE\" dd_name=\"儿童文学\">儿童文学</h4></a>\\n<ul class=\"third_level\" style=\"\">\\n</ul>\\n</li>\\n<li>\\n<a ><h4 class=\"\" data-type=\"CZYIZHI\" dd_name=\"成长/益智\">成长/益智</h4></a>\\n<ul class=\"third_level\" style=\"\">\\n</ul>\\n</li>\\n<li>\\n<a ><h4 class=\"\" data-type=\"SEYINGYU\" dd_name=\"少儿英语\">少儿英语</h4></a>\\n<ul class=\"third_level\" style=\"\">\\n</ul>\\n</li>\\n<li>\\n<a ><h4 class=\"\" data-type=\"DMTHUASHU\" dd_name=\"动漫/图画书\">动漫/图画书</h4></a>\\n<ul class=\"third_level\" style=\"\">\\n</ul>\\n</li>\\n<li>\\n<a ><h4 class=\"\" data-type=\"QMDUWW\" dd_name=\"启蒙读物\">启蒙读物</h4></a>\\n<ul class=\"third_level\" style=\"\">\\n</ul>\\n</li>\\n</ul>\\n</div>\\n<div class=\"first_level publication publisher\">\\n<a ><h3 data-type=\"JKS\" dd_name=\"进口书\">进口书<i class=\"icon\"></i></h3></a>\\n<ul class=\"second_level\" style=\"\">\\n<li>\\n<a ><h4 class=\"\" data-type=\"WWYBS\" dd_name=\"外文原版书\">外文原版书</h4></a>\\n<ul class=\"third_level\" style=\"\">\\n<a ><li class=\"\" data-type=\"LITBIO\" dd_name=\"文学/自传/回忆录\">文学/自传/回忆录</li></a>\\n<a ><li class=\"\" data-type=\"FIC\" dd_name=\"小说\">小说</li></a>\\n<a ><li class=\"\" data-type=\"BUSFIN\" dd_name=\"经管/金融\">经管/金融</li></a>\\n<a ><li class=\"\" data-type=\"SELF\" dd_name=\"励志自助/心灵\">励志自助/心灵</li></a>\\n<a ><li class=\"\" data-type=\"ARTARCHIS\" dd_name=\"艺术/建筑/历史\">艺术/建筑/历史</li></a>\\n<a ><li class=\"\" data-type=\"LAWPOLREL\" dd_name=\"法律/政治/宗教\">法律/政治/宗教</li></a>\\n<a ><li class=\"\" data-type=\"EDUSTU\" dd_name=\"教育/学习\">教育/学习</li></a>\\n<a ><li class=\"\" data-type=\"FAMPAR\" dd_name=\"家庭/亲子\">家庭/亲子</li></a>\\n<a ><li class=\"\" data-type=\"SCITECMED\" dd_name=\"科技/医学\">科技/医学</li></a>\\n<a ><li class=\"\" data-type=\"COMINT\" dd_name=\"电脑/网络\">电脑/网络</li></a>\\n<a ><li class=\"\" data-type=\"FOOHEA\" dd_name=\"饮食/健康\">饮食/健康</li></a>\\n<a ><li class=\"\" data-type=\"HOMGARTRA\" dd_name=\"家居/园艺/旅游\">家居/园艺/旅游</li></a>\\n<a ><li class=\"\" data-type=\"OTHER\" dd_name=\"其他\">其他</li></a>\\n</ul>\\n</li>\\n<li>\\n<a ><h4 class=\"\" data-type=\"GTTS\" dd_name=\"港台圖書\">港台圖書</h4></a>\\n<ul class=\"third_level\" style=\"\">\\n<a ><li class=\"\" data-type=\"WENXUE\" dd_name=\"文學/小說\">文學/小說</li></a>\\n<a ><li class=\"\" data-type=\"JINGJI\" dd_name=\"經濟管理\">經濟管理</li></a>\\n<a ><li class=\"\" data-type=\"SHENGHUO\" dd_name=\"生活\">生活</li></a>\\n<a ><li class=\"\" data-type=\"ERTONG\" dd_name=\"兒童\">兒童</li></a>\\n<a ><li class=\"\" data-type=\"YISHU\" dd_name=\"藝術\">藝術</li></a>\\n<a ><li class=\"\" data-type=\"RENWEN\" dd_name=\"人文社科\">人文社科</li></a>\\n<a ><li class=\"\" data-type=\"XINLI\" dd_name=\"心理/勵志\">心理/勵志</li></a>\\n<a ><li class=\"\" data-type=\"XUEXI\" dd_name=\"學習/考試\">學習/考試</li></a>\\n</ul>\\n</li>\\n<li>\\n<a ><h4 class=\"\" data-type=\"XYZ\" dd_name=\"小语种\">小语种</h4></a>\\n<ul class=\"third_level\" style=\"\">\\n<a ><li class=\"\" data-type=\"YZEY\" dd_name=\"俄语\">俄语</li></a>\\n<a ><li class=\"\" data-type=\"YZDY\" dd_name=\"德语\">德语</li></a>\\n<a ><li class=\"\" data-type=\"YZXBYY\" dd_name=\"西班牙语\">西班牙语</li></a>\\n<a ><li class=\"\" data-type=\"YZQTXYZ\" dd_name=\"其它小语种\">其它小语种</li></a>\\n</ul>\\n</li>\\n</ul>\\n</div>\\n<div class=\"first_level publication publisher\">\\n<a ><h3 data-type=\"QKZZ\" dd_name=\"期刊/杂志\">期刊/杂志<i class=\"icon\"></i></h3></a>\\n<ul class=\"second_level\" style=\"\">\\n<li>\\n<a ><h4 class=\"\" data-type=\"DDCJSMA\" dd_name=\"财经数码\">财经数码</h4></a>\\n<ul class=\"third_level\" style=\"\">\\n</ul>\\n</li>\\n<li>\\n<a ><h4 class=\"\" data-type=\"DDLY\" dd_name=\"旅游\">旅游</h4></a>\\n<ul class=\"third_level\" style=\"\">\\n</ul>\\n</li>\\n<li>\\n<a ><h4 class=\"\" data-type=\"DDTY\" dd_name=\"体育\">体育</h4></a>\\n<ul class=\"third_level\" style=\"\">\\n</ul>\\n</li>\\n<li>\\n<a ><h4 class=\"\" data-type=\"DDJS\" dd_name=\"军事\">军事</h4></a>\\n<ul class=\"third_level\" style=\"\">\\n</ul>\\n</li>\\n<li>\\n<a ><h4 class=\"\" data-type=\"DDDMYX\" dd_name=\"动漫游戏\">动漫游戏</h4></a>\\n<ul class=\"third_level\" style=\"\">\\n</ul>\\n</li>\\n<li>\\n<a ><h4 class=\"\" data-type=\"DDJYKP\" dd_name=\"教育科普\">教育科普</h4></a>\\n<ul class=\"third_level\" style=\"\">\\n</ul>\\n</li>\\n<li>\\n<a ><h4 class=\"\" data-type=\"DDWWZZ\" dd_name=\"外文杂志\">外文杂志</h4></a>\\n<ul class=\"third_level\" style=\"\">\\n</ul>\\n</li>\\n<li>\\n<a ><h4 class=\"\" data-type=\"DDJKSH\" dd_name=\"健康生活\">健康生活</h4></a>\\n<ul class=\"third_level\" style=\"\">\\n</ul>\\n</li>\\n<li>\\n<a ><h4 class=\"\" data-type=\"DDSZ\" dd_name=\"时政\">时政</h4></a>\\n<ul class=\"third_level\" style=\"\">\\n</ul>\\n</li>\\n<li>\\n<a ><h4 class=\"\" data-type=\"DDZYQK\" dd_name=\"专业期刊\">专业期刊</h4></a>\\n<ul class=\"third_level\" style=\"\">\\n</ul>\\n</li>\\n<li>\\n<a ><h4 class=\"\" data-type=\"DDWX\" dd_name=\"文学\">文学</h4></a>\\n<ul class=\"third_level\" style=\"\">\\n</ul>\\n</li>\\n</ul>\\n</div>\\n<!-- 漫画 -->\\n<div class=\"first_level publication publisher\">\\n<a ><h3 data-type=\"MH\" dd_name=\"漫画\">漫画<i class=\"icon\"></i></h3></a>\\n<ul class=\"second_level\" style=\"\">\\n<li>\\n<a ><h4 class=\"\" data-type=\"CARTOONQT\" dd_name=\"其他\">其他</h4></a>\\n<ul class=\"third_level\" style=\"\">\\n<a ><li class=\"\" data-type=\"CARTOONQITA\" dd_name=\"其他\">其他</li></a>\\n</ul>\\n</li>\\n<li>\\n<a ><h4 class=\"\" data-type=\"CARTOONSH\" dd_name=\"生活\">生活</h4></a>\\n<ul class=\"third_level\" style=\"\">\\n<a ><li class=\"\" data-type=\"CARTOONCHONGWU\" dd_name=\"宠物\">宠物</li></a>\\n<a ><li class=\"\" data-type=\"CARTOONLVXING\" dd_name=\"旅行\">旅行</li></a>\\n<a ><li class=\"\" data-type=\"CARTOONMEIRONG\" dd_name=\"美容\">美容</li></a>\\n<a ><li class=\"\" data-type=\"CARTOONMEISHI\" dd_name=\"美食\">美食</li></a>\\n<a ><li class=\"\" data-type=\"CARTOONYANGSHENG\" dd_name=\"养生\">养生</li></a>\\n</ul>\\n</li>\\n<li>\\n<a ><h4 class=\"\" data-type=\"CARTOONTR\" dd_name=\"同人\">同人</h4></a>\\n<ul class=\"third_level\" style=\"\">\\n<a ><li class=\"\" data-type=\"CARTOONCOSJU\" dd_name=\"cos剧\">cos剧</li></a>\\n<a ><li class=\"\" data-type=\"CARTOONDINGYING\" dd_name=\"电影\">电影</li></a>\\n<a ><li class=\"\" data-type=\"CARTOONDONGHUA\" dd_name=\"动画\">动画</li></a>\\n<a ><li class=\"\" data-type=\"CARTOONMANHUA\" dd_name=\"漫画\">漫画</li></a>\\n<a ><li class=\"\" data-type=\"CARTOONTVJU\" dd_name=\"TV剧\">TV剧</li></a>\\n<a ><li class=\"\" data-type=\"CARTOONYINYUE\" dd_name=\"音乐\">音乐</li></a>\\n<a ><li class=\"\" data-type=\"CARTOONYOUXI\" dd_name=\"游戏\">游戏</li></a>\\n</ul>\\n</li>\\n<li>\\n<a ><h4 class=\"\" data-type=\"CARTOONYX\" dd_name=\"游戏\">游戏</h4></a>\\n<ul class=\"third_level\" style=\"\">\\n<a ><li class=\"\" data-type=\"CARTOONCELUE\" dd_name=\"策略\">策略</li></a>\\n<a ><li class=\"\" data-type=\"CARTOONJIEMI\" dd_name=\"解谜\">解谜</li></a>\\n<a ><li class=\"\" data-type=\"CARTOONJINGJI\" dd_name=\"竞技\">竞技</li></a>\\n<a ><li class=\"\" data-type=\"CARTOONMONI\" dd_name=\"模拟\">模拟</li></a>\\n<a ><li class=\"\" data-type=\"CARTOONRPG\" dd_name=\"RPG\">RPG</li></a>\\n<a ><li class=\"\" data-type=\"CARTOONTIYU\" dd_name=\"体育\">体育</li></a>\\n<a ><li class=\"\" data-type=\"CARTOONYANGCHENG\" dd_name=\"养成\">养成</li></a>\\n</ul>\\n</li>\\n<li>\\n<a ><h4 class=\"\" data-type=\"CARTOONDZ\" dd_name=\"动作\">动作</h4></a>\\n<ul class=\"third_level\" style=\"\">\\n<a ><li class=\"\" data-type=\"CARTOONGEDOU\" dd_name=\"格斗\">格斗</li></a>\\n<a ><li class=\"\" data-type=\"CARTOONREXUE\" dd_name=\"热血\">热血</li></a>\\n<a ><li class=\"\" data-type=\"CARTOONWUXIA\" dd_name=\"武侠\">武侠</li></a>\\n</ul>\\n</li>\\n<li>\\n<a ><h4 class=\"\" data-type=\"CARTOONLQ\" dd_name=\"猎奇\">猎奇</h4></a>\\n<ul class=\"third_level\" style=\"\">\\n<a ><li class=\"\" data-type=\"CARTOONKONGBU\" dd_name=\"恐怖\">恐怖</li></a>\\n<a ><li class=\"\" data-type=\"CARTOONTUILI\" dd_name=\"推理\">推理</li></a>\\n<a ><li class=\"\" data-type=\"CARTOONXUANYI\" dd_name=\"悬疑\">悬疑</li></a>\\n</ul>\\n</li>\\n<li>\\n<a ><h4 class=\"\" data-type=\"CARTOONQG\" dd_name=\"情感\">情感</h4></a>\\n<ul class=\"third_level\" style=\"\">\\n<a ><li class=\"\" data-type=\"CARTOONDUSHI\" dd_name=\"都市\">都市</li></a>\\n<a ><li class=\"\" data-type=\"CARTOONGAOXIAO\" dd_name=\"搞笑\">搞笑</li></a>\\n<a ><li class=\"\" data-type=\"CARTOONLIANAI\" dd_name=\"恋爱\">恋爱</li></a>\\n<a ><li class=\"\" data-type=\"CARTOONLIZHI\" dd_name=\"励志\">励志</li></a>\\n<a ><li class=\"\" data-type=\"CARTOONLUNLI\" dd_name=\"伦理\">伦理</li></a>\\n<a ><li class=\"\" data-type=\"CARTOONXIAOYUAN\" dd_name=\"校园\">校园</li></a>\\n<a ><li class=\"\" data-type=\"CARTOONZHICHANG\" dd_name=\"职场\">职场</li></a>\\n<a ><li class=\"\" data-type=\"CARTOONZHIYU\" dd_name=\"治愈\">治愈</li></a>\\n</ul>\\n</li>\\n<li>\\n<a ><h4 class=\"\" data-type=\"CARTOONQH\" dd_name=\"奇幻\">奇幻</h4></a>\\n<ul class=\"third_level\" style=\"\">\\n<a ><li class=\"\" data-type=\"CARTOONCHUANYUE\" dd_name=\"穿越\">穿越</li></a>\\n<a ><li class=\"\" data-type=\"CARTOONKEHUAN\" dd_name=\"科幻\">科幻</li></a>\\n<a ><li class=\"\" data-type=\"CARTOONMAOXIAN\" dd_name=\"冒险\">冒险</li></a>\\n<a ><li class=\"\" data-type=\"CARTOONMOHUAN\" dd_name=\"魔幻\">魔幻</li></a>\\n<a ><li class=\"\" data-type=\"CARTOONXUANHUAN\" dd_name=\"玄幻\">玄幻</li></a>\\n</ul>\\n</li>\\n</ul>\\n</div>\\n<!-- 网文女频 -->\\n<div class=\"first_level original_blank publisher\">\\n<a ><h3 data-type=\"VP\" dd_name=\"网文女频\">网文女频<i class=\"icon\"></i></h3></a>\\n<ul class=\"second_level\" style=\"\">\\n<a ><li class=\"\" data-type=\"XDYQ\" dd_name=\"现代言情\">现代言情</li></a>\\n<a ><li class=\"\" data-type=\"CYCS\" dd_name=\"穿越重生\">穿越重生</li></a>\\n<a ><li class=\"\" data-type=\"GZYQ\" dd_name=\"古装言情\">古装言情</li></a>\\n<a ><li class=\"\" data-type=\"QCXY\" dd_name=\"青春校园\">青春校园</li></a>\\n<a ><li class=\"\" data-type=\"HXYQ\" dd_name=\"幻想言情\">幻想言情</li></a>\\n<a ><li class=\"\" data-type=\"CATR\" dd_name=\"纯爱言情\">纯爱言情</li></a>\\n<a ><li class=\"\" data-type=\"VQT\" dd_name=\"短篇精品\">短篇精品</li></a>\\n<a ><li class=\"\" data-type=\"VJB\" dd_name=\"剧本\">剧本</li></a>\\n</ul>\\n</div>\\n<!-- 网文男频 -->\\n<div class=\"first_level original_blank publisher\">\\n<a ><h3 data-type=\"NP\" dd_name=\"网文男频\">网文男频<i class=\"icon\"></i></h3></a>\\n<ul class=\"second_level\" style=\"\">\\n<a ><li class=\"\" data-type=\"XHQH\" dd_name=\"玄幻奇幻\">玄幻奇幻</li></a>\\n<a ><li class=\"\" data-type=\"XDDS\" dd_name=\"现代都市\">现代都市</li></a>\\n<a ><li class=\"\" data-type=\"WXXX\" dd_name=\"武侠仙侠\">武侠仙侠</li></a>\\n<a ><li class=\"\" data-type=\"LSJS\" dd_name=\"历史军事\">历史军事</li></a>\\n<a ><li class=\"\" data-type=\"YXJJ\" dd_name=\"游戏竞技\">游戏竞技</li></a>\\n<a ><li class=\"\" data-type=\"KHLY\" dd_name=\"科幻灵异\">科幻灵异</li></a>\\n<a ><li class=\"\" data-type=\"NQT\" dd_name=\"剧本\">剧本</li></a>\\n<a ><li class=\"\" data-type=\"TR\" dd_name=\"短篇精品\">短篇精品</li></a>\\n</ul>\\n</div>\\n</div>\\n</div>\\n<div class=\"right\" dd_name=\"书籍分类列表\">\\n<div class=\"classification_content\">\\n<div class=\"index_subnav_module\">\\n<input id=\"category\" type=\"hidden\" value=\"WX\"/>\\n<input id=\"dimension\" type=\"hidden\" value=\"dd_sale\"/>\\n<input id=\"order\" type=\"hidden\" value=\"0\"/>\\n<input id=\"pageNo\" type=\"hidden\" value=\"1\"/>\\n<ul class=\"nav clearfix for_publish\">\\n<li class=\"on\" data-type=\"dd_sale\"><a data-type=\"dd_sale\" dd_name=\"销\\u3000量\" >销\\u3000量 <i class=\"icon\"></i></a></li>\\n<li class=\"\" data-type=\"comment\"><a data-type=\"comment\" dd_name=\"好\\u3000评\" >好\\u3000评 <i class=\"icon\"></i></a></li>\\n<li class=\"\" data-type=\"newest\"><a data-type=\"newest\" dd_name=\"最\\u3000新\" >最\\u3000新 <i class=\"icon\"></i></a></li>\\n<li class=\"price_holder down\" data-type=\"price\"><a data-type=\"price\" dd_name=\"价\\u3000格\" >价\\u3000格 <i class=\"icon\"></i></a></li>\\n</ul>\\n<div class=\"bar\" style=\"width: 73px; left: 0px;\"></div>\\n</div>\\n<div class=\"book book_list clearfix\" id=\"book_list\">\\n<a dd_name=\"吕思勉\"  target=\"_blank\" title=\"吕思勉文集(套装共10册)\">\\n<span class=\"bookcover\">\\n<img alt=\"吕思勉文集(套装共10册)\" src=\"http://img61.ddimg.cn/digital/product/73/93/1900717393_ii_cover.jpg?version=bf4c5d2e-2c0c-4950-8f2e-7116f5009f4a555\"/>\\n</span>\\n<div class=\"bookinfo\">\\n<div class=\"title\">吕思勉文集(套装共10册)</div>\\n<div class=\"author\">吕思勉</div>\\n<div class=\"startie\"></div>\\n<div class=\"price\">\\n<span class=\"now\">￥175.00</span>\\n</div>\\n<div class=\"des\">吕思勉文集(套装共10册)，套装分别包含：吕思勉文集：三国史话(国民阅读经典)；吕思勉文集：先秦学术概论；吕思勉文集：读史札记；吕思勉文集：史学与史籍七种；吕思勉文集：先秦史；吕思勉文集：中国近代史；吕思勉文集：秦汉史；吕思勉文集：理学纲要；吕思勉文集:文学与文选四种。</div>\\n</div>\\n</a>\\n<a dd_name=\"兰陵笑笑生\"  target=\"_blank\" title=\"金瓶梅(全两册)(崇祯版)(简体横排、无批评)\">\\n<span class=\"bookcover\">\\n<img alt=\"金瓶梅(全两册)(崇祯版)(简体横排、无批评)\" src=\"http://img60.ddimg.cn/digital/product/34/36/1900773436_ii_cover.jpg?version=4edcf21a-b25e-40b2-9372-4afd17560403\"/>\\n</span>\\n<div class=\"bookinfo\">\\n<div class=\"title\">金瓶梅(全两册)(崇祯版)(简体横排、无批评)</div>\\n<div class=\"author\">兰陵笑笑生</div>\\n<div class=\"startie\"></div>\\n<div class=\"price\">\\n<span class=\"now\">￥19.99</span>\\n</div>\\n<div class=\"des\">《金瓶梅》是中国第一部文人独立创作的长篇白话世情章回小说。成书约在明朝隆庆至万历年间，作者署名兰陵笑笑生。与《三国演义》，《水浒传》，《西游记》合称明代四大奇书。它借《水浒传》中武松杀嫂一段故事为引子，通过对兼有官僚、恶霸、富商三种身份的市侩势力的代表人物西门庆及其家庭罪恶生活的描述，体现当时民间生活的面貌。描绘了一个上至朝廷内擅权专政的太师，下至地方官僚恶霸乃至市井间的地痞、流氓、宦官、帮闲所构成的鬼蜮世界。小说开拓了新的题材，拓展了审美领域，塑造了西门庆、潘金莲、李瓶儿、春梅、应伯爵，陈敬济等典型形象。小说以市井人物为主要角色，能多侧面多层次地描写，将明代封建社会的黑暗腐朽暴露得淋漓尽致。 《金瓶梅》作者是曹雪芹艺术革新的先驱，为《红楼梦》的产生作了准备。鲁迅因此论定「同时说部，无以上之」。《金瓶梅》中的性描写触及广阔的生活领域，以一种*的方式表现人之自然本性对「天理」禁锢的冲击。实多虚少，纯感官的再现，也反映了封建文人的性情趣。 《金瓶梅》先有抄本流传，在北京、麻城、诸城、金坛、苏州等地传抄，约经二三十年的传抄后始有刊本。 明清时期有三种版本系统：词话本系统：《新刻金瓶梅词话》、崇祯本或绣像本系统：《新刻绣像批评金瓶梅》、张评本系统：《张竹坡批评第一奇书金瓶梅》。 本套丛书采用的是崇祯本系统全本，编者以崇祯本为底本，以及民国时期已经出版的繁体版本，重新对本套图书精校、编排，形成了繁体竖排版《金瓶梅》，以飨读者。本版本无批评，无插图，没有任何删节，旨在向作者呈现一个完整原版内容，喜恶由君。</div>\\n</div>\\n</a>\\n<a dd_name=\"蒙曼\"  target=\"_blank\" title=\"蒙曼品最美唐诗：人生五味\">\\n<span class=\"bookcover\">\\n<img alt=\"蒙曼品最美唐诗：人生五味\" src=\"http://img62.ddimg.cn/digital/product/85/56/1901108556_ii_cover.jpg?version=5d51e7eb-ed3f-4960-8368-4e86ab201841\"/>\\n</span>\\n<div class=\"bookinfo\">\\n<div class=\"title\">蒙曼品最美唐诗：人生五味</div>\\n<div class=\"author\">蒙曼</div>\\n<div class=\"startie\"></div>\\n<div class=\"price\">\\n<span class=\"now\">￥11.99</span>\\n</div>\\n<div class=\"des\">诗是人来写的，也是写给人的。人的一生，从纵向看，是四季，从横向看，是五情。四季是什么？春夏秋冬。对应着人生，就是少年、青年、中年和老年。五情是什么？喜怒哀乐怨。对应着人心，就是那些回环往复，起伏不定的心情。 \\xa0\\xa0\\xa0 继《四时之诗：蒙曼品*美唐诗》之后著名隋唐史学者、中国诗词大会评委蒙曼老师推出品读*美唐诗系列的第2部作品，《蒙曼品*美唐诗：人生五味》让蒙曼老师带你重返大唐，品读*美唐诗 。 \\xa0\\xa0 该书以为喜、怒、哀、乐、怨五种人生情感为切，带领读者从人生五味的独特视角，体会唐诗里的五情五味。通过精心收录的30余首唐诗解读，将唐诗的精神情感与现代人连起来，为读者展现唐诗虽经千年却永不过时的恒久魅力。 人有五情，人就活着。诗有五情，诗就永恒。</div>\\n</div>\\n</a>\\n<a dd_name=\"慈怀读书会\"  target=\"_blank\" title=\"你最好的样子就是做自己\">\\n<span class=\"bookcover\">\\n<img alt=\"你最好的样子就是做自己\" src=\"http://img62.ddimg.cn/digital/product/7/92/1901110792_ii_cover.jpg?version=88f53af0-acb6-4d35-899a-a8d255f7f1a5\"/>\\n</span>\\n<div class=\"bookinfo\">\\n<div class=\"title\">你最好的样子就是做自己</div>\\n<div class=\"author\">慈怀读书会</div>\\n<div class=\"startie\"></div>\\n<div class=\"price\">\\n<span class=\"now\">￥7.99</span>\\n</div>\\n<div class=\"des\">不忘初心，做真实的自己，任何时候你都可以活成自己想要的样子。蒋勋、刘墉、毕淑敏、梁实秋、鬼脚七、苏更生、小木头等30位国内一线作家的原创作品，写给每一个迷茫、困惑、丢失自我的人。愿我们都能坚持做自己，在急功近利的时代，活得自由而通透，活成自己喜欢的样子。</div>\\n</div>\\n</a>\\n<a dd_name=\"蔡崇达\"  target=\"_blank\" title=\"皮囊\">\\n<span class=\"bookcover\">\\n<img alt=\"皮囊\" src=\"http://img61.ddimg.cn/digital/product/30/43/1900493043_ii_cover.jpg?version=b85de2d6-6104-4e99-bd77-aadb38e6cef1\"/>\\n</span>\\n<div class=\"bookinfo\">\\n<div class=\"title\">皮囊</div>\\n<div class=\"author\">蔡崇达</div>\\n<div class=\"startie\"></div>\\n<div class=\"price\">\\n<span class=\"now\">￥6.99</span>\\n</div>\\n<div class=\"des\">《皮囊》是一部有着小说阅读质感的散文集，也是一本“认心又认人”的书。。 作者蔡崇达，本着对故乡亲人的情感，用一种客观、细致、冷静的方式，讲述了一系列刻在骨肉间故事。一个福建渔业小镇上的风土人情和时代变迁，在这些温情而又残酷的故事中一一体现。用《皮囊》这个具有指向本质意味的书名，来表达作者对父母、家乡的缅怀，对朋友命运的关切，同时也回答那些我们始终要回答的问题。 书中收录有《皮囊》《母亲的房子》《残疾》《重症病房里的圣诞节》《我的神明朋友》《张美丽》《阿小和阿小》《天才文展》《厚朴》《海是藏不住的》《愿每个城市都不被阉割》《我们始终要回答的问题》《回家》《火车伊要开往叨位》等14篇作品。 其中《皮囊》一文中的阿太，一位99岁的老太太，没文化，是个神婆。她却教给作者具有启示力量的生活态度：“肉体是拿来用的，不是拿来伺候的。” 《母亲的房子》里，母亲想要建一座房子，一座四楼的房子，因为“这附近没有人建到四楼，我们建到了，就真的站起来了”。为了房子，她做苦工，捡菜叶，拒绝所有人的同情，哪怕明知这座房子不久后会被拆毁，只是为了“这一辈子，都有家可归”。 而《残疾》里的父亲，他离家、归来，他病了，他挣扎着，全力争取尊严，然后失败，退生为孩童，最后离去。父亲被照亮了。被怀着厌弃、爱、不忍和怜惜和挂念，艰难地照亮。就在这个过程中，作者长大成人。自70后起，在文学书写中，父亲形象就失踪了。而蔡崇达的书里，这个形象重新出现了。 这部特别的“新人新作”，由韩寒监制，上市之初即广受好评。白岩松、阿来、阎连科等评价为当下写作中的一个惊喜。或许《皮囊》真是新生的＂非虚构＂写作林地里，兀自展现的一片完全与众不同、可读可思、独具样貌的林木。</div>\\n</div>\\n</a>\\n<a dd_name=\"蒋方舟\"  target=\"_blank\" title=\"东京一年\">\\n<span class=\"bookcover\">\\n<img alt=\"东京一年\" src=\"http://img60.ddimg.cn/digital/product/13/32/1900701332_ii_cover.jpg?version=5cc0d1a6-d2a5-416e-a6b6-bd8edf3fe779555\"/>\\n</span>\\n<div class=\"bookinfo\">\\n<div class=\"title\">东京一年</div>\\n<div class=\"author\">蒋方舟</div>\\n<div class=\"startie\"></div>\\n<div class=\"price\">\\n<span class=\"now\">￥6.00</span>\\n</div>\\n<div class=\"des\">“二O一六年，我独自一人在东京生活了一年，东京也拯救了我。”受日本国际交流基金会之邀，蒋方舟在东京独居了一年。她越来越喜欢写漫长的日记，觉得孤独地生活一辈子也不是坏事。 日记共有四十六则，收录了她*的短篇小说、演讲和时评，驳杂不失纯粹。从社会、艺术到当今中日两国世间百态，都有其独特又不失严肃的描摹与思考。 同时，这也是一本病历，记录了一个人要活成本来面目所需付出的努力。“就像在东京度过的一年并没有把我变成一个新人，我们只是更像自己本来该成为的样子。” 本书邀请日本纪录片导演伊藤王树一路旅拍，镜头下是东京的日常以及“在别处” 。</div>\\n</div>\\n</a>\\n<a dd_name=\"慈怀读书会\"  target=\"_blank\" title=\"把生活过成你想要的样子\">\\n<span class=\"bookcover\">\\n<img alt=\"把生活过成你想要的样子\" src=\"http://img61.ddimg.cn/digital/product/67/74/1900626774_ii_cover.jpg?version=21450fd1-ab7d-4c74-bfa6-5f8f035afdc5\"/>\\n</span>\\n<div class=\"bookinfo\">\\n<div class=\"title\">把生活过成你想要的样子</div>\\n<div class=\"author\">慈怀读书会</div>\\n<div class=\"startie\"></div>\\n<div class=\"price\">\\n<span class=\"now\">￥4.99</span>\\n</div>\\n<div class=\"des\">生活有千百种可能，总有一种是你想要的样子。 \\u3000\\u3000本书精选了海蓝博士、马德、王珣、小木头等21位知名作者的30篇原创作品，从孤独、成长、梦想、感情等多个方面来解读生活，让迷茫、困惑，在喧嚣生活中迷失的你找到你自己。功利的世界让我们失去了对生活的热爱和享受，失去了对美好事物的好奇与感知。从生活的紧张和烦琐中抽身出来，放慢脚步，和自己的心灵对话，不攀附、不将就，把生活过成你想要的样子。</div>\\n</div>\\n</a>\\n<a dd_name=\"张岱\"  target=\"_blank\" title=\"年轻人要熟知的4248个文化常识：夜航船(作家榜经典文库，贾平凹推荐！读过《夜航船》，灵魂才有趣！未删节插图珍藏版)大星文化出品\">\\n<span class=\"bookcover\">\\n<img alt=\"年轻人要熟知的4248个文化常识：夜航船(作家榜经典文库，贾平凹推荐！读过《夜航船》，灵魂才有趣！未删节插图珍藏版)大星文化出品\" src=\"http://img60.ddimg.cn/digital/product/25/29/1901092529_ii_cover.jpg?version=392c1486-64d8-454a-a1b0-f80981d2ba06\"/>\\n</span>\\n<div class=\"bookinfo\">\\n<div class=\"title\">年轻人要熟知的4248个文化常识：夜航船(作家榜经典文库，贾平凹推荐！读过《夜航船》，灵魂才有趣！未删节插图珍藏版)大星文化出品</div>\\n<div class=\"author\">张岱</div>\\n<div class=\"startie\"></div>\\n<div class=\"price\">\\n<span class=\"now\">￥5.99</span>\\n</div>\\n<div class=\"des\">\\u3000\\u3000读过《夜航船》，灵魂才有趣！这是一部有趣、有料的文化常识小百科。 \\u3000\\u3000囊括天文地理、古玩奇器、珍禽异兽、诸子百家、宫廷秘闻、草木花卉、三教九流、鬼怪神异…… \\u3000\\u3000包含20大类4248个文化常识，趣味性、知识性和故事性完美结合的不朽经典，问世300年一直秘本流传，仿佛漫天星光，在漆黑的夜空闪烁，璀璨而迷人。 \\u3000\\u3000如果只读一本书，就能让你变得博识有趣，非《夜航船》莫属。</div>\\n</div>\\n</a>\\n<a dd_name=\"上彊村民\"  target=\"_blank\" title=\"宋词三百首(作家榜经典文库，马未都推荐版！直抵生活美学的源头，遇见内心向往的生活！全新未删节插图珍藏版)大星文化出品\">\\n<span class=\"bookcover\">\\n<img alt=\"此书参加电子书49元5本\" class=\"promotion_label\" src=\"http://img63.ddimg.cn/web/pcbookstore/nyc2x.png\"/>\\n<img alt=\"宋词三百首(作家榜经典文库，马未都推荐版！直抵生活美学的源头，遇见内心向往的生活！全新未删节插图珍藏版)大星文化出品\" src=\"http://img61.ddimg.cn/digital/product/3/59/1901110359_ii_cover.jpg?version=9d4edc5a-28c7-4907-af64-03ff4aa3f411\"/>\\n</span>\\n<div class=\"bookinfo\">\\n<div class=\"title\">宋词三百首(作家榜经典文库，马未都推荐版！直抵生活美学的源头，遇见内心向往的生活！全新未删节插图珍藏版)大星文化出品</div>\\n<div class=\"author\">上彊村民</div>\\n<div class=\"startie\"></div>\\n<div class=\"price\">\\n<span class=\"now\">￥9.99</span>\\n</div>\\n<div class=\"des\">清代词学大师上彊村民，为指导子侄之辈掌握宋词精髓，耗费10多年心血，与友人、学生反复探论、数次增删修订，从浩如烟海的宋词中，精选苏轼、李清照、辛弃疾、柳永、陆游等81位文学大师的283首经典词作，终于编成风行海内外的《宋词三百首》。 翻开本书，透过至真至纯、如梦如幻的宋词，犹如置身千年前繁花似锦、活色生香的日常生活之中，抚琴、调香、赏花、听风、采菊、交友、把酒问青天…… 在令人心旷神怡的阅读中，直抵生活美学的真正源头，不知不觉提升精神境界和美学趣味。</div>\\n</div>\\n</a>\\n<a dd_name=\"林清玄\"  target=\"_blank\" title=\"在这坚硬的世界里,修得一颗柔软心\">\\n<span class=\"bookcover\">\\n<img alt=\"在这坚硬的世界里,修得一颗柔软心\" src=\"http://img61.ddimg.cn/digital/product/7/90/1901110790_ii_cover.jpg?version=4791f261-31b0-4e04-a019-2def78ab8db5\"/>\\n</span>\\n<div class=\"bookinfo\">\\n<div class=\"title\">在这坚硬的世界里,修得一颗柔软心</div>\\n<div class=\"author\">林清玄</div>\\n<div class=\"startie\"></div>\\n<div class=\"price\">\\n<span class=\"now\">￥7.99</span>\\n</div>\\n<div class=\"des\">台湾散文大家林清玄亲自甄选的心灵美文，收录了他创作*时期的经典作品《人间有味是清欢》《用欢喜心过生活》 《生命的化妆》《白雪少年》等,同时也收录了《红心番薯》《咸也好，淡也好》等深受读者喜爱的作品。 看心灵大师林清玄的诗意人生，在面对这个坚硬的世界时，如他一般修得一颗柔软心。</div>\\n</div>\\n</a>\\n<a dd_name=\"鲁迅\"  target=\"_blank\" title=\"鲁迅自编文集（套装共21册）\">\\n<span class=\"bookcover\">\\n<img alt=\"鲁迅自编文集（套装共21册）\" src=\"http://img61.ddimg.cn/digital/product/19/42/1900631942_ii_cover.jpg?version=a1d43637-daf6-4bde-899f-09bad9243632555\"/>\\n</span>\\n<div class=\"bookinfo\">\\n<div class=\"title\">鲁迅自编文集（套装共21册）</div>\\n<div class=\"author\">鲁迅</div>\\n<div class=\"startie\"></div>\\n<div class=\"price\">\\n<span class=\"now\">￥92.40</span>\\n</div>\\n<div class=\"des\">鲁迅自编文集（套装共21册），分别包括：《准风月谈》、《中国小说史略》、《伪自由书》、《三闲集》、《且介亭杂文》、《鲁迅自编文集：呐喊》、《鲁迅自编文集：集外集》、《鲁迅自编文集：故事新编》、《鲁迅自编文集：坟》、《鲁迅自编文集：二心集》、《鲁迅自编文集：而已集》、《鲁迅自编文集：朝花夕拾》、《鲁迅自编文集：野草》、《鲁迅自编文集：彷徨》、《鲁迅自编文集：热风》、《鲁迅自编文集：华盖集》、《鲁迅自编文集：且介亭杂文末编》、《鲁迅自编文集：汉文学史纲要》、《鲁迅自编文集：华盖集续编》、《鲁迅自编文集：花边文学》。 这些作品的语言秉承鲁迅先生的一贯文风，幽默风趣，婉而多讽。故事的内容虽来源于历史，但只是用了一点因由，经作者随意点染，展现在我们眼前的却是一副绝妙奇趣的画卷。</div>\\n</div>\\n</a>\\n<a dd_name=\"贾平凹\"  target=\"_blank\" title=\"自在独行【百万册精装纪念版】\">\\n<span class=\"bookcover\">\\n<img alt=\"此书参加电子书49元5本\" class=\"promotion_label\" src=\"http://img63.ddimg.cn/web/pcbookstore/nyc2x.png\"/>\\n<img alt=\"自在独行【百万册精装纪念版】\" src=\"http://img62.ddimg.cn/digital/product/87/61/1901108761_ii_cover.jpg?version=dafe0ea2-a8a5-4ff3-bdbb-d96a0b775193\"/>\\n</span>\\n<div class=\"bookinfo\">\\n<div class=\"title\">自在独行【百万册精装纪念版】</div>\\n<div class=\"author\">贾平凹</div>\\n<div class=\"startie\"></div>\\n<div class=\"price\">\\n<span class=\"now\">￥11.99</span>\\n</div>\\n<div class=\"des\">平凹先生素来喜静，*怕有人来敲他的房门。让他觉得自在的，要么就是行走于西北的大地，要么就是隐居在自己的书房。 先生其实也喜欢热闹，只是先生的热闹并不是灯火灿烂，而是内心的安宁与独行的自在。 这本书写情感、聊爱好、谈社会、说人生。有俗世的智慧，也有生活的趣味。 对于匆匆的路人，平凹先生这部文集只是用来附庸风雅的玩物。但这本书却要写给生命的行者。愿他们能懂得孤独的真义，在生活里多一些从容潇洒。</div>\\n</div>\\n</a>\\n<a dd_name=\"（美）德博拉·海登,（英）乔治·奥威尔,鲁思·本尼迪克特 等\"  target=\"_blank\" title=\"私家珍藏人文书库(套装共16册)\">\\n<span class=\"bookcover\">\\n<img alt=\"私家珍藏人文书库(套装共16册)\" src=\"http://img60.ddimg.cn/digital/product/42/52/1900754252_ii_cover.jpg?version=8a3462fd-8570-497e-af2b-aea81c5401ce\"/>\\n</span>\\n<div class=\"bookinfo\">\\n<div class=\"title\">私家珍藏人文书库(套装共16册)</div>\\n<div class=\"author\">（美）德博拉·海登,（英）乔治·奥威尔,鲁思·本尼迪克特 等</div>\\n<div class=\"startie\"></div>\\n<div class=\"price\">\\n<span class=\"now\">￥128.00</span>\\n</div>\\n<div class=\"des\">本套装包含： 《长长的阴影》 讲述了一战对整个西方世界的震动。不仅仅是二战，也不仅仅是被人忽视的20、30年代，而是贯穿整个20世纪——冷战、东欧剧变等，均可追溯至一战。作为西方文明史上特别惨烈的战争之一，第一次世界大战却逐渐淡出了西方人的视界，似乎只存在于久远的记忆中，仅仅作为二战的序章而为人所识。 《旺多姆的丽兹：巴黎奢华世界的欲望、背叛与死亡》 讲述了丽兹酒店的百年惊魂史。位于巴黎旺多姆广场的丽兹大酒店是一个颇具传奇色彩的地方，海明威、可可?香奈儿、普鲁斯特、温莎公爵等各界名人都曾在此停留。1940年6月，巴黎被纳粹攻陷，丽兹大酒店是唯一一家被希特勒特许可以继续营业的酒店。 《人类砍头小史》 讲述了人类的头这一了不起的作品。在五种官能中，单单是头部就掌控了其中的四种，它严密地包裹住大脑，并且拥有整个身体富有表现力的肌肉群。头是人类极具区别性的特征，将我们的内心与外部世界联系起来。尽管头拥有如此超群的能力，但也经历过黑暗时期，在人类历史上，主要表现为斩首或割取敌人首级。 《黑暗时代的她们》 以历史上三位女性开篇（富有革命精神的社会主义者罗莎?卢森堡，受到家庭悲剧和纳粹迫害的德国犹太画家夏洛特?塞洛蒙，电影偶像以及大众的消费对象玛丽莲?梦露），她们的经历讲述了如何通过最富戏剧性的事件在上个世纪开辟了一条新道路，将不可说之事带入光亮之下。 《在路上：我生活的故事》 既讲述了女权运动先锋格洛丽亚?斯泰纳姆令人感动而且有趣的成长故事，也也讲述了一场革命性的、追求平等的运动的发展。 《回声泉之旅》 弗朗西斯?斯科特?菲茨杰拉德、欧内斯特?海明威、田纳西?威廉斯、约翰?契弗、约翰?贝里曼和雷蒙德?卡佛。这六个男人的一生都在与酒与混乱不堪的命运纠缠，他们从纽约喝到巴黎，从深夜痛饮至黎明，在酒吧和戒酒互助会两头缠绵，可同时他们也写出了许多脍炙人口的作品。只是，褪去酒瘾作家的神秘外衣，他们那天才般的创造力是以什么为代价得来的呢？ 《玛戈王后与波旁王朝的崛起》 主人公是中世纪法国的末代王后，也是近代法国的开国王后：玛格丽特?德?瓦卢瓦。玛戈天生丽质，美貌倾国倾城。追求自由爱情的玛戈，被母亲凯瑟琳王太后当做政治筹码远嫁南方小国纳瓦拉国王亨利，甚至在婚礼之日发动对异教徒的屠杀事件——圣巴托罗缪大屠杀。母女反目以及哥哥亨利三世对她的敌意迫使玛戈放弃优越生活，走上了反对瓦卢瓦王朝，扶助波旁王朝之路…… 《菊与刀》 1944年，作者受美国政府所托，完成一项旨在认清日本民族的课题，并以之为二战后改造日本国家的指导。此书即该项目成果。 《荒野寒山》 是寒山的一部个人传记，寒山是乔布斯推崇的东方禅修之道引路人，是嬉皮士宗师，是日本文化学者的公认导师，是早梭罗1200年的极简自然主义唐代探索者。 《托马斯?杰斐逊与海盗：美国海权的崛起》 以托马斯?杰斐逊为中心，讲述被许多人遗忘的第一次巴巴里战争的故事。 《天才、狂人与梅毒》 讲述在大航海时代，梅毒被殖民者从新大陆带回欧洲，并逐渐在欧洲散播的故事，以及人们对付这一绝症的手段。其次，从现代医学角度解释这一疾病的根源和病理特征，以及现代治疗手段。 《动物农场》 农场的一群动物成功地进行了一场“革命”，将压榨他们的人赶出农场，建立起一个平等的动物社会。然而，动物领袖，那些聪明的猪们却篡夺了革命的果实，成为比人更加独裁和极权的统治者，并且猪们和邻近农场的人类结成同盟，他们在宴会上，谁也分不清谁是猪、谁是人了。 《1984》 是奥威尔的传世之作，是世界文坛中著名的反乌托邦和反极权的政治讽喻小说。小说创作于1948年，作者将48倒置过来为84作为书名。 《以古驰之名》 为古驰家族第三代传人派翠亚?古驰的回忆录，主要讲述了父亲阿尔多?古驰与母亲布鲁娜不为人知的爱情故事。古驰家族因其种种内斗与不和而为众人所知，本书则站在站在阿尔多?古驰的角度，以阿尔多和布鲁娜的情感生活为线索，还原了这场家族内斗的真实内幕，并呈现出阿尔多这位时尚界传奇人物真实的一面。 《悲观声浪里的乐观》是打开胡适思想世界的一扇窗。胡适独立自由之精神，照亮今天的现实，照亮未来的道路。本书精选45篇杂文，充满积极的人生态度，跟大师学浮世中的乐观之道。别灰心，向前走吧！ 《朝花夕拾》是鲁迅唯一一部回忆性散文集。“朝”表示早晨，这里指早年时期，“夕”表示傍晚，这里指晚年时期。书名的意思是早上开的花儿，傍晚的时候把它们收集起来，这里指鲁迅先生在晩年回忆童年时期、少年时期、青年时期的人和事。</div>\\n</div>\\n</a>\\n<a dd_name=\"（日）村上春树\"  target=\"_blank\" title=\"假如真有时光机\">\\n<span class=\"bookcover\">\\n<img alt=\"假如真有时光机\" src=\"http://img61.ddimg.cn/digital/product/92/80/1901109280_ii_cover.jpg?version=d6328b4e-1cba-4749-a46d-9672fbeb3abd\"/>\\n</span>\\n<div class=\"bookinfo\">\\n<div class=\"title\">假如真有时光机</div>\\n<div class=\"author\">（日）村上春树</div>\\n<div class=\"startie\"></div>\\n<div class=\"price\">\\n<span class=\"now\">￥14.99</span>\\n</div>\\n<div class=\"des\">《假如真有时光机》是村上春树周游世界各地，写下的妙趣横生的随笔集。 在遍布苔藓的冰岛，邂逅没有尾巴的羊和可爱的迷途之鸟；再访《挪威的森林》的起希腊小岛，在日益繁杂的街上追溯遥远的记忆。在梅雨季节去熊本，拜访夏目漱石的故居……不论怎样的旅行都充满了惊喜与意外，诸多的挫折都化为无穷的乐趣。这才是所谓的旅行，抑或说人生的意义。 人生是一条单行线，假如真有时光机，你想实现什么愿望？从查尔斯河到湄公河畔，从雷克雅未克到托斯卡纳，我们跟随村上春树走遍七国十一地，仿佛乘上一台穿越现实的时光机，发现一个温暖有趣的世界。</div>\\n</div>\\n</a>\\n<a dd_name=\"乔瑞玲\"  target=\"_blank\" title=\"董卿：做一个有才情的女子\">\\n<span class=\"bookcover\">\\n<img alt=\"董卿：做一个有才情的女子\" src=\"http://img61.ddimg.cn/digital/product/23/19/1900782319_ii_cover.jpg?version=b1b20289-1c4a-47f3-b629-2a14307962fb\"/>\\n</span>\\n<div class=\"bookinfo\">\\n<div class=\"title\">董卿：做一个有才情的女子</div>\\n<div class=\"author\">乔瑞玲</div>\\n<div class=\"startie\"></div>\\n<div class=\"price\">\\n<span class=\"now\">￥6.99</span>\\n</div>\\n<div class=\"des\">《董卿：做一个有才情的女子》本书抓住著名主持人董卿的气质与才华，通过董卿的成长和收获，激励女性做一个有才情的女子，指导自己在性格上不断突破，成长为更强大的自己！像董卿一样，做一个有才情的女子吧！</div>\\n</div>\\n</a>\\n<a dd_name=\"余华\"  target=\"_blank\" title=\"余华：我们生活在巨大的差距里\">\\n<span class=\"bookcover\">\\n<img alt=\"此书参加电子书49元5本\" class=\"promotion_label\" src=\"http://img63.ddimg.cn/web/pcbookstore/nyc2x.png\"/>\\n<img alt=\"余华：我们生活在巨大的差距里\" src=\"http://img60.ddimg.cn/digital/product/93/22/1901109322_ii_cover.jpg?version=235194bd-14e1-4022-a02b-3cb876e41e5a\"/>\\n</span>\\n<div class=\"bookinfo\">\\n<div class=\"title\">余华：我们生活在巨大的差距里</div>\\n<div class=\"author\">余华</div>\\n<div class=\"startie\"></div>\\n<div class=\"price\">\\n<span class=\"now\">￥13.99</span>\\n</div>\\n<div class=\"des\">《我们生活在巨大的差距里》是余华自2003年以来的首部杂文集。 十年来他走遍世界，以亦庄亦谐的笔锋将观察到的社会、时事、文化等现象一一记录剖析，在日常生活的表象下洞见社会固有病灶，对我们生活的时代行了由外而内深刻反省，在与世界的踫撞交锋中，呈现出一个崛起、变迁中的中国。正如余华所说：“这就是我的写作，从中国人的日常生活出发，经过政治、历史、经济、社会、体育、文化、情感、欲望、隐私等等，然后再回到中国人的日常生活之中。”</div>\\n</div>\\n</a>\\n<a dd_name=\"于谦\"  target=\"_blank\" title=\"玩儿\">\\n<span class=\"bookcover\">\\n<img alt=\"此书参加电子书49元5本\" class=\"promotion_label\" src=\"http://img63.ddimg.cn/web/pcbookstore/nyc2x.png\"/>\\n<img alt=\"玩儿\" src=\"http://img60.ddimg.cn/digital/product/48/78/1901074878_ii_cover.jpg?version=733662eb-79d9-4500-9ba1-1dcb04473a3c\"/>\\n</span>\\n<div class=\"bookinfo\">\\n<div class=\"title\">玩儿</div>\\n<div class=\"author\">于谦</div>\\n<div class=\"startie\"></div>\\n<div class=\"price\">\\n<span class=\"now\">￥20.99</span>\\n</div>\\n<div class=\"des\">郭德纲这样评论于谦：“在我记忆中，好像沾玩儿的事儿，谦哥没有不玩儿的。天上飞的，地下跑的，草窠里蹦的，水里游的，各种活物一概全玩儿！文玩类也应有尽有，核桃、橄榄子、扇子、笼子、葫芦、手串儿，头头是道，珍藏无数。豆棚瓜下，鸟舍马圈，谦儿哥常常一待就是一天。兴之所至，更邀上三五知己，凉啤酒，热烤串儿，谈天说地，大有侠义之风。触十几年了，我对谦哥甚为了解。他不争名，不夺利，好玩笑，好交朋友。在他心中，玩儿比天大！” 于谦，人称谦哥。相声界公认头号玩主，郭德纲认证捧哏巨匠，素以谦和内敛、大智若愚、随遇而安著称。抽烟、喝酒、烫头之外，谦哥爱摇滚，爱交朋友，爱养各种小动物。在《玩儿》中，谦哥以生动活泼的语言，记录了自己从小到大粘鸟儿、养鸽子、摸鱼、熬鹰、驯马、吸猫的趣事，字里行间弥散着老北京独有的亲切、局气、厚道、风趣，谈到小动物时更是妙语连珠，一派赤子之心，喜悦溢于言表。 于谦交往朋友，不分职业贵贱，只分共同爱好。“团长”、老六、三哥、九爷……一起玩的朋友中有现役军人，有工厂工人，有曲艺大腕，有无业游民，大家来自五湖四海，因共同的兴趣走到一起，几十年亦师亦友，结下了深厚的情谊。写到九爷、七哥等等京城大玩家时，江湖老手的那股子傲里夺尊的架势，活灵活现跃然纸上。写到三哥这样的底层百姓，笔下又自然流淌出柔软、悲悯与同情，这是一本温厚的百姓故事，由小见大，由爱好见品行，由百姓烟火见世道人心，韵味十足，堪称佳品。</div>\\n</div>\\n</a>\\n<a dd_name=\"海子\"  target=\"_blank\" title=\"海子的诗\">\\n<span class=\"bookcover\">\\n<img alt=\"海子的诗\" src=\"http://img60.ddimg.cn/digital/product/63/11/1900766311_ii_cover.jpg?version=e242a591-ec0d-4b7e-beae-1d8b284e9692\"/>\\n</span>\\n<div class=\"bookinfo\">\\n<div class=\"title\">海子的诗</div>\\n<div class=\"author\">海子</div>\\n<div class=\"startie\"></div>\\n<div class=\"price\">\\n<span class=\"now\">￥7.99</span>\\n</div>\\n<div class=\"des\">《海子的诗》。海子，一个天才诗人，也是一个现象级诗人。十五岁考北京大学，十九岁中国政法大学哲学教研室工作，二十五岁卧轨自杀。所有文学成就在二十五岁以前完成。所有天真，多情，深沉，大气磅礴的诗句都在二十五岁以前完成。这以后，他就成了民族记忆，几乎代言一整个时代，那个还有诗歌的年代。</div>\\n</div>\\n</a>\\n<a dd_name=\"冯唐\"  target=\"_blank\" title=\"无所畏\">\\n<span class=\"bookcover\">\\n<img alt=\"此书参加电子书49元5本\" class=\"promotion_label\" src=\"http://img63.ddimg.cn/web/pcbookstore/nyc2x.png\"/>\\n<img alt=\"无所畏\" src=\"http://img60.ddimg.cn/digital/product/33/13/1901103313_ii_cover.jpg?version=fd637595-670f-4276-9c1b-768bb135c6b1\"/>\\n</span>\\n<div class=\"bookinfo\">\\n<div class=\"title\">无所畏</div>\\n<div class=\"author\">冯唐</div>\\n<div class=\"startie\"></div>\\n<div class=\"price\">\\n<span class=\"now\">￥11.99</span>\\n</div>\\n<div class=\"des\">冯唐全新作品，一部坦露自我的真诚之作。全书分为如何获得成功、爱情如何对抗时间、生活怎么过才算有意义、自我价值如何体现四个章节，并收录《如何避免成为一个油腻的中年猥琐男》《找个好看的扑倒》《爱情如何对抗时间》《我爸认识所有的鱼》等知名篇目。 ??? 此书对冯唐来说，是一个新的始，中年的冯唐在书中坦言自己的中年危机、父亲的去世、老妈的人生哲学，以及对过去和未来的自我审视。冯唐父亲、母亲等私人珍藏照片，初次放书中，以图文结合的方式直观展现《无所畏》中谈及的人、事、物。 ??? 活在这世上，什么都不要怕，做自己认为对的事儿，慢慢放下输赢和计算。</div>\\n</div>\\n</a>\\n<a dd_name=\"[日]村上春树(著);施小炜(译)\"  target=\"_blank\" title=\"我的职业是小说家\">\\n<span class=\"bookcover\">\\n<img alt=\"我的职业是小说家\" src=\"http://img61.ddimg.cn/digital/product/90/6/1900649006_ii_cover.jpg?version=6343724c-debf-4cc6-a0f8-91fdb6331000555\"/>\\n</span>\\n<div class=\"bookinfo\">\\n<div class=\"title\">我的职业是小说家</div>\\n<div class=\"author\">[日]村上春树(著);施小炜(译)</div>\\n<div class=\"startie\"></div>\\n<div class=\"price\">\\n<span class=\"now\">￥10.99</span>\\n</div>\\n<div class=\"des\">《我的职业是小说家》是村上春树前所未有的自传性作品，历时六年完成。一个人，写作三十五年，十三部长篇小说，超过五十种语言译本。虽然拥有享誉世界的知名度，但关于村上春树，许多事情始终包裹在神秘的面纱中：他是怎样下定决心走上职业小说家之路？对他来说，人生中幸福的事是什么？究竟如何看待芥川奖与诺贝尔文学奖……小说家看似风光，却是份孤独的职业。三十五年来，村上春树在孤独中编织着美妙动人的故事。他十二章肺腑之言，真挚诚恳又不失幽默地讲述自己写作道路上的故事，和追逐梦想与幸福的人生往事。不论是作为声名显赫的作家，还是认真生活的普通人，他的故事都为人们带来信心和勇气。《我的职业是小说家》就是村上春树热爱生活、追求梦想的真实写照。</div>\\n</div>\\n</a>\\n<a dd_name=\"李诞\"  target=\"_blank\" title=\"笑场\">\\n<span class=\"bookcover\">\\n<img alt=\"此书参加电子书49元5本\" class=\"promotion_label\" src=\"http://img63.ddimg.cn/web/pcbookstore/nyc2x.png\"/>\\n<img alt=\"笑场\" src=\"http://img62.ddimg.cn/digital/product/75/52/1900537552_ii_cover.jpg?version=9d006b8a-c970-4471-bf9a-1f7ea668e916555\"/>\\n</span>\\n<div class=\"bookinfo\">\\n<div class=\"title\">笑场</div>\\n<div class=\"author\">李诞</div>\\n<div class=\"startie\"></div>\\n<div class=\"price\">\\n<span class=\"now\">￥17.99</span>\\n</div>\\n<div class=\"des\">\\u3000\\u3000第一部分是在网络上十分流行的《扯经》故事，讲述遗寺师徒二人的幽默生活。 \\u3000\\u3000第二部分是李诞近年来创作的短篇小说，通过寓言式的故事描写小人物的悲欢离合、生老病死，以幽默的笔触警示世人，从不同角色的口中描绘出了一幅耐人寻味的人生浮世绘，也带给世人以思考。 \\u3000\\u3000第三部分则是李诞的散文随笔以及诗歌，以平实真诚的口吻谈论身边市井百态，对人生、情感、哲学展开思考。</div>\\n</div>\\n</a>\\n<div class=\"loading\" style=\"clear:both;\"></div></div>\\n</div>\\n<div class=\"clickMore_wrap\">\\n<!-- <div class=\"loading\"></div> -->\\n<!-- <span class=\"clickMore\">点击加载更多</span> -->\\n</div>\\n<div class=\"page clearfix hide\">\\n<div class=\"p-wrap\" id=\"J_bottomPage\">\\n<span class=\"p-num\">\\n<a class=\"hide curr\" >1</a>\\n<a class=\"hide\" >2</a>\\n<a class=\"hide\" >3</a>\\n<a class=\"hide\" >4</a>\\n<a class=\"hide\" >5</a>\\n<a class=\"hide\" >6</a>\\n<a class=\"hide\" >7</a>\\n</span>\\n</div>\\n</div>\\n</div>\\n</div>\\n</div>\\n<!-- 页尾begin -->\\n<!-- 页尾begin -->\\n<div class=\"public_footerfun_module\">\\n<div class=\"inner clearfix\">\\n<ul>\\n<li class=\"func focusOn clearfix\">\\n<div class=\"left\">\\n<img alt=\"\" class=\"icon\" src=\"img/footer_share.jpg\"/>\\n</div>\\n<div class=\"right\">\\n<p class=\"title\">关注我们</p>\\n<p class=\"desc\">最受欢迎的阅读产品</p>\\n<p class=\"subtitle\">关注我们：</p>\\n<ul class=\"share_link\">\\n<li id=\"footerWeiboShare\"><a  target=\"_blank\"><i class=\"icon weibo\"></i>新浪微博</a></li>\\n<li><a ><i class=\"icon weixin\"></i>官方微信<div class=\"ecode\"><span class=\"arrow\"></span><img alt=\"\" src=\"img/footer_ecode.jpg?123\"/></div></a></li>\\n</ul>\\n</div>\\n</li>\\n<li class=\"func author clearfix\">\\n<div class=\"left\">\\n<img alt=\"\" class=\"icon\" src=\"img/footer_author.jpg\"/>\\n</div>\\n<div class=\"right\">\\n<p class=\"title\"><a  target=\"_blank\">作者后台</a></p>\\n<p class=\"desc\">加入当当原创网，尊享作者</p>\\n<p class=\"subtitle\">福利，成就网文大神</p>\\n<div class=\"btn\"><a  target=\"_blank\">我要写书<i></i></a></div>\\n</div>\\n</li>\\n<li class=\"func about_us clearfix\">\\n<div class=\"left\">\\n<img alt=\"\" class=\"icon\" src=\"img/footer_us.jpg\"/>\\n</div>\\n<div class=\"right\">\\n<p class=\"title\">关于我们</p>\\n<p class=\"desc\">欢迎反馈宝贵意见给我们</p>\\n<p class=\"subtitle\">客服书吧：当当云阅读问答</p>\\n<div class=\"btn\"><a  target=\"_blank\">意见反馈<i></i></a></div>\\n</div>\\n</li>\\n</ul>\\n</div>\\n</div>\\n<div class=\"public_footermes_module\">\\n<div class=\"footer_copyright\"><span>Copyright (C) 当当网 2004-2014, All Rights Reserved</span></div>\\n<div class=\"footer_copyright\"><span><a  rel=\"nofollow\" target=\"_blank\">京ICP证041189号</a></span><span class=\"sep\">|</span><span>出版物经营许可证 新出发京批字第直0673号</span></div>\\n<div class=\"footer_copyright\"><span>当当网收录的免费小说作品、频道内容、书友评论、用户上传文字、图片等其他一切内容及在当当网所做之广告均属用户个人行为，与当当网无关。</span></div>\\n</div>\\n<!-- 页尾end -->\\n<!-- 页尾end -->\\n<div class=\"returntop\">\\n<div class=\"public_sideecode_module\" dd_name=\"右侧二维码\">\\n<div class=\"wrap\">\\n<a class=\"sao\" ><span class=\"ma\"><i></i><img src=\"img/erweima.png\"/></span></a>\\n<span class=\"close\"></span>\\n</div>\\n</div>\\n<div class=\"public_totop_module\" dd_name=\"右侧返回顶部\"></div>\\n</div>\\n<script src=\"http://click.dangdang.com/js_tracker.js?20150909\" type=\"text/javascript\"></script>\\n<script type=\"text/javascript\">\\n        var require = {urlArgs: \"v=1530868660\"}\\n    </script>\\n<script data-main=\"js/classification_list_static\" src=\"lib/require.min.js\" type=\"text/javascript\"></script>\\n<script>\\n        require.config({\\n\\u3000\\u3000\\u3000\\u3000\\u3000\\u3000baseUrl: \"js/\",\\n\\u3000\\u3000\\u3000\\u3000\\u3000\\u3000paths: {\\n\\u3000\\u3000\\u3000\\u3000\\u3000\\u3000    \"jquery\": \"../lib/jquery.min\",\\n\\u3000\\u3000\\u3000\\u3000\\u3000\\u3000    \"underscore\": \"../lib/underscore.min\"\\n\\u3000\\u3000\\u3000\\u3000    }\\n\\u3000\\u3000    });\\n    </script>\\n<script id=\"classification_nav\" type=\"text/template\">\\n<div class=\"classification_left_nav\">\\n    <div class=\"first_level \"><h3 class=\"whole\">分类</h3></div>\\n    <!-- 出版物 -->\\n    <%for (var k=0;k<catetoryList[0].catetoryList.length; k++){ %>\\n        <div class=\"first_level publication publisher\">\\n            <%var secondLevel = catetoryList[0].catetoryList[k]%>\\n            <h3 data-type=\"<%=secondLevel.code%>\" dd_name=\"<%=secondLevel.name%>\"><%=secondLevel.name%> <i class=\"icon\"> </i></h3>\\n            <%if (secondLevel && secondLevel.catetoryList){ %>\\n                <ul class=\"second_level\">\\n                    <%for (var m=0;m<secondLevel.catetoryList.length; m++){ %>\\n                        <%var thirdLevel = secondLevel.catetoryList[m]%>\\n                        <li>\\n                            <h4 data-type=\"<%=thirdLevel.code%>\" dd_name=\"<%=thirdLevel.name%>\"><%=thirdLevel.name%></h4>\\n                            <%if (thirdLevel.catetoryList && thirdLevel.catetoryList.length!=0){ %>\\n                                <ul class=\"third_level\">\\n                                    <%for (var n=0;n<thirdLevel.catetoryList.length; n++){ %>\\n                                        <li data-type=\"<%=thirdLevel.catetoryList[n].code%>\" dd_name=\"<%=thirdLevel.catetoryList[n].name%>\"><%=thirdLevel.catetoryList[n].name%>\\n                                        </li>\\n                                    <%}%>\\n                                </ul>\\n                            <%}%>\\n                        </li>\\n                    <%}%>\\n                </ul>\\n            <%}%>\\n        </div>\\n    <%}%>\\n\\n    <!-- 漫画 -->\\n\\n    <% if(catetoryList && catetoryList[3]){ %>\\n    <div class=\"first_level publication publisher\">\\n        <h3 data-type=\"<%=catetoryList[3].code%>\" dd_name=\"<%=catetoryList[3].name%>\"><%=catetoryList[3].name%> <i class=\"icon\"> </i>\\n        </h3>\\n        <ul class=\"second_level\">\\n            <%for (var r=0;r<catetoryList[3].catetoryList.length; r++){ %>\\n                <%var secLevel = catetoryList[3].catetoryList[r]%>\\n                <li>\\n                    <h4 data-type=\"<%=secLevel.code%>\" dd_name=\"<%=secLevel.name%>\"><%=secLevel.name%></h4>\\n                    <%if (secLevel && secLevel.catetoryList){ %>\\n                        <ul class=\"third_level\">\\n                            <%for (var p=0;p<secLevel.catetoryList.length; p++){ %>\\n                                <%var thdLevel = secLevel.catetoryList[p]%>\\n                                <%if (thdLevel && thdLevel.length!=0){ %>\\n                                    <li data-type=\"<%=thdLevel.code%>\" dd_name=\"<%=thdLevel.name%>\"><%=thdLevel.name%>\\n                                    </li>\\n                                <%}%>\\n                            <%}%>\\n                        </ul>\\n                    <%}%>\\n                </li>\\n            <%}%>\\n        </ul>\\n    </div>\\n    <%}%>\\n    <!-- 原创 -->\\n\\n    <div class=\"first_level original_blank publisher\">\\n        <h3 data-type=\"<%=catetoryList[1].code%>\" dd_name=\"网文女频\">网文女频 <i class=\"icon\"> </i></h3>\\n        <ul class=\"second_level\">\\n        <%for(var i =0;i<catetoryList[1].catetoryList.length;i++){ %>\\n            <li data-type=\"<%=catetoryList[1].catetoryList[i].code%>\" dd_name=\"<%=catetoryList[1].catetoryList[i].name%>\"><%=catetoryList[1].catetoryList[i].name%></li>\\n        <%}%>\\n        </ul>\\n    </div>\\n    <div class=\"first_level original_blank publisher\">\\n        <h3 data-type=\"<%=catetoryList[2].code%>\" dd_name=\"网文男频\">网文男频 <i class=\"icon\"> </i></h3>\\n        <ul class=\"second_level\">\\n            <%for(var j =0;j<catetoryList[2].catetoryList.length;j++){ %>\\n                <li data-type=\"<%=catetoryList[2].catetoryList[j].code%>\" dd_name=\"<%=catetoryList[2].catetoryList[j].name%>\"><%=catetoryList[2].catetoryList[j].name%></li>\\n            <%}%>\\n        </ul>\\n    </div>\\n\\n</div>\\n</script>\\n<script id=\"classification_book_list\" type=\"text/template\">\\n<%if (data.saleList && data.saleList !=undefined){ %>\\n    <%for(var i=0;i<data.saleList.length;i++){ %>\\n        <%var firstLevel= data.saleList[i].mediaList[0]%>\\n        <%var baseUrl=\"./products/\";%>\\n\\n        <a  target=\"_blank\" title=\"<%=firstLevel.title%>\" dd_name=\"<%=firstLevel.authorPenname%>\">\\n            <span class=\"bookcover\">\\n            <%if (firstLevel.promotionId!=3){ %>\\n                <%if (firstLevel.promotionList && firstLevel.promotionList[0] && firstLevel.promotionList[0].promotionPic &&firstLevel.promotionList[0].promotionPrice){ %>\\n                    <img src=\"<%=firstLevel.promotionList[0].promotionPicPC.replace(\\'_b\\',\\'\\')%>\" alt=\"限时抢\" class=\"promotion_label\">\\n                <%}%>\\n            <%}%>\\n            <img src=\"<%=firstLevel.coverPic%>\" alt=\"<%=firstLevel.title%>\" /></span>\\n            <div class=\"bookinfo\">\\n                <div class=\"title\"><%=firstLevel.title%></div>\\n                <div class=\"author\"><%=firstLevel.authorPenname%></div>\\n                <div class=\"startie\"> </div>\\n                <div class=\"price\">\\n                    <%var price=dealPrice.init(data.saleList[i])%>\\n                    <span class=\"now\">\\n                    <%if (firstLevel.promotionId!=3){ %>\\n                        <%if (firstLevel.promotionList && firstLevel.promotionList[0] && firstLevel.promotionList[0].promotionPic &&firstLevel.promotionList[0].promotionPrice && firstLevel.promotionList[0].promotionType==102){ %>促销价:<%}%><%=price%>\\n                        </span>\\n                        <%if (firstLevel.mediaType!=1 && firstLevel.promotionList && firstLevel.promotionList[0] && firstLevel.promotionList[0].promotionPic &&firstLevel.promotionList[0].promotionPrice && firstLevel.promotionList[0].promotionType==102){ %>\\n                            |<span>¥<%=firstLevel.salePrice.toFixed(2)%></span>\\n                        <%}%>\\n                    <%}else{ %>\\n                        免费\\n                    <%}%>\\n                </div>\\n                <div class=\"des\"><%=firstLevel.descs%></div>\\n            </div>\\n        </a>\\n    <%}%>\\n<%}else{ %>\\n    <div>亲，没有更多内容了</div>\\n<%}%>\\n</script>\\n</body>',\n",
       "  'url': 'e.dangdang.com/list-WX-dd_sale-0-1.html'}]"
      ]
     },
     "execution_count": 5,
     "metadata": {},
     "output_type": "execute_result"
    }
   ],
   "source": [
    "def GetData(): # 获取数据库中的数据，以列表—字典的形式返回\n",
    "    cursor = db.cursor()\n",
    "    sql = \"select * from webpage\"\n",
    "    data = []\n",
    "    try:\n",
    "        cursor.execute(sql)\n",
    "        results = cursor.fetchall()\n",
    "        for row in results:\n",
    "            each = {}\n",
    "            each['id'] = row[0]\n",
    "            each['text'] = DelHrefInString(CrawlWeb(row[1]))\n",
    "            each['url'] = row[1].lstrip('http://').lstrip('https://') # 截取掉http后获取URL\n",
    "            data.append(each)\n",
    "    except:\n",
    "        db.rollback()\n",
    "    cursor.close()\n",
    "    return data\n",
    "data = GetData()\n",
    "# del data[len(data)-1]\n",
    "data\n",
    "# print(data[2]['text'])"
   ]
  },
  {
   "cell_type": "code",
   "execution_count": 21,
   "metadata": {
    "collapsed": true
   },
   "outputs": [
    {
     "data": {
      "text/plain": [
       "[{'id': 16,\n",
       "  'author': 'Ernest Miller Hemingway',\n",
       "  'title': 'The \\'Old\\' \"Man\" and\\\\\\' the Sea'},\n",
       " {'id': 17,\n",
       "  'author': 'W. William Shakespeare',\n",
       "  'title': \"A Midsummer Night's Dream\"},\n",
       " {'id': 20, 'author': 'Jonathan Swift', 'title': 'GULLIVERâ\\x80\\x99S TRAVELS'},\n",
       " {'id': 21, 'author': 'Charles Dickens', 'title': 'Pickwick Papers'},\n",
       " {'id': 22, 'author': 'Nicholas Sparks', 'title': 'The Last Song'},\n",
       " {'id': 23, 'author': 'Charles Dickens', 'title': 'Great Expectations'},\n",
       " {'id': 27, 'author': 'Adams, Richard', 'title': 'Plague Dogs'},\n",
       " {'id': 28,\n",
       "  'author': 'Barry, John, Shepherd, Nigel',\n",
       "  'title': 'Rock Climbing (Adventure Sports)'},\n",
       " {'id': 29,\n",
       "  'author': 'David Hays, Daniel Hays',\n",
       "  'title': 'My Old Man and the Sea: A Father and Son Sail Around Cape Horn'},\n",
       " {'id': 33, 'author': '林清玄', 'title': '在这坚硬的世界里,修得一颗柔软心'},\n",
       " {'id': 43, 'author': '兰陵笑笑生', 'title': '金瓶梅(全两册)(崇祯版)(简体横排、无批评)'},\n",
       " {'id': 46, 'author': '余华', 'title': '余华：我们生活在巨大的差距里'},\n",
       " {'id': 47, 'author': '蒙曼', 'title': '蒙曼品最美唐诗：人生五味'},\n",
       " {'id': 48, 'author': '慈怀读书会', 'title': '你最好的样子就是做自己'},\n",
       " {'id': 49, 'author': '蔡崇达', 'title': '皮囊'},\n",
       " {'id': 50, 'author': '蒋方舟', 'title': '东京一年'},\n",
       " {'id': 51, 'author': '慈怀读书会', 'title': '把生活过成你想要的样子'},\n",
       " {'id': 52,\n",
       "  'author': '张岱',\n",
       "  'title': '年轻人要熟知的4248个文化常识：夜航船(作家榜经典文库，贾平凹推荐！读过《夜航船》，灵魂才有趣！未删节插图珍藏版)大星文化出品'},\n",
       " {'id': 53,\n",
       "  'author': '上彊村民',\n",
       "  'title': '宋词三百首(作家榜经典文库，马未都推荐版！直抵生活美学的源头，遇见内心向往的生活！全新未删节插图珍藏版)大星文化出品'},\n",
       " {'id': 54, 'author': '鲁迅', 'title': '鲁迅自编文集（套装共21册）'},\n",
       " {'id': 55, 'author': '贾平凹', 'title': '自在独行【百万册精装纪念版】'},\n",
       " {'id': 56,\n",
       "  'author': '（美）德博拉·海登,（英）乔治·奥威尔,鲁思·本尼迪克特 等',\n",
       "  'title': '私家珍藏人文书库(套装共16册)'},\n",
       " {'id': 57, 'author': '（日）村上春树', 'title': '假如真有时光机'},\n",
       " {'id': 58, 'author': '乔瑞玲', 'title': '董卿：做一个有才情的女子'},\n",
       " {'id': 59, 'author': '于谦', 'title': '玩儿'},\n",
       " {'id': 60, 'author': '海子', 'title': '海子的诗'},\n",
       " {'id': 61, 'author': '冯唐', 'title': '无所畏'},\n",
       " {'id': 62, 'author': '[日]村上春树(著);施小炜(译)', 'title': '我的职业是小说家'},\n",
       " {'id': 63, 'author': '李诞', 'title': '笑场'},\n",
       " {'id': 64, 'author': 'myself', 'title': 'this`s a kind of \"joke\"'},\n",
       " {'id': 65, 'author': 'myself', 'title': 'this`s kind of \"joke\"'},\n",
       " {'id': 66, 'author': 'myself', 'title': 'this`s kind\\\\` of \"joke\"'}]"
      ]
     },
     "execution_count": 21,
     "metadata": {},
     "output_type": "execute_result"
    }
   ],
   "source": [
    "def GetSeeds():\n",
    "    cursor = db.cursor()\n",
    "    sql = \"select * from seeds\"\n",
    "    seeds = []\n",
    "    try:\n",
    "        cursor.execute(sql)\n",
    "        results = cursor.fetchall()\n",
    "        for row in results:\n",
    "            each = {}\n",
    "            each['id'] = row[0]\n",
    "            each['author'] = row[1]\n",
    "            each['title'] = row[2]\n",
    "            seeds.append(each)\n",
    "    except:\n",
    "        db.rollback()\n",
    "    cursor.close()\n",
    "    return seeds\n",
    "seeds = GetSeeds()\n",
    "seeds"
   ]
  },
  {
   "cell_type": "code",
   "execution_count": 34,
   "metadata": {},
   "outputs": [
    {
     "data": {
      "text/plain": [
       "59891"
      ]
     },
     "execution_count": 34,
     "metadata": {},
     "output_type": "execute_result"
    }
   ],
   "source": [
    "def SearchNearest(author,posTitle,string): # 查询文本中，取离title最近的author\n",
    "    pattern = re.compile(author,re.I) # 忽略大小写进行查询\n",
    "    m = pattern.finditer(string)\n",
    "    minDistance = len(string)\n",
    "    for item in m:\n",
    "        dis = item.span()[0] - posTitle\n",
    "        if dis < 0:\n",
    "            dis = -dis\n",
    "        if dis < minDistance:\n",
    "            minDistance = dis\n",
    "            posAuthor = item.span()[0]\n",
    "#         print(item.span()[0])\n",
    "    return posAuthor\n",
    "\n",
    "SearchNearest('贾平凹',60000,data[2]['text'])\n"
   ]
  },
  {
   "cell_type": "code",
   "execution_count": 7,
   "metadata": {},
   "outputs": [
    {
     "data": {
      "text/plain": [
       "{'author': 'Ernest Miller Hemingway',\n",
       " 'title': 'The Old Man and the Sea',\n",
       " 'order': 1,\n",
       " 'url': 'localhost/DIPRE/BestSeller.html',\n",
       " 'prefix': '>\\n<h2>famous writer',\n",
       " 'middle': 'wrote',\n",
       " 'suffix': 'book</h2>\\n<h2>great'}"
      ]
     },
     "execution_count": 7,
     "metadata": {},
     "output_type": "execute_result"
    }
   ],
   "source": [
    "def SearchSeedInPage(author,title,url,line): # 在文章中搜索一个种子的元组对并记录事件\n",
    "    occurrence = {}\n",
    "    if author in line and title in line: # 作者和标题都在该行则记录事件,需要先判定是作者在前还是标题在前\n",
    "        posT = line.index(title)\n",
    "        posA = SearchNearest(author,posT,line) # 搜索离标题最近的作者位置\n",
    "        if(posA<posT): # 如果作者在前则为1，否则为0\n",
    "            order = 1\n",
    "            if posA-CONST_M>=0:\n",
    "                prefix = line[posA-CONST_M:posA] # 记录author前m个字符作为前缀\n",
    "            else:\n",
    "                prefix = line[:posA] # 如果前m个字符超出下界则m记为0\n",
    "            middle = line[posA+len(author):posT]\n",
    "            suffix = line[posT+len(title):posT+len(title)+CONST_M] # 记录title后m个字符作为后缀，后界不用if，因为默认超出len按len计算\n",
    "        else:\n",
    "            order = 0\n",
    "            if posT-CONST_M>=0:\n",
    "                prefix = line[posT-CONST_M:posT]\n",
    "            else:\n",
    "                prefix = line[:posT]\n",
    "            middle = line[posT+len(title):posA]\n",
    "            suffix = line[posA+len(author):posA+len(author)+CONST_M]\n",
    "        occurrence['author'] = author # 记录事件并返回\n",
    "        occurrence['title'] = title\n",
    "        occurrence['order'] = order\n",
    "        occurrence['url'] = url\n",
    "        occurrence['prefix'] = prefix.strip()\n",
    "        occurrence['middle'] = middle.strip()\n",
    "        occurrence['suffix'] = suffix.strip()\n",
    "        return occurrence\n",
    "    return None\n",
    "# print(seeds[0]['author'],seeds[0]['title'],data[0]['url'],data[0]['text'])\n",
    "occurrence = SearchSeedInPage(seeds[0]['author'],seeds[0]['title'],data[0]['url'],data[0]['text'])\n",
    "occurrence # 在第一个数据中搜索到的第一个种子"
   ]
  },
  {
   "cell_type": "code",
   "execution_count": 8,
   "metadata": {},
   "outputs": [
    {
     "data": {
      "text/plain": [
       "[{'author': 'Ernest Miller Hemingway',\n",
       "  'title': 'The Old Man and the Sea',\n",
       "  'order': 1,\n",
       "  'url': 'localhost/DIPRE/BestSeller.html',\n",
       "  'prefix': '>\\n<h2>famous writer',\n",
       "  'middle': 'wrote',\n",
       "  'suffix': 'book</h2>\\n<h2>great'},\n",
       " {'author': 'W. William Shakespeare',\n",
       "  'title': \"A Midsummer Night's Dream\",\n",
       "  'order': 1,\n",
       "  'url': 'localhost/DIPRE/BestSeller.html',\n",
       "  'prefix': '<h2>amazing writer',\n",
       "  'middle': 'wrote',\n",
       "  'suffix': 'book</h2>\\n</body>'},\n",
       " {'author': 'Charles Dickens',\n",
       "  'title': 'Pickwick Papers',\n",
       "  'order': 1,\n",
       "  'url': 'localhost/DIPRE/BestSeller.html',\n",
       "  'prefix': '<h2>amazing writer',\n",
       "  'middle': 'wrote',\n",
       "  'suffix': 'book</h2>\\n<h2>favor'},\n",
       " {'author': 'Nicholas Sparks',\n",
       "  'title': 'The Last Song',\n",
       "  'order': 1,\n",
       "  'url': 'localhost/DIPRE/BestSeller.html',\n",
       "  'prefix': '<h2>favorite writer',\n",
       "  'middle': 'wrote',\n",
       "  'suffix': 'book</h2>\\n<h2>amazi'},\n",
       " {'author': 'Charles Dickens',\n",
       "  'title': 'Great Expectations',\n",
       "  'order': 1,\n",
       "  'url': 'localhost/DIPRE/TopRated.html',\n",
       "  'prefix': '2>The famous writer',\n",
       "  'middle': 'wrote',\n",
       "  'suffix': 'book</h2>\\n</body>'},\n",
       " {'author': '林清玄',\n",
       "  'title': '在这坚硬的世界里,修得一颗柔软心',\n",
       "  'order': 1,\n",
       "  'url': 'e.dangdang.com/list-WX-dd_sale-0-1.html',\n",
       "  'prefix': 'v>\\n</a>\\n<a dd_name=\"',\n",
       "  'middle': '\"  target=\"_blank\" title=\"',\n",
       "  'suffix': '\">\\n<span class=\"book'},\n",
       " {'author': '兰陵笑笑生',\n",
       "  'title': '金瓶梅(全两册)(崇祯版)(简体横排、无批评)',\n",
       "  'order': 1,\n",
       "  'url': 'e.dangdang.com/list-WX-dd_sale-0-1.html',\n",
       "  'prefix': 'v>\\n</a>\\n<a dd_name=\"',\n",
       "  'middle': '\"  target=\"_blank\" title=\"',\n",
       "  'suffix': '\">\\n<span class=\"book'},\n",
       " {'author': '余华',\n",
       "  'title': '余华：我们生活在巨大的差距里',\n",
       "  'order': 1,\n",
       "  'url': 'e.dangdang.com/list-WX-dd_sale-0-1.html',\n",
       "  'prefix': 'v>\\n</a>\\n<a dd_name=\"',\n",
       "  'middle': '\"  target=\"_blank\" title=\"',\n",
       "  'suffix': '\">\\n<span class=\"book'}]"
      ]
     },
     "execution_count": 8,
     "metadata": {},
     "output_type": "execute_result"
    }
   ],
   "source": [
    "def SearchSeeds(): # 在所有数据中搜索所有种子\n",
    "    ouccurrences = [] # 事件列表\n",
    "    for seed in seeds:\n",
    "        for page in data:\n",
    "            occurrence = SearchSeedInPage(seed['author'],seed['title'],page['url'],page['text'])\n",
    "            if occurrence is not None:\n",
    "                ouccurrences.append(occurrence)\n",
    "    return ouccurrences\n",
    "occurrences = SearchSeeds()\n",
    "# occurrences[0]['order'] = 0\n",
    "occurrences # 在所有数据中搜索到的所有种子结果"
   ]
  },
  {
   "cell_type": "code",
   "execution_count": 9,
   "metadata": {},
   "outputs": [],
   "source": [
    "def GroupByUrl(lists): # 从已经通过order和middle分组的数据组中再通过网址进行分组\n",
    "    patterns = []\n",
    "    for each in lists:\n",
    "        each['url'] = each['url'].split('/')[0] # 切割分组后每组数据的url，取主网址\n",
    "    for url,items in groupby(lists,key = itemgetter('url')): # 再通过url主网址进行分组\n",
    "        lists = list(items)\n",
    "        if len(lists) > 1:\n",
    "            pattern = GetPrefixAndSuffix(lists)\n",
    "            if pattern is not None:\n",
    "                patterns.append(pattern) # 这里获取到的是一个模式集合，因此在列表中追加即可\n",
    "    return patterns"
   ]
  },
  {
   "cell_type": "code",
   "execution_count": 10,
   "metadata": {
    "scrolled": true
   },
   "outputs": [],
   "source": [
    "def GetPrefixAndSuffix(lists): # 经过order、middle和url的分组后，剩下的数据量大于1且不再分组，形成一个模式\n",
    "    prefix = lists[0]['prefix'] # 匹配每组数据中公共的前缀，不保证不为空\n",
    "    suffix = lists[0]['suffix']\n",
    "    pattern = {}\n",
    "    pattern['order'] = lists[0]['order']\n",
    "    pattern['middle'] = lists[0]['middle'].strip()\n",
    "    pattern['url'] = lists[0]['url']\n",
    "    for index in range(len(lists)-1,-1,-1):  # 这里的操作是默认前缀为第一个数据，然后与后面的数据进行匹配，在第一个数据的基础上做缩减操作\n",
    "        i = len(prefix)-1\n",
    "        j = len(lists[index]['prefix'])-1\n",
    "        while i>=0 and j>=0 and lists[index]['prefix'][j] == prefix[i]:\n",
    "            i = i-1\n",
    "            j = j-1\n",
    "        prefix = prefix[i+1:]\n",
    "        \n",
    "        m = 0\n",
    "        n = 0\n",
    "        while m<len(suffix) and n<len(lists[index]['suffix']) and lists[index]['suffix'][n] == suffix[m]:\n",
    "            m = m+1\n",
    "            n = n+1\n",
    "        suffix = suffix[:m]\n",
    "        del lists[index] # 用完后将事件删除，防止占用空间\n",
    "    pattern['prefix'] = prefix.strip()\n",
    "    pattern['suffix'] = suffix.strip()\n",
    "    if len(pattern['prefix']) and len(pattern['suffix']) and len(pattern['url']):\n",
    "        return pattern\n",
    "    return None"
   ]
  },
  {
   "cell_type": "code",
   "execution_count": 11,
   "metadata": {},
   "outputs": [
    {
     "name": "stdout",
     "output_type": "stream",
     "text": [
      "[{'order': 1, 'middle': 'wrote', 'url': 'localhost', 'prefix': 'writer', 'suffix': 'book</h2>\\n<'}, {'order': 1, 'middle': '\"  target=\"_blank\" title=\"', 'url': 'e.dangdang.com', 'prefix': 'v>\\n</a>\\n<a dd_name=\"', 'suffix': '\">\\n<span class=\"book'}]\n"
     ]
    }
   ],
   "source": [
    "def GroupByOrderAndMiddle(): # 通过order和middle进行分组，并对每组数据形成模式\n",
    "    patterns = []\n",
    "    occurrences.sort(key = itemgetter('order')) # 按照对order字段进行排序\n",
    "    for middle,items in groupby(occurrences,key = itemgetter('middle')): # groupby（）函数在每次迭代的时候，会返回一个分组后的分组值和一个迭代器对象，迭代器对象包含对应分组值的所有对象。\n",
    "        lists  = list(items) # 迭代器只能迭代一次，所以转化为列表进行操作\n",
    "        if len(lists) > 1: # 每类分组中需要至少两组数据才能形成模式\n",
    "            eachpatterns = GroupByUrl(lists) # 这里eachpatterns的结构为[{'a':'a','b':'b'},{'a':'c','b':'d'}]，因此需要用+做合并列表操作\n",
    "            patterns = patterns + eachpatterns\n",
    "    return patterns\n",
    "patterns = GroupByOrderAndMiddle()\n",
    "print(patterns)"
   ]
  },
  {
   "cell_type": "code",
   "execution_count": 13,
   "metadata": {},
   "outputs": [
    {
     "name": "stdout",
     "output_type": "stream",
     "text": [
      "添加成功\n",
      "蒙曼 蒙曼品最美唐诗：人生五味\n",
      "添加成功\n",
      "慈怀读书会 你最好的样子就是做自己\n",
      "添加成功\n",
      "蔡崇达 皮囊\n",
      "添加成功\n",
      "蒋方舟 东京一年\n",
      "添加成功\n",
      "慈怀读书会 把生活过成你想要的样子\n",
      "添加成功\n",
      "张岱 年轻人要熟知的4248个文化常识：夜航船(作家榜经典文库，贾平凹推荐！读过《夜航船》，灵魂才有趣！未删节插图珍藏版)大星文化出品\n",
      "添加成功\n",
      "上彊村民 宋词三百首(作家榜经典文库，马未都推荐版！直抵生活美学的源头，遇见内心向往的生活！全新未删节插图珍藏版)大星文化出品\n",
      "添加成功\n",
      "鲁迅 鲁迅自编文集（套装共21册）\n",
      "添加成功\n",
      "贾平凹 自在独行【百万册精装纪念版】\n",
      "添加成功\n",
      "（美）德博拉·海登,（英）乔治·奥威尔,鲁思·本尼迪克特 等 私家珍藏人文书库(套装共16册)\n",
      "添加成功\n",
      "（日）村上春树 假如真有时光机\n",
      "添加成功\n",
      "乔瑞玲 董卿：做一个有才情的女子\n",
      "添加成功\n",
      "于谦 玩儿\n",
      "添加成功\n",
      "海子 海子的诗\n",
      "添加成功\n",
      "冯唐 无所畏\n",
      "添加成功\n",
      "[日]村上春树(著);施小炜(译) 我的职业是小说家\n",
      "添加成功\n",
      "李诞 笑场\n"
     ]
    }
   ],
   "source": [
    "def FindBooksByPattern(MyPattern): # 通过一个模式在数据中查找书籍元组\n",
    "    for item in data:\n",
    "        if MyPattern['url'] in item['url']:\n",
    "            NewPattern = re.compile(MyPattern['prefix']+'(.*?)'+MyPattern['middle']+'(.*?)'+MyPattern['suffix'],re.I) # 忽略大小写进行查询\n",
    "            m = NewPattern.finditer(item['text'])\n",
    "            if m is not None:\n",
    "                for item in m:\n",
    "                    author = item.groups()[0].strip()\n",
    "                    title = item.groups()[1].strip()\n",
    "                    if FindSeed(author,title)==0:\n",
    "                        SaveSeed(author,title)\n",
    "                        print(author,title)\n",
    "FindBooksByPattern(patterns[1])"
   ]
  },
  {
   "cell_type": "code",
   "execution_count": 12,
   "metadata": {},
   "outputs": [
    {
     "data": {
      "text/plain": [
       "1"
      ]
     },
     "execution_count": 12,
     "metadata": {},
     "output_type": "execute_result"
    }
   ],
   "source": [
    "def SaveSeed(author,title): # 将查找到的书籍元组存储到数据库中\n",
    "    cursor = db.cursor()\n",
    "    sql = 'INSERT INTO seeds(author,title) VALUES (\"%s\",\"%s\")' % (author , title)\n",
    "    try:\n",
    "        cursor.execute(sql)\n",
    "        db.commit()\n",
    "        print(\"添加成功\")\n",
    "    except:\n",
    "        db.rollback()\n",
    "        print(\"添加失败\")\n",
    "    cursor.close()\n",
    "\n",
    "def FindSeed(author,title):\n",
    "    cursor = db.cursor()\n",
    "    sql = 'select * from seeds where author = \"%s\" and title = \"%s\"' % (author,title)\n",
    "    try:\n",
    "        cursor.execute(sql)\n",
    "        res = cursor.fetchone()\n",
    "        if res is not None:\n",
    "            return 1\n",
    "        else:\n",
    "            return 0\n",
    "    except:\n",
    "        db.rollback()\n",
    "    return 0\n",
    "\n",
    "FindSeed(\"W. William Shakespeare\",\"A Midsummer Night's Dream\")"
   ]
  },
  {
   "cell_type": "code",
   "execution_count": null,
   "metadata": {},
   "outputs": [],
   "source": [
    "def SavePattern(order,urlprefix,prefix,middle,suffix): # 将查找到的模式存储到数据库中\n",
    "    cursor = db.cursor()\n",
    "    sql = 'INSERT INTO patterns(order_p,urlprefix,prefix,middle,suffix) VALUES (\"%s\",\"%s\",\"%s\",\"%s\",\"%s\")' % (order,urlprefix,prefix,middle,suffix)\n",
    "    try:\n",
    "        cursor.execute(sql)\n",
    "        db.commit()\n",
    "        print(\"添加成功\")\n",
    "    except:\n",
    "        db.rollback()\n",
    "        print(\"添加失败\")\n",
    "    cursor.close()\n",
    "\n",
    "def FindPattern(order,urlprefix,prefix,middle,suffix):\n",
    "    cursor = db.cursor()\n",
    "    sql = 'select * from patterns where order_p = %d and urlprefix = \"%s\" and prefix = \"%s\" and middle = \"%s\" and suffix = \"%s\"' % (order,urlprefix,prefix,middle,suffix)\n",
    "    print(sql)\n",
    "    try:\n",
    "        cursor.execute(sql)\n",
    "        res = cursor.fetchone()\n",
    "        if res is not None:\n",
    "            return 1\n",
    "        else:\n",
    "            return 0\n",
    "    except:\n",
    "        db.rollback()\n",
    "    return 0\n",
    "\n",
    "FindPattern(patterns[0]['order'],patterns[0]['url'],patterns[0]['prefix'],patterns[0]['middle'],patterns[0]['suffix'])"
   ]
  },
  {
   "cell_type": "code",
   "execution_count": null,
   "metadata": {},
   "outputs": [],
   "source": [
    "string = \"The famous writer a Ernest Miller Hemingway wrote The Old Man and the Sea book The great writer Jonathan Swift wrote GULLIVER’S TRAVELS book the amazing writer Charles Dickens wrote Pickwick Papers bookThe great writer\"\n",
    "pattern = re.compile(r\"the(.*?)writer(.*?)wrote\",re.I) # 'r'是防止字符转义的 如果路径中出现'\\t'的话 不加r的话\\t就会被转义 而加了'r'之后'\\t'就能保留原有的样子\n",
    "m = pattern.finditer(string)\n",
    "for item in m:\n",
    "    print(item.groups())\n",
    "\n",
    "# res = re.findall(\"the(.*?)writer(.*?)wrote\",string,re.I)\n",
    "# print(res)\n",
    "      \n",
    "# content = 'Hello 123456789 Word_This is just a test 666 Test'\n",
    "# result = re.search('(\\d+).*?(\\d+).*', content)\n",
    "# print(result)\n",
    "# print(result.group())    # print(result.group(0)) 同样效果字符串\n",
    "# print(result.groups())\n",
    "# print(result.group(1))\n",
    "# print(result.group(2))"
   ]
  },
  {
   "cell_type": "code",
   "execution_count": null,
   "metadata": {},
   "outputs": [],
   "source": [
    "def funcs():\n",
    "    a = 1\n",
    "test = [{'a':'a'}]\n",
    "ap = {}\n",
    "test.append(funcs())\n",
    "print(test)"
   ]
  },
  {
   "cell_type": "code",
   "execution_count": null,
   "metadata": {},
   "outputs": [],
   "source": [
    "def TestGetPrefix(a,b): # 测试获取前缀\n",
    "    i = len(a)-1\n",
    "    j = len(b)-1\n",
    "    while i>=0 and j>=0 and a[i] == b[j]: # 不匹配跳出不算a[i]，i=-1跳出也不算a[i]，但a[i]==b[j]需要放在后面判断\n",
    "        i = i-1\n",
    "        j = j-1\n",
    "    a = a[i+1:]\n",
    "    print(a)\n",
    "TestGetPrefix('ahe famous writer','The famous writer Ernest Miller Hemingway wrote The Old Man and the Sea book The great writer Jonathan Swift wrote GULLIVER’S TRAVELS book The amazing writer Charles Dickens wrote Pickwick Papers bookThe The fThe famous writer')"
   ]
  },
  {
   "cell_type": "code",
   "execution_count": null,
   "metadata": {},
   "outputs": [],
   "source": [
    "def TestGetSuffix(a,b): # 测试获取后缀\n",
    "    i = 0\n",
    "    j = 0\n",
    "    while i<len(a) and j<len(b) and a[i] == b[j]: # 若a[i]不匹配，则为a[:i]即之前，若a[len(a)-1]匹配，则i=len(a)也可，但是注意a[i]==b[j]需要放在后面判断\n",
    "        i = i+1\n",
    "        j = j+1\n",
    "    a = a[:i]\n",
    "    print(a)\n",
    "TestGetSuffix('The famous writer a','The famous writer a Ernest Miller Hemingway wrote The Old Man and the Sea book The great writer Jonathan Swift wrote GULLIVER’S TRAVELS book The amazing writer Charles Dickens wrote Pickwick Papers bookThe great writer')"
   ]
  },
  {
   "cell_type": "code",
   "execution_count": null,
   "metadata": {},
   "outputs": [],
   "source": [
    "lists = [1,1,1,1]\n",
    "def a(s): # python函数中没有形参和实参之分，变量在函数中被改变了也会在函数外生效\n",
    "    s[0]=3\n",
    "a(lists)\n",
    "print(lists)"
   ]
  },
  {
   "cell_type": "code",
   "execution_count": null,
   "metadata": {},
   "outputs": [],
   "source": [
    "def delop(data): # 从后往前遍历并删除\n",
    "    for i in range(len(data)-1,-1,-1):\n",
    "        del data[i]\n",
    "delop(data)\n",
    "# print(len(data))\n",
    "print(data)"
   ]
  },
  {
   "cell_type": "code",
   "execution_count": null,
   "metadata": {},
   "outputs": [],
   "source": []
  }
 ],
 "metadata": {
  "kernelspec": {
   "display_name": "Python 3",
   "language": "python",
   "name": "python3"
  },
  "language_info": {
   "codemirror_mode": {
    "name": "ipython",
    "version": 3
   },
   "file_extension": ".py",
   "mimetype": "text/x-python",
   "name": "python",
   "nbconvert_exporter": "python",
   "pygments_lexer": "ipython3",
   "version": "3.7.0"
  }
 },
 "nbformat": 4,
 "nbformat_minor": 2
}
