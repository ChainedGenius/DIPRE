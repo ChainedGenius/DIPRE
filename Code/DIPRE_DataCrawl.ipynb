{
 "cells": [
  {
   "cell_type": "code",
   "execution_count": 1,
   "metadata": {},
   "outputs": [],
   "source": [
    "# encoding:utf-8\n",
    "import pymysql\n",
    "import requests\n",
    "import MySQLdb\n",
    "from bs4 import BeautifulSoup\n",
    "db = pymysql.connect(\"localhost\",\"root\",\"\",\"DIPRE\" ) # 连接数据库\n",
    "cursor = db.cursor()\n",
    "cursor.close()"
   ]
  },
  {
   "cell_type": "code",
   "execution_count": 6,
   "metadata": {},
   "outputs": [],
   "source": [
    "def SaveSeed(href): # 将查找到的书籍元组存储到数据库中\n",
    "    cursor = db.cursor()\n",
    "    sql = \"INSERT INTO webpage(url) VALUES ('%s')\" % (href)\n",
    "    try:\n",
    "        cursor.execute(sql)\n",
    "        db.commit()\n",
    "    except:\n",
    "        db.rollback()\n",
    "    cursor.close()"
   ]
  },
  {
   "cell_type": "code",
   "execution_count": 7,
   "metadata": {},
   "outputs": [],
   "source": [
    "def FindHrefIndiv(href,divname):\n",
    "    html = requests.get(href)\n",
    "    soup = BeautifulSoup(html.text)\n",
    "    body = soup.body\n",
    "    div = body.find('div',divname)\n",
    "    for a in div.find_all('a'):\n",
    "        SaveSeed(a['href'])\n",
    "FindHrefIndiv('http://e.dangdang.com/index_page.html','bookclass_box')"
   ]
  },
  {
   "cell_type": "code",
   "execution_count": null,
   "metadata": {},
   "outputs": [],
   "source": []
  }
 ],
 "metadata": {
  "kernelspec": {
   "display_name": "Python 3",
   "language": "python",
   "name": "python3"
  },
  "language_info": {
   "codemirror_mode": {
    "name": "ipython",
    "version": 3
   },
   "file_extension": ".py",
   "mimetype": "text/x-python",
   "name": "python",
   "nbconvert_exporter": "python",
   "pygments_lexer": "ipython3",
   "version": "3.7.0"
  }
 },
 "nbformat": 4,
 "nbformat_minor": 2
}
