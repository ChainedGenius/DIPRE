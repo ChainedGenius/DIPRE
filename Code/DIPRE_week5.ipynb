{
 "cells": [
  {
   "cell_type": "code",
   "execution_count": 1,
   "metadata": {},
   "outputs": [],
   "source": [
    "import re\n",
    "import pymysql\n",
    "import requests\n",
    "from bs4 import BeautifulSoup\n",
    "from operator import itemgetter\n",
    "from itertools import groupby\n",
    "CONST_M = 20 # 定义常量m，在记录事件时使用\n",
    "db = pymysql.connect(\"localhost\",\"root\",\"\",\"DIPRE\" ) # 连接数据库\n",
    "cursor = db.cursor()\n",
    "cursor.close()"
   ]
  },
  {
   "cell_type": "code",
   "execution_count": 2,
   "metadata": {},
   "outputs": [],
   "source": [
    "def CrawlWeb(path):\n",
    "    html = requests.get(path)\n",
    "    soup = BeautifulSoup(html.text)\n",
    "    body = soup.body\n",
    "    return str(body) # 这里一定要注意转化成字符串，不然返回的是soup对象\n",
    "\n",
    "def DelHrefInString(string):\n",
    "    return re.sub('href=\"(.*?)\"',\"\",string)"
   ]
  },
  {
   "cell_type": "code",
   "execution_count": 3,
   "metadata": {},
   "outputs": [],
   "source": [
    "def GetData(): # 获取数据库中未处理的网页，以列表—字典的形式返回\n",
    "    cursor = db.cursor()\n",
    "    sql = \"select * from webpage where mark = 0\"\n",
    "    data = []\n",
    "    try:\n",
    "        cursor.execute(sql)\n",
    "        results = cursor.fetchall()\n",
    "        for row in results:\n",
    "            each = {}\n",
    "            each['id'] = row[0]\n",
    "            each['url'] = row[1]\n",
    "            #each['text'] = DelHrefInString(CrawlWeb(row[1]))\n",
    "            #each['url'] = row[1].lstrip('http://').lstrip('https://') # 截取掉http后获取URL\n",
    "            data.append(each)\n",
    "    except:\n",
    "        db.rollback()\n",
    "    cursor.close()\n",
    "    return data"
   ]
  },
  {
   "cell_type": "code",
   "execution_count": 4,
   "metadata": {},
   "outputs": [
    {
     "data": {
      "text/plain": [
       "[{'id': 20, 'author': 'Jonathan Swift', 'title': 'GULLIVERâ\\x80\\x99S TRAVELS'},\n",
       " {'id': 21, 'author': 'Charles Dickens', 'title': 'Pickwick Papers'},\n",
       " {'id': 22, 'author': 'Nicholas Sparks', 'title': 'The Last Song'},\n",
       " {'id': 23, 'author': 'Charles Dickens', 'title': 'Great Expectations'},\n",
       " {'id': 27, 'author': 'Adams, Richard', 'title': 'Plague Dogs'},\n",
       " {'id': 28,\n",
       "  'author': 'Barry, John, Shepherd, Nigel',\n",
       "  'title': 'Rock Climbing (Adventure Sports)'},\n",
       " {'id': 29,\n",
       "  'author': 'David Hays, Daniel Hays',\n",
       "  'title': 'My Old Man and the Sea: A Father and Son Sail Around Cape Horn'},\n",
       " {'id': 60, 'author': '海子', 'title': '海子的诗'},\n",
       " {'id': 61, 'author': '冯唐', 'title': '无所畏'},\n",
       " {'id': 62, 'author': '[日]村上春树(著);施小炜(译)', 'title': '我的职业是小说家'},\n",
       " {'id': 63, 'author': '李诞', 'title': '笑场'},\n",
       " {'id': 67,\n",
       "  'author': 'Ernest Miller Hemingway',\n",
       "  'title': 'The Old Man and the Sea'},\n",
       " {'id': 68, 'author': 'Jonathan Swift', 'title': 'GULLIVER`S TRAVELS'}]"
      ]
     },
     "execution_count": 4,
     "metadata": {},
     "output_type": "execute_result"
    }
   ],
   "source": [
    "def GetSeeds(): # 获取数据库中的所有种子\n",
    "    cursor = db.cursor()\n",
    "    sql = \"select * from seeds\"\n",
    "    seeds = []\n",
    "    try:\n",
    "        cursor.execute(sql)\n",
    "        results = cursor.fetchall()\n",
    "        for row in results:\n",
    "            each = {}\n",
    "            each['id'] = row[0]\n",
    "            each['author'] = row[1]\n",
    "            each['title'] = row[2]\n",
    "            seeds.append(each)\n",
    "    except:\n",
    "        db.rollback()\n",
    "    cursor.close()\n",
    "    return seeds\n",
    "seeds = GetSeeds()\n",
    "seeds"
   ]
  },
  {
   "cell_type": "code",
   "execution_count": 5,
   "metadata": {},
   "outputs": [],
   "source": [
    "def GetPatterns(): # 获取数据库中的所有模式\n",
    "    cursor = db.cursor()\n",
    "    sql = \"select * from patterns\"\n",
    "    patterns = []\n",
    "    try:\n",
    "        cursor.execute(sql)\n",
    "        results = cursor.fetchall()\n",
    "        for row in results:\n",
    "            each = {}\n",
    "            each['id'] = row[0]\n",
    "            each['order'] = row[1]\n",
    "            each['urlprefix'] = row[2]\n",
    "            each['prefix'] = row[3]\n",
    "            each['middle'] = row[4]\n",
    "            each['suffix'] = row[5]\n",
    "            patterns.append(each)\n",
    "    except:\n",
    "        db.rollback()\n",
    "    cursor.close()\n",
    "    return patterns"
   ]
  },
  {
   "cell_type": "code",
   "execution_count": 6,
   "metadata": {},
   "outputs": [],
   "source": [
    "def SaveSeed(author,title): # 将查找到的书籍元组存储到数据库中\n",
    "    cursor = db.cursor()\n",
    "    sql = 'INSERT INTO seeds(author,title) VALUES (\"%s\",\"%s\")' % (author , title)\n",
    "    try:\n",
    "        cursor.execute(sql)\n",
    "        db.commit()\n",
    "        print(\"添加成功\")\n",
    "    except:\n",
    "        db.rollback()\n",
    "        print(\"添加失败\")\n",
    "    cursor.close()\n",
    "\n",
    "def FindSeed(author,title):\n",
    "    cursor = db.cursor()\n",
    "    sql = 'select * from seeds where author = \"%s\" and title = \"%s\"' % (author,title)\n",
    "    try:\n",
    "        cursor.execute(sql)\n",
    "        res = cursor.fetchone()\n",
    "        if res is not None:\n",
    "            return 1\n",
    "        else:\n",
    "            return 0\n",
    "    except:\n",
    "        db.rollback()\n",
    "    return 0\n",
    "\n",
    "def SavePattern(order,urlprefix,prefix,middle,suffix): # 将查找到的模式存储到数据库中\n",
    "    cursor = db.cursor()\n",
    "    sql = 'INSERT INTO patterns(order_p,urlprefix,prefix,middle,suffix) VALUES (\"%s\",\"%s\",\"%s\",\"%s\",\"%s\")' % (order,urlprefix,prefix,middle,suffix)\n",
    "    try:\n",
    "        cursor.execute(sql)\n",
    "        db.commit()\n",
    "        print(\"添加成功\")\n",
    "    except:\n",
    "        db.rollback()\n",
    "        print(\"添加失败\")\n",
    "    cursor.close()\n",
    "\n",
    "def FindPattern(order,urlprefix,prefix,middle,suffix):\n",
    "    cursor = db.cursor()\n",
    "    sql = 'select * from patterns where order_p = %d and urlprefix = \"%s\" and prefix = \"%s\" and middle = \"%s\" and suffix = \"%s\"' % (order,urlprefix,prefix,middle,suffix)\n",
    "    print(sql)\n",
    "    try:\n",
    "        cursor.execute(sql)\n",
    "        res = cursor.fetchone()\n",
    "        if res is not None:\n",
    "            return 1\n",
    "        else:\n",
    "            return 0\n",
    "    except:\n",
    "        db.rollback()\n",
    "    return 0\n",
    "\n",
    "def MarkPage(id): # 通过ID标记一个网页已经搜索完成\n",
    "    cursor = db.cursor()\n",
    "    sql = \"update webpage set mark=1 where id = %d\" % (id)\n",
    "    try:\n",
    "        cursor.execute(sql)\n",
    "        db.commit()\n",
    "        print(\"修改成功\")\n",
    "    except:\n",
    "        db.rollback()\n",
    "        print(\"修改失败\")\n",
    "    cursor.close()"
   ]
  },
  {
   "cell_type": "code",
   "execution_count": 7,
   "metadata": {},
   "outputs": [],
   "source": [
    "def FindBooksByPattern(pattern,text): # 通过一个模式在网页数据中查找元组并返回存储\n",
    "    NewPattern = re.compile(pattern['prefix']+'(.*?)'+pattern['middle']+'(.*?)'+pattern['suffix'],re.I) # 忽略大小写进行查询\n",
    "    m = NewPattern.finditer(text)\n",
    "    if m is not None:\n",
    "        for item in m:\n",
    "            author = item.groups()[0].strip()\n",
    "            title = item.groups()[1].strip()\n",
    "            print(author,title)\n",
    "            if FindSeed(author,title) == 0:\n",
    "                SaveSeed(author,title)\n",
    "        return 1 # 查找到了则返回1\n",
    "    return None # 没有找到返回空"
   ]
  },
  {
   "cell_type": "code",
   "execution_count": 8,
   "metadata": {},
   "outputs": [],
   "source": [
    "def SearchNearest(author,posTitle,string): # 查询文本中，取离title最近的author\n",
    "    pattern = re.compile(author,re.I) # 忽略大小写进行查询\n",
    "    m = pattern.finditer(string)\n",
    "    minDistance = len(string)\n",
    "    posAuthor = string.index(author)\n",
    "    for item in m:\n",
    "        dis = item.span()[0] - posTitle\n",
    "        if dis < 0:\n",
    "            dis = -dis\n",
    "        if dis < minDistance:\n",
    "            minDistance = dis\n",
    "            posAuthor = item.span()[0]\n",
    "    return posAuthor\n",
    "# pos = SearchNearest('余华',6,data[1]['text'])\n",
    "# print(data[1]['text'][pos-10:pos+10])"
   ]
  },
  {
   "cell_type": "code",
   "execution_count": 10,
   "metadata": {},
   "outputs": [],
   "source": [
    "def GetMatchPattern(patterns,url): #查询某个网页是否有匹配的模式，返回匹配的第一个模式\n",
    "    if patterns is None: # None不能进行迭代\n",
    "        return None\n",
    "    for item in patterns:\n",
    "        if item['urlprefix'] in url:\n",
    "            return item\n",
    "    return None"
   ]
  },
  {
   "cell_type": "code",
   "execution_count": 11,
   "metadata": {},
   "outputs": [],
   "source": [
    "def SearchSeedInPage(author,title,url,line): # 在文章中搜索一个种子的元组对并记录事件\n",
    "    occurrence = {}\n",
    "    if author in line and title in line: # 作者和标题都在该行则记录事件,需要先判定是作者在前还是标题在前\n",
    "        posT = line.index(title)\n",
    "#         posA = line.index(author)\n",
    "        posA = SearchNearest(author,posT,line) # 搜索离标题最近的作者位置\n",
    "        if(posA<posT): # 如果作者在前则为1，否则为0\n",
    "            order = 1\n",
    "            if posA-CONST_M>=0:\n",
    "                prefix = line[posA-CONST_M:posA] # 记录author前m个字符作为前缀\n",
    "            else:\n",
    "                prefix = line[:posA] # 如果前m个字符超出下界则m记为0\n",
    "            middle = line[posA+len(author):posT]\n",
    "            suffix = line[posT+len(title):posT+len(title)+CONST_M] # 记录title后m个字符作为后缀，后界不用if，因为默认超出len按len计算\n",
    "        else:\n",
    "            order = 0\n",
    "            if posT-CONST_M>=0:\n",
    "                prefix = line[posT-CONST_M:posT]\n",
    "            else:\n",
    "                prefix = line[:posT]\n",
    "            middle = line[posT+len(title):posA]\n",
    "            suffix = line[posA+len(author):posA+len(author)+CONST_M]\n",
    "        occurrence['author'] = author # 记录事件并返回\n",
    "        occurrence['title'] = title\n",
    "        occurrence['order'] = order\n",
    "        occurrence['url'] = url\n",
    "        occurrence['prefix'] = prefix.strip()\n",
    "        occurrence['middle'] = middle.strip()\n",
    "        occurrence['suffix'] = suffix.strip()\n",
    "        return occurrence\n",
    "    return None"
   ]
  },
  {
   "cell_type": "code",
   "execution_count": 12,
   "metadata": {},
   "outputs": [],
   "source": [
    "def SearchSeedsInText(seeds,page): # 在一个数据中搜索所有种子\n",
    "    occurrences = [] # 事件列表\n",
    "    for seed in seeds:\n",
    "        occurrence = SearchSeedInPage(seed['author'],seed['title'],page['url'],page['text'])\n",
    "        if occurrence is not None:\n",
    "            occurrences.append(occurrence)\n",
    "    return occurrences"
   ]
  },
  {
   "cell_type": "code",
   "execution_count": null,
   "metadata": {},
   "outputs": [],
   "source": [
    "def FormPattern(occurrences): # 利用查找到的事件形成模式\n",
    "    return None"
   ]
  },
  {
   "cell_type": "code",
   "execution_count": 13,
   "metadata": {},
   "outputs": [
    {
     "name": "stdout",
     "output_type": "stream",
     "text": [
      "[{'author': '海子', 'title': '海子的诗', 'order': 0, 'url': 'http://e.dangdang.com/list-WX-dd_sale-0-1.html', 'prefix': 'get=\"_blank\" title=\"', 'middle': '', 'suffix': '的诗\">\\n<span class=\"bo'}, {'author': '冯唐', 'title': '无所畏', 'order': 1, 'url': 'http://e.dangdang.com/list-WX-dd_sale-0-1.html', 'prefix': 'v>\\n</a>\\n<a dd_name=\"', 'middle': '\"  target=\"_blank\" title=\"', 'suffix': '\">\\n<span class=\"book'}, {'author': '[日]村上春树(著);施小炜(译)', 'title': '我的职业是小说家', 'order': 1, 'url': 'http://e.dangdang.com/list-WX-dd_sale-0-1.html', 'prefix': 'v>\\n</a>\\n<a dd_name=\"', 'middle': '\"  target=\"_blank\" title=\"', 'suffix': '\">\\n<span class=\"book'}, {'author': '李诞', 'title': '笑场', 'order': 1, 'url': 'http://e.dangdang.com/list-WX-dd_sale-0-1.html', 'prefix': 'v>\\n</a>\\n<a dd_name=\"', 'middle': '\"  target=\"_blank\" title=\"', 'suffix': '\">\\n<span class=\"book'}]\n",
      "[{'author': 'Charles Dickens', 'title': 'Great Expectations', 'order': 1, 'url': 'http://localhost/DIPRE/TopRated.html', 'prefix': '2>The famous writer', 'middle': 'wrote', 'suffix': 'book</h2>\\n</body>'}]\n"
     ]
    }
   ],
   "source": [
    "if __name__ == '__main__': \n",
    "    patterns = GetPatterns()\n",
    "    data = GetData() # 获取所有没有被处理过的数据\n",
    "    seeds = GetSeeds() # 获取所有种子\n",
    "    \n",
    "    for index in range(len(data)-1,-1,-1): # 因为中途需要删除数据，所以从后往前遍历\n",
    "        \n",
    "        data[index]['text'] = DelHrefInString(CrawlWeb(data[index]['url']))\n",
    "        match_pattern = GetMatchPattern(patterns,data[index]['url']) # 对于每组数据，首先查找是否有现有匹配模式\n",
    "        if match_pattern is not None: # 如果有匹配模式，则用匹配模式查询该数据（后续可以改为如果有多种匹配模式，则使用第一个能查找到结果的匹配模式）\n",
    "            if FindBooksByPattern(match_pattern,data[index]['text']) is not None: # 如果利用匹配模式查询的结果不为空\n",
    "                MarkPage(data[i]['id']) # 标记该网页已查询\n",
    "                del data[index] # 在内存中删除处理过的数据\n",
    "                continue # 处理下一个网页\n",
    "                \n",
    "#         # 如果没有匹配的模式，或者利用匹配模式查出来的结果为空，则进行以下步骤\n",
    "        occurrences = SearchSeedsInText(seeds,data[index]) # 在该条数据中搜索所有种子对，并记录成事件集\n",
    "        print(occurrences)\n",
    "        if occurrences is not None:\n",
    "            if len(occurrences)<2: # 如果种子查询个数仅仅为1，则无法形成事件（后续改为存储到数据库中）\n",
    "                continue\n",
    "            \n",
    "        \n",
    "    "
   ]
  },
  {
   "cell_type": "code",
   "execution_count": null,
   "metadata": {},
   "outputs": [],
   "source": []
  },
  {
   "cell_type": "code",
   "execution_count": null,
   "metadata": {},
   "outputs": [],
   "source": []
  }
 ],
 "metadata": {
  "kernelspec": {
   "display_name": "Python 3",
   "language": "python",
   "name": "python3"
  },
  "language_info": {
   "codemirror_mode": {
    "name": "ipython",
    "version": 3
   },
   "file_extension": ".py",
   "mimetype": "text/x-python",
   "name": "python",
   "nbconvert_exporter": "python",
   "pygments_lexer": "ipython3",
   "version": "3.7.0"
  }
 },
 "nbformat": 4,
 "nbformat_minor": 2
}
